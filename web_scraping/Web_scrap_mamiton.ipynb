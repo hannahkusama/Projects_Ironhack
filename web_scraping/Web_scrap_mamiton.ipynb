{
 "cells": [
  {
   "cell_type": "code",
   "execution_count": null,
   "metadata": {},
   "outputs": [],
   "source": [
    "import pandas as pd\n",
    "import requests as r\n",
    "from bs4 import BeautifulSoup\n",
    "import re"
   ]
  },
  {
   "cell_type": "code",
   "execution_count": null,
   "metadata": {},
   "outputs": [],
   "source": [
    "url='https://www.marmiton.org/recettes/recette_tacos-mexicains_34389.aspx'"
   ]
  },
  {
   "cell_type": "code",
   "execution_count": null,
   "metadata": {},
   "outputs": [],
   "source": [
    "r.get(url)"
   ]
  },
  {
   "cell_type": "code",
   "execution_count": null,
   "metadata": {},
   "outputs": [],
   "source": [
    "soup=BeautifulSoup(r.get(url).content)"
   ]
  },
  {
   "cell_type": "code",
   "execution_count": null,
   "metadata": {},
   "outputs": [],
   "source": []
  },
  {
   "cell_type": "code",
   "execution_count": null,
   "metadata": {},
   "outputs": [],
   "source": [
    "list_of selectors=['h1','div.recipe-author__author>span','div.recipe-infos-users__rate__stars>span','ul.mrtn-tags-list>li','span.recipe-infos-users__value','div.recipe-infos,div.recipe-infos__timmings__detail','div.recipe-infos__timmings__cooking,div.recipe-infos__timmings__preparation']"
   ]
  },
  {
   "cell_type": "code",
   "execution_count": null,
   "metadata": {},
   "outputs": [],
   "source": [
    "#Recipe Name\n",
    "soup.select('h1')[0].text"
   ]
  },
  {
   "cell_type": "code",
   "execution_count": null,
   "metadata": {},
   "outputs": [],
   "source": [
    "#Author name\n",
    "soup.select('div.recipe-author__author>span')[0].text.strip('\\n ')"
   ]
  },
  {
   "cell_type": "code",
   "execution_count": null,
   "metadata": {},
   "outputs": [],
   "source": [
    "#recipe note\n",
    "soup.select('div.recipe-infos-users__rate__stars>span')[0].text"
   ]
  },
  {
   "cell_type": "code",
   "execution_count": null,
   "metadata": {},
   "outputs": [],
   "source": [
    "#tags ('entrée, 'plat unique','plats mexicains)\n",
    "[i.text for i in soup.select('ul.mrtn-tags-list>li')]"
   ]
  },
  {
   "cell_type": "code",
   "execution_count": null,
   "metadata": {},
   "outputs": [],
   "source": [
    "#Nb likes\n",
    "soup.select('span.recipe-infos-users__value')[1].text"
   ]
  },
  {
   "cell_type": "code",
   "execution_count": null,
   "metadata": {},
   "outputs": [],
   "source": [
    "#Nb of portions\n",
    "[i.replace('\\n',' ') for i in soup.select('div.recipe-infos,div.recipe-infos__timmings__detail')[0].text.split('\\n\\n') if len(i)>1]"
   ]
  },
  {
   "cell_type": "code",
   "execution_count": null,
   "metadata": {},
   "outputs": [],
   "source": [
    "#cooking time  preparation,cuisonn\n",
    "[re.sub('\\t|\\n|\\xa0','',i.text) for i in soup.select('div.recipe-infos__timmings__cooking,div.recipe-infos__timmings__preparation')]\n"
   ]
  },
  {
   "cell_type": "code",
   "execution_count": null,
   "metadata": {},
   "outputs": [],
   "source": [
    "#Ingredients\n",
    "[i.text.strip().replace('\\n','') for i in soup.select('li.recipe-ingredients__list__item')]"
   ]
  },
  {
   "cell_type": "code",
   "execution_count": null,
   "metadata": {},
   "outputs": [],
   "source": [
    "#Ustensiles\n",
    "[re.sub('\\n\\n|\\t*',' ',i.text) for i in soup.select('ul.recipe-utensils__list')]"
   ]
  },
  {
   "cell_type": "code",
   "execution_count": null,
   "metadata": {},
   "outputs": [],
   "source": [
    "[i.text for i in soup.select('ul.recipe-utensils__list')]"
   ]
  },
  {
   "cell_type": "code",
   "execution_count": null,
   "metadata": {},
   "outputs": [],
   "source": [
    "# recipe\n",
    "re.sub('\\t|\\n','',soup.select('ol.recipe-preparation__list')[0].text)"
   ]
  },
  {
   "cell_type": "code",
   "execution_count": null,
   "metadata": {},
   "outputs": [],
   "source": []
  },
  {
   "cell_type": "code",
   "execution_count": null,
   "metadata": {},
   "outputs": [],
   "source": [
    "url1='https://www.marmiton.org/recettes/recherche.aspx?type=all&aqt=&start=50&page=4'"
   ]
  },
  {
   "cell_type": "code",
   "execution_count": null,
   "metadata": {},
   "outputs": [],
   "source": [
    "soup1=BeautifulSoup(r.get(url1).content)"
   ]
  },
  {
   "cell_type": "code",
   "execution_count": null,
   "metadata": {},
   "outputs": [],
   "source": [
    "[i['href'] for i in soup1.select('a.recipe-card-link')]\n"
   ]
  },
  {
   "cell_type": "markdown",
   "metadata": {},
   "source": [
    "# Code aggregation"
   ]
  },
  {
   "cell_type": "code",
   "execution_count": null,
   "metadata": {},
   "outputs": [],
   "source": [
    "# 14 recipes per page with page from no figure then 2 to 833\n",
    "#https://www.marmiton.org/recettes/recherche.aspx?type=all&aqt=&start=10004&page=833"
   ]
  },
  {
   "cell_type": "code",
   "execution_count": 12,
   "metadata": {},
   "outputs": [
    {
     "name": "stdout",
     "output_type": "stream",
     "text": [
      "['https://www.marmiton.org/recettes/recherche.aspx?type=all&aqt=&start=4&page=1']\n"
     ]
    }
   ],
   "source": [
    "#liste of links for the pages - start with 5pages to test before launching 833 pages...\n",
    "# pb le site change de pattern de pagination \n",
    "def List_urls(NbPages):\n",
    "    urls=[]\n",
    "    for i in range(0,NbPages):\n",
    "        url=f'https://www.marmiton.org/recettes/recherche.aspx?type=all&aqt=&start={4+14*i}&page={i+1}'\n",
    "        urls.append(url)\n",
    "        i+=1\n",
    "    return urls\n",
    "\n",
    "page_urls=List_urls(1)    \n",
    "print(page_urls)"
   ]
  },
  {
   "cell_type": "code",
   "execution_count": 7,
   "metadata": {},
   "outputs": [
    {
     "data": {
      "text/plain": [
       "['https://www.marmiton.org/recettes/recette_original-american-cookies-de-mike_39907.aspx',\n",
       " 'https://www.marmiton.org/recettes/recette_blanquette-de-veau-facile_19219.aspx',\n",
       " 'https://www.marmiton.org/recettes/recette_le-crumble-aux-pommes-du-chat-qui-tousse_10534.aspx',\n",
       " 'https://www.marmiton.org/recettes/recette_gateau-au-yaourt_12719.aspx',\n",
       " 'https://www.marmiton.org/recettes/recette_veritable-moelleux-au-chocolat_12825.aspx',\n",
       " 'https://www.marmiton.org/recettes/recette_les-timbales-de-jeanne-saumon-a-la-mousse-de-courgettes-au-micro-ondes_21864.aspx',\n",
       " 'https://www.marmiton.org/recettes/recette_gateau-aux-pommes-facile_13493.aspx',\n",
       " 'https://www.marmiton.org/recettes/recette_meringue-pour-les-nuls_36610.aspx',\n",
       " 'https://www.marmiton.org/recettes/recette_pancakes_15299.aspx',\n",
       " 'https://www.marmiton.org/recettes/recette_cookie-cup-glace-vanille-et-pepites-de-chocolat_372241.aspx',\n",
       " 'https://www.marmiton.org/recettes/recette_filet-mignon-en-croute_14407.aspx',\n",
       " 'https://www.marmiton.org/recettes/recette_galette-des-rois_10832.aspx',\n",
       " 'https://www.marmiton.org/recettes/recette_fondant-au-chocolat_15025.aspx',\n",
       " 'https://www.marmiton.org/recettes/recette_cookies-surprise-au-coeur-de-chocolat_371434.aspx',\n",
       " 'https://www.marmiton.org/recettes/recette_chouquettes_30622.aspx',\n",
       " 'https://www.marmiton.org/recettes/recette_gateau-au-chocolat-des-ecoliers_20654.aspx',\n",
       " 'https://www.marmiton.org/recettes/recette_lasagnes-a-la-bolognaise_18215.aspx',\n",
       " 'https://www.marmiton.org/recettes/recette_mousse-au-chocolat-facile_13585.aspx',\n",
       " 'https://www.marmiton.org/recettes/recette_spritz-dolce_392358.aspx',\n",
       " 'https://www.marmiton.org/recettes/recette_gateau-au-chocolat-fondant-rapide_166352.aspx',\n",
       " 'https://www.marmiton.org/recettes/recette_flan-patissier-traditionnel_15330.aspx',\n",
       " 'https://www.marmiton.org/recettes/recette_canneles-bordelais_11439.aspx',\n",
       " 'https://www.marmiton.org/recettes/recette_tarte-chocolat-poires-facile_14023.aspx',\n",
       " 'https://www.marmiton.org/recettes/recette_choux-feuilletes-creme-au-chocolat-au-lait-et-smarties_371458.aspx',\n",
       " 'https://www.marmiton.org/recettes/recette_pain-d-epices_11087.aspx',\n",
       " 'https://www.marmiton.org/recettes/recette_pate-a-crepes-simple_27121.aspx',\n",
       " 'https://www.marmiton.org/recettes/recette_cheese-cake-gateau-au-fromage-blanc-inratable_20518.aspx',\n",
       " 'https://www.marmiton.org/recettes/recette_gateau-nid-de-paques-au-chocolat_371459.aspx',\n",
       " 'https://www.marmiton.org/recettes/recette_quiche-lorraine_30283.aspx',\n",
       " 'https://www.marmiton.org/recettes/recette_saute-de-veau-au-chorizo_17027.aspx',\n",
       " 'https://www.marmiton.org/recettes/recette_poulet-a-la-moutarde-a-l-estragon-et-aux-champignons_19374.aspx',\n",
       " 'https://www.marmiton.org/recettes/recette_brownies_16951.aspx',\n",
       " 'https://www.marmiton.org/recettes/recette_cake-sale-au-jambon-et-aux-olives_18876.aspx',\n",
       " 'https://www.marmiton.org/recettes/recette_mojito-fraise_392350.aspx',\n",
       " 'https://www.marmiton.org/recettes/recette_boeuf-bourguignon-rapide_19218.aspx',\n",
       " 'https://www.marmiton.org/recettes/recette_pate-brisee-vite-faite_31639.aspx',\n",
       " 'https://www.marmiton.org/recettes/recette_hachis-parmentier_17639.aspx',\n",
       " 'https://www.marmiton.org/recettes/recette_gateau-de-crepes-au-chocolat_371460.aspx',\n",
       " 'https://www.marmiton.org/recettes/recette_madeleines-faciles_17700.aspx',\n",
       " 'https://www.marmiton.org/recettes/recette_cookies-maison_86989.aspx',\n",
       " 'https://www.marmiton.org/recettes/recette_galette-des-rois-a-la-frangipane_20147.aspx',\n",
       " 'https://www.marmiton.org/recettes/recette_fondant-au-chocolat-anti-cholesterol_392197.aspx']"
      ]
     },
     "execution_count": 7,
     "metadata": {},
     "output_type": "execute_result"
    }
   ],
   "source": [
    "#For one given page look for the list of recipes (links)\n",
    "def find_recipe_card_link(page_urls):\n",
    "    recipes_of_all_pages=[]\n",
    "    for url in page_urls:\n",
    "        soup=BeautifulSoup(r.get(url).content)\n",
    "        # list of recipes url which are in the page\n",
    "        recipes_of_all_pages.extend([f'https://www.marmiton.org'+i['href'] for i in soup.select('a.recipe-card-link')])\n",
    "    return recipes_of_all_pages\n",
    "        \n",
    "recipes_of_all_pages=find_recipe_card_link(page_urls) \n",
    "recipes_of_all_pages"
   ]
  },
  {
   "cell_type": "code",
   "execution_count": 9,
   "metadata": {},
   "outputs": [
    {
     "name": "stdout",
     "output_type": "stream",
     "text": [
      "Original American Cookies de Mike\n",
      "Blanquette de veau facile\n",
      "Le crumble aux pommes du Chat qui Tousse\n",
      "Gâteau au yaourt\n",
      "Véritable moelleux au chocolat\n",
      "Les Timbales de Jeanne (saumon à la mousse de courgettes au micro-ondes)\n",
      "Gâteau aux pommes facile\n",
      "Meringue pour les nuls\n",
      "Pancakes\n",
      "Cookie cup glace vanille et pépites de chocolat\n"
     ]
    },
    {
     "ename": "IndexError",
     "evalue": "list index out of range",
     "output_type": "error",
     "traceback": [
      "\u001b[0;31m---------------------------------------------------------------------------\u001b[0m",
      "\u001b[0;31mIndexError\u001b[0m                                Traceback (most recent call last)",
      "\u001b[0;32m<ipython-input-9-e41b2d932914>\u001b[0m in \u001b[0;36m<module>\u001b[0;34m\u001b[0m\n\u001b[1;32m     22\u001b[0m     \u001b[0;32mreturn\u001b[0m\u001b[0;34m\u001b[0m\u001b[0;34m\u001b[0m\u001b[0m\n\u001b[1;32m     23\u001b[0m \u001b[0;34m\u001b[0m\u001b[0m\n\u001b[0;32m---> 24\u001b[0;31m \u001b[0mCollect_data\u001b[0m\u001b[0;34m(\u001b[0m\u001b[0mrecipes_of_all_pages\u001b[0m\u001b[0;34m)\u001b[0m\u001b[0;34m\u001b[0m\u001b[0;34m\u001b[0m\u001b[0m\n\u001b[0m",
      "\u001b[0;32m<ipython-input-9-e41b2d932914>\u001b[0m in \u001b[0;36mCollect_data\u001b[0;34m(recipes_of_page)\u001b[0m\n\u001b[1;32m      7\u001b[0m         \u001b[0mname\u001b[0m\u001b[0;34m=\u001b[0m\u001b[0msoup\u001b[0m\u001b[0;34m.\u001b[0m\u001b[0mselect\u001b[0m\u001b[0;34m(\u001b[0m\u001b[0;34m'h1'\u001b[0m\u001b[0;34m)\u001b[0m\u001b[0;34m[\u001b[0m\u001b[0;36m0\u001b[0m\u001b[0;34m]\u001b[0m\u001b[0;34m.\u001b[0m\u001b[0mtext\u001b[0m\u001b[0;34m\u001b[0m\u001b[0;34m\u001b[0m\u001b[0m\n\u001b[1;32m      8\u001b[0m         \u001b[0mprint\u001b[0m\u001b[0;34m(\u001b[0m\u001b[0mname\u001b[0m\u001b[0;34m)\u001b[0m\u001b[0;34m\u001b[0m\u001b[0;34m\u001b[0m\u001b[0m\n\u001b[0;32m----> 9\u001b[0;31m         \u001b[0mlist_of_infos\u001b[0m\u001b[0;34m.\u001b[0m\u001b[0mappend\u001b[0m\u001b[0;34m(\u001b[0m\u001b[0msoup\u001b[0m\u001b[0;34m.\u001b[0m\u001b[0mselect\u001b[0m\u001b[0;34m(\u001b[0m\u001b[0;34m'div.recipe-author__author>span'\u001b[0m\u001b[0;34m)\u001b[0m\u001b[0;34m[\u001b[0m\u001b[0;36m0\u001b[0m\u001b[0;34m]\u001b[0m\u001b[0;34m.\u001b[0m\u001b[0mtext\u001b[0m\u001b[0;34m.\u001b[0m\u001b[0mstrip\u001b[0m\u001b[0;34m(\u001b[0m\u001b[0;34m'\\n '\u001b[0m\u001b[0;34m)\u001b[0m\u001b[0;34m)\u001b[0m \u001b[0;31m# add author name\u001b[0m\u001b[0;34m\u001b[0m\u001b[0;34m\u001b[0m\u001b[0m\n\u001b[0m\u001b[1;32m     10\u001b[0m         \u001b[0mlist_of_infos\u001b[0m\u001b[0;34m.\u001b[0m\u001b[0mappend\u001b[0m\u001b[0;34m(\u001b[0m\u001b[0msoup\u001b[0m\u001b[0;34m.\u001b[0m\u001b[0mselect\u001b[0m\u001b[0;34m(\u001b[0m\u001b[0;34m'div.recipe-infos-users__rate__stars>span'\u001b[0m\u001b[0;34m)\u001b[0m\u001b[0;34m[\u001b[0m\u001b[0;36m0\u001b[0m\u001b[0;34m]\u001b[0m\u001b[0;34m.\u001b[0m\u001b[0mtext\u001b[0m\u001b[0;34m)\u001b[0m \u001b[0;31m# add note\u001b[0m\u001b[0;34m\u001b[0m\u001b[0;34m\u001b[0m\u001b[0m\n\u001b[1;32m     11\u001b[0m         \u001b[0mlist_of_infos\u001b[0m\u001b[0;34m.\u001b[0m\u001b[0mappend\u001b[0m\u001b[0;34m(\u001b[0m\u001b[0;34m[\u001b[0m\u001b[0mi\u001b[0m\u001b[0;34m.\u001b[0m\u001b[0mtext\u001b[0m \u001b[0;32mfor\u001b[0m \u001b[0mi\u001b[0m \u001b[0;32min\u001b[0m \u001b[0msoup\u001b[0m\u001b[0;34m.\u001b[0m\u001b[0mselect\u001b[0m\u001b[0;34m(\u001b[0m\u001b[0;34m'ul.mrtn-tags-list>li'\u001b[0m\u001b[0;34m)\u001b[0m\u001b[0;34m]\u001b[0m\u001b[0;34m)\u001b[0m\u001b[0;31m# add tags\u001b[0m\u001b[0;34m\u001b[0m\u001b[0;34m\u001b[0m\u001b[0m\n",
      "\u001b[0;31mIndexError\u001b[0m: list index out of range"
     ]
    }
   ],
   "source": [
    "def Collect_data(recipes_of_page):\n",
    "    recipe=dict() #dictionnary , 1 row of the final dataframe (Recipe name: [list of info])  recipe={'':[]}\n",
    "    for url in recipes_of_page:\n",
    "        list_of_infos=[]\n",
    "        soup=BeautifulSoup(r.get(url).content) \n",
    "        #Recipe Name\n",
    "        name=soup.select('h1')[0].text\n",
    "        print(name)\n",
    "        list_of_infos.append(soup.select('div.recipe-author__author>span')[0].text.strip('\\n ')) # add author name\n",
    "        list_of_infos.append(soup.select('div.recipe-infos-users__rate__stars>span')[0].text) # add note\n",
    "        list_of_infos.append([i.text for i in soup.select('ul.mrtn-tags-list>li')])# add tags\n",
    "        #add total cooking time, nb of people, Easy or not, cheap or not\n",
    "        list_of_infos.extend([i.replace('\\n',' ') for i in soup.select('div.recipe-infos,div.recipe-infos__timmings__detail')[0].text.split('\\n\\n') if len(i)>1])\n",
    "        list_of_infos.append(soup.select('span.recipe-infos-users__value')[1].text) #nb likes\n",
    "        #cookig and preparation times\n",
    "        list_of_infos.extend([re.sub('\\t|\\n|\\xa0','',i.text) for i in soup.select('div.recipe-infos__timmings__cooking,div.recipe-infos__timmings__preparation')])\n",
    "        #ingredients\n",
    "        list_of_infos.extend([i.text.strip().replace('\\n','') for i in soup.select('li.recipe-ingredients__list__item')])\n",
    "        #recipe (text)\n",
    "        list_of_infos.extend(re.sub('\\t|\\n','',soup.select('ol.recipe-preparation__list')[0].text))\n",
    "        recipe[name]=list_of_infos # add a row to the dictionnary . 1 row = Recipe name: [list of info]\n",
    "    return \n",
    "\n",
    "Collect_data(recipes_of_all_pages)"
   ]
  },
  {
   "cell_type": "code",
   "execution_count": null,
   "metadata": {},
   "outputs": [],
   "source": [
    "def create_dataFrame(recipe):\n",
    "  pd.DataFrame(recipe)"
   ]
  },
  {
   "cell_type": "code",
   "execution_count": null,
   "metadata": {},
   "outputs": [],
   "source": [
    "#'d4 = {}' 'for d in (d1, d2, d3): d4.update(d)'"
   ]
  },
  {
   "cell_type": "code",
   "execution_count": null,
   "metadata": {},
   "outputs": [],
   "source": [
    "# Error Handling function"
   ]
  },
  {
   "cell_type": "code",
   "execution_count": null,
   "metadata": {},
   "outputs": [],
   "source": [
    "# Launch function terminal"
   ]
  },
  {
   "cell_type": "code",
   "execution_count": null,
   "metadata": {},
   "outputs": [],
   "source": [
    "url_page='https://www.marmiton.org/recettes/recherche.aspx?type=all&aqt=&start=18&page=2'\n",
    "soup=BeautifulSoup(r.get(url_page).content)\n",
    "[f'https://www.marmiton.org'+i['href'] for i in soup.select('a.recipe-card-link')]"
   ]
  },
  {
   "cell_type": "code",
   "execution_count": null,
   "metadata": {},
   "outputs": [],
   "source": [
    "https://www.marmiton.org/recettes/recette_chouquettes_30622.aspx"
   ]
  }
 ],
 "metadata": {
  "kernelspec": {
   "display_name": "Python 3",
   "language": "python",
   "name": "python3"
  },
  "language_info": {
   "codemirror_mode": {
    "name": "ipython",
    "version": 3
   },
   "file_extension": ".py",
   "mimetype": "text/x-python",
   "name": "python",
   "nbconvert_exporter": "python",
   "pygments_lexer": "ipython3",
   "version": "3.7.6"
  }
 },
 "nbformat": 4,
 "nbformat_minor": 4
}
