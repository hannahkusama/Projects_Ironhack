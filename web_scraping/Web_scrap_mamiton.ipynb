{
 "cells": [
  {
   "cell_type": "code",
   "execution_count": 115,
   "metadata": {},
   "outputs": [],
   "source": [
    "import pandas as pd\n",
    "import requests as r\n",
    "from bs4 import BeautifulSoup\n",
    "import re\n",
    "import time\n",
    "from datetime import datetime"
   ]
  },
  {
   "cell_type": "code",
   "execution_count": 50,
   "metadata": {},
   "outputs": [],
   "source": [
    "url='https://www.marmiton.org/recettes/recette_tacos-mexicains_34389.aspx'"
   ]
  },
  {
   "cell_type": "code",
   "execution_count": 51,
   "metadata": {},
   "outputs": [
    {
     "data": {
      "text/plain": [
       "<Response [200]>"
      ]
     },
     "execution_count": 51,
     "metadata": {},
     "output_type": "execute_result"
    }
   ],
   "source": [
    "r.get(url)"
   ]
  },
  {
   "cell_type": "code",
   "execution_count": 52,
   "metadata": {},
   "outputs": [],
   "source": [
    "soup=BeautifulSoup(r.get(url).content)"
   ]
  },
  {
   "cell_type": "code",
   "execution_count": null,
   "metadata": {},
   "outputs": [],
   "source": []
  },
  {
   "cell_type": "code",
   "execution_count": null,
   "metadata": {},
   "outputs": [],
   "source": [
    "list_of selectors=['h1','div.recipe-author__author>span','div.recipe-infos-users__rate__stars>span','ul.mrtn-tags-list>li','span.recipe-infos-users__value','div.recipe-infos,div.recipe-infos__timmings__detail','div.recipe-infos__timmings__cooking,div.recipe-infos__timmings__preparation']"
   ]
  },
  {
   "cell_type": "code",
   "execution_count": 53,
   "metadata": {},
   "outputs": [
    {
     "data": {
      "text/plain": [
       "'Tacos mexicains'"
      ]
     },
     "execution_count": 53,
     "metadata": {},
     "output_type": "execute_result"
    }
   ],
   "source": [
    "#Recipe Name\n",
    "soup.select('h1')[0].text"
   ]
  },
  {
   "cell_type": "code",
   "execution_count": 54,
   "metadata": {},
   "outputs": [
    {
     "data": {
      "text/plain": [
       "'noor_16706694'"
      ]
     },
     "execution_count": 54,
     "metadata": {},
     "output_type": "execute_result"
    }
   ],
   "source": [
    "#Author name\n",
    "soup.select('div.recipe-author__author>span')[0].text.strip('\\n ')"
   ]
  },
  {
   "cell_type": "code",
   "execution_count": 76,
   "metadata": {},
   "outputs": [
    {
     "data": {
      "text/plain": [
       "['4.6/5']"
      ]
     },
     "execution_count": 76,
     "metadata": {},
     "output_type": "execute_result"
    }
   ],
   "source": [
    "#recipe note\n",
    "soup.select('div.recipe-infos-users__rate__stars>span')[0].text\n",
    "[i.text for i in soup.select('div.recipe-infos-users__rate__stars>span')]"
   ]
  },
  {
   "cell_type": "code",
   "execution_count": 56,
   "metadata": {},
   "outputs": [
    {
     "data": {
      "text/plain": [
       "['Entrée', 'Plat unique', 'Plats mexicains']"
      ]
     },
     "execution_count": 56,
     "metadata": {},
     "output_type": "execute_result"
    }
   ],
   "source": [
    "#tags ('entrée, 'plat unique','plats mexicains)\n",
    "#[i.text for i in soup.select('ul.mrtn-tags-list>li')]"
   ]
  },
  {
   "cell_type": "code",
   "execution_count": 64,
   "metadata": {},
   "outputs": [
    {
     "data": {
      "text/plain": [
       "'15k'"
      ]
     },
     "execution_count": 64,
     "metadata": {},
     "output_type": "execute_result"
    }
   ],
   "source": [
    "#Nb likes\n",
    "soup.select('span.recipe-infos-users__value')[1].text"
   ]
  },
  {
   "cell_type": "code",
   "execution_count": 57,
   "metadata": {},
   "outputs": [
    {
     "data": {
      "text/plain": [
       "['temps 55 min', ' personnes 4', ' très facile', 'bon marché']"
      ]
     },
     "execution_count": 57,
     "metadata": {},
     "output_type": "execute_result"
    }
   ],
   "source": [
    "#Nb of portions\n",
    "[i.replace('\\n',' ') for i in soup.select('div.recipe-infos,div.recipe-infos__timmings__detail')[0].text.split('\\n\\n') if len(i)>1]"
   ]
  },
  {
   "cell_type": "code",
   "execution_count": 71,
   "metadata": {},
   "outputs": [
    {
     "data": {
      "text/plain": [
       "['Cuisson:25 min']"
      ]
     },
     "execution_count": 71,
     "metadata": {},
     "output_type": "execute_result"
    }
   ],
   "source": [
    "#cooking time  only\n",
    "[re.sub('\\t|\\n|\\xa0','',i.text) for i in soup.select('div.recipe-infos__timmings__cooking')]\n"
   ]
  },
  {
   "cell_type": "code",
   "execution_count": 72,
   "metadata": {},
   "outputs": [
    {
     "data": {
      "text/plain": [
       "['Préparation: 30 min']"
      ]
     },
     "execution_count": 72,
     "metadata": {},
     "output_type": "execute_result"
    }
   ],
   "source": [
    "#Preparation time \n",
    "[re.sub('\\t|\\n|\\xa0','',i.text) for i in soup.select('div.recipe-infos__timmings__preparation')]\n"
   ]
  },
  {
   "cell_type": "code",
   "execution_count": 66,
   "metadata": {},
   "outputs": [
    {
     "data": {
      "text/plain": [
       "'\\nTemps Total : 55 min\\t\\t\\t\\t\\t\\t\\t\\t'"
      ]
     },
     "execution_count": 66,
     "metadata": {},
     "output_type": "execute_result"
    }
   ],
   "source": [
    "#total time\n",
    "soup.select('div.recipe-infos__timmings__total-time ')[0].text"
   ]
  },
  {
   "cell_type": "code",
   "execution_count": 69,
   "metadata": {},
   "outputs": [
    {
     "data": {
      "text/plain": [
       "'4'"
      ]
     },
     "execution_count": 69,
     "metadata": {},
     "output_type": "execute_result"
    }
   ],
   "source": [
    "#nb people\n",
    "soup.select('span.title-2.recipe-infos__quantity__value')[0].text"
   ]
  },
  {
   "cell_type": "code",
   "execution_count": null,
   "metadata": {},
   "outputs": [],
   "source": [
    "#Ingredients\n",
    "[i.text.strip().replace('\\n','') for i in soup.select('li.recipe-ingredients__list__item')]"
   ]
  },
  {
   "cell_type": "code",
   "execution_count": 81,
   "metadata": {},
   "outputs": [
    {
     "data": {
      "text/plain": [
       "['bon marché']"
      ]
     },
     "execution_count": 81,
     "metadata": {},
     "output_type": "execute_result"
    }
   ],
   "source": [
    "# average cost\n",
    "[i.text.strip('\\n') for i in soup.select('div.recipe-infos__budget')]\n",
    "        "
   ]
  },
  {
   "cell_type": "code",
   "execution_count": 85,
   "metadata": {},
   "outputs": [
    {
     "data": {
      "text/plain": [
       "['très facile']"
      ]
     },
     "execution_count": 85,
     "metadata": {},
     "output_type": "execute_result"
    }
   ],
   "source": [
    "# difficulty\n",
    "[i.text.strip('\\n') for i in soup.select('div.recipe-infos__level')]"
   ]
  },
  {
   "cell_type": "code",
   "execution_count": null,
   "metadata": {},
   "outputs": [],
   "source": [
    "#Ustensiles\n",
    "[re.sub('\\n\\n|\\t*',' ',i.text) for i in soup.select('ul.recipe-utensils__list')]"
   ]
  },
  {
   "cell_type": "code",
   "execution_count": null,
   "metadata": {},
   "outputs": [],
   "source": [
    "[i.text for i in soup.select('ul.recipe-utensils__list')]"
   ]
  },
  {
   "cell_type": "code",
   "execution_count": 75,
   "metadata": {},
   "outputs": [
    {
     "data": {
      "text/plain": [
       "[\"\\n\\n\\t\\t\\tA la poêle, faire dorer l'oignon émincé dans un peu d'huile d'olive. \\t\\t\\n\\n\\t\\t\\tRajouter la viande, assaisonner et laisser cuire 5 min. \\t\\t\\n\\n\\t\\t\\tLaver les feuilles de laitue. \\t\\t\\n\\n\\t\\t\\tCouper les tomates et le poivron en petits dés. \\t\\t\\n\\n\\t\\t\\tIncorporer le tout à la poêlée avec le coulis de tomate, et poursuivre la cuisson pendant 5 min. \\t\\t\\n\\n\\t\\t\\tEgoutter les haricots rouges et les ajouter 2 min avant la fin de cuisson. \\t\\t\\n\\n\\t\\t\\tHors du feu, ajuster l'assaisonnement et saupoudrer généreusement de cumin; on peut aussi rajouter quelques gouttes de Tabasco. \\t\\t\\n\\n\\t\\t\\tGarnir les tortillas de préparation et les refermer en les roulant comme des crêpes. Disposer 1 feuille de laitue sur chaque tacos avant de servir.\\t\\t\\n\"]"
      ]
     },
     "execution_count": 75,
     "metadata": {},
     "output_type": "execute_result"
    }
   ],
   "source": [
    "# recipe\n",
    "re.sub('\\t|\\n','',soup.select('ol.recipe-preparation__list')[0].text)\n",
    "[i.text for i in soup.select('ol.recipe-preparation__list')]"
   ]
  },
  {
   "cell_type": "code",
   "execution_count": null,
   "metadata": {},
   "outputs": [],
   "source": []
  },
  {
   "cell_type": "code",
   "execution_count": null,
   "metadata": {},
   "outputs": [],
   "source": [
    "url1='https://www.marmiton.org/recettes/recherche.aspx?type=all&aqt=&start=50&page=4'"
   ]
  },
  {
   "cell_type": "code",
   "execution_count": null,
   "metadata": {},
   "outputs": [],
   "source": [
    "soup1=BeautifulSoup(r.get(url1).content)"
   ]
  },
  {
   "cell_type": "code",
   "execution_count": null,
   "metadata": {},
   "outputs": [],
   "source": [
    "[i['href'] for i in soup1.select('a.recipe-card-link')]\n"
   ]
  },
  {
   "cell_type": "markdown",
   "metadata": {},
   "source": [
    "# Code aggregation"
   ]
  },
  {
   "cell_type": "code",
   "execution_count": null,
   "metadata": {},
   "outputs": [],
   "source": [
    "# 14 recipes per page with page from no figure then 2 to 833\n",
    "#https://www.marmiton.org/recettes/recherche.aspx?type=all&aqt=&start=10004&page=833"
   ]
  },
  {
   "cell_type": "code",
   "execution_count": 110,
   "metadata": {},
   "outputs": [
    {
     "name": "stdout",
     "output_type": "stream",
     "text": [
      "['https://www.marmiton.org/recettes/recherche.aspx?type=all&aqt=&start=4&page=1']\n"
     ]
    }
   ],
   "source": [
    "#liste of links for the pages - start with 5pages to test before launching 833 pages...\n",
    "# pb le site change de pattern de pagination \n",
    "def List_urls(NbPages):\n",
    "    urls=[]\n",
    "    for i in range(0,NbPages):\n",
    "        url=f'https://www.marmiton.org/recettes/recherche.aspx?type=all&aqt=&start={4+14*i}&page={i+1}'\n",
    "        urls.append(url)\n",
    "        i+=1\n",
    "    return urls\n",
    "\n",
    "page_urls=List_urls(1)    \n",
    "print(page_urls)"
   ]
  },
  {
   "cell_type": "code",
   "execution_count": 111,
   "metadata": {},
   "outputs": [
    {
     "data": {
      "text/plain": [
       "['https://www.marmiton.org/recettes/recette_original-american-cookies-de-mike_39907.aspx',\n",
       " 'https://www.marmiton.org/recettes/recette_blanquette-de-veau-facile_19219.aspx',\n",
       " 'https://www.marmiton.org/recettes/recette_le-crumble-aux-pommes-du-chat-qui-tousse_10534.aspx',\n",
       " 'https://www.marmiton.org/recettes/recette_gateau-au-yaourt_12719.aspx',\n",
       " 'https://www.marmiton.org/recettes/recette_veritable-moelleux-au-chocolat_12825.aspx',\n",
       " 'https://www.marmiton.org/recettes/recette_les-timbales-de-jeanne-saumon-a-la-mousse-de-courgettes-au-micro-ondes_21864.aspx',\n",
       " 'https://www.marmiton.org/recettes/recette_gateau-aux-pommes-facile_13493.aspx',\n",
       " 'https://www.marmiton.org/recettes/recette_meringue-pour-les-nuls_36610.aspx',\n",
       " 'https://www.marmiton.org/recettes/recette_pancakes_15299.aspx',\n",
       " 'https://www.marmiton.org/recettes/recette_cookie-cup-glace-vanille-et-pepites-de-chocolat_372241.aspx',\n",
       " 'https://www.marmiton.org/recettes/recette_filet-mignon-en-croute_14407.aspx',\n",
       " 'https://www.marmiton.org/recettes/recette_galette-des-rois_10832.aspx',\n",
       " 'https://www.marmiton.org/recettes/recette_fondant-au-chocolat_15025.aspx',\n",
       " 'https://www.marmiton.org/recettes/recette_cookies-surprise-au-coeur-de-chocolat_371434.aspx']"
      ]
     },
     "execution_count": 111,
     "metadata": {},
     "output_type": "execute_result"
    }
   ],
   "source": [
    "#For one given page look for the list of recipes (links)\n",
    "def find_recipe_card_link(page_urls):\n",
    "    recipes_of_all_pages=[]\n",
    "    for url in page_urls:\n",
    "        soup=BeautifulSoup(r.get(url).content)\n",
    "        # list of recipes url which are in the page\n",
    "        recipes_of_all_pages.extend([f'https://www.marmiton.org'+i['href'] for i in soup.select('a.recipe-card-link')])\n",
    "    return recipes_of_all_pages\n",
    "        \n",
    "recipes_of_all_pages=find_recipe_card_link(page_urls) \n",
    "recipes_of_all_pages"
   ]
  },
  {
   "cell_type": "code",
   "execution_count": 109,
   "metadata": {},
   "outputs": [],
   "source": [
    "def Collect_data(recipes_of_page):\n",
    "    \n",
    "    \n",
    "    #recipe=dict() #dictionnary , 1 row of the final dataframe (Recipe name: [list of info])  recipe={'':[]}\n",
    "    list_of_recipes=[]\n",
    "    recipe=[]    \n",
    "    for url in recipes_of_page:\n",
    "        \n",
    "       \n",
    "        soup=BeautifulSoup(r.get(url).content)\n",
    "        \n",
    "        \n",
    "        # Add Recipe Name\n",
    "        \n",
    "        name=recipe.append([i.text for i in soup.select('h1')])\n",
    "      \n",
    "            \n",
    "        # add author name\n",
    "        recipe.append([i.text.strip('\\n ') for i in soup.select('div.recipe-author__author>span')]) \n",
    "        \n",
    "        #add note\n",
    "        recipe.append([i.text for i in soup.select('div.recipe-infos-users__rate__stars>span')]) \n",
    "        \n",
    "        #add tags\n",
    "        recipe.append([i.text for i in soup.select('ul.mrtn-tags-list>li.mrtn-tag>a')])\n",
    "        \n",
    "        # nb likes\n",
    "        try:\n",
    "            recipe.append(soup.select('span.recipe-infos-users__value')[1].text)\n",
    "        except IndexError:\n",
    "            recipe.append()\n",
    "        \n",
    "        #nb portions\n",
    "        recipe.append([i.text.strip('\\n') for i in soup.select('span.title-2.recipe-infos__quantity__value')])\n",
    "        \n",
    "        # difficulty\n",
    "        recipe.append([i.text.strip('\\n') for i in soup.select('div.recipe-infos__level')])\n",
    "        \n",
    "        #add total cooking time\n",
    "        recipe.append([i.text.strip('\\n') for i in soup.select('div.recipe-infos__timmings__total-time ')])\n",
    "        \n",
    "        # preparation time\n",
    "        recipe.append([i.text.strip('\\n') for i in soup.select('div.recipe-infos__timmings__preparation')])\n",
    "            \n",
    "        # cooking only time\n",
    "        recipe.append([i.text.strip('\\n') for i in soup.select('div.recipe-infos__timmings__cooking')])\n",
    "\n",
    "        # average cost\n",
    "        recipe.append([i.text.strip('\\n') for i in soup.select('div.recipe-infos__budget')])\n",
    "        \n",
    "        # add url\n",
    "        recipe.append(url)\n",
    "        \n",
    "        #ingredients\n",
    "        recipe.append([i.text.strip('\\n') for i in soup.select('li.recipe-ingredients__list__item')])\n",
    "        \n",
    "        #recipe (text)\n",
    "        recipe.append([i.text.strip('\\n') for i in soup.select('ol.recipe-preparation__list')])\n",
    "        \n",
    "        #check\n",
    "        print(recipe)\n",
    "        \n",
    "        list_of_recipes.append(recipe)\n",
    "        recipe=[]\n",
    "    return list_of_recipes\n",
    "\n",
    "#Collect_data(recipes_of_all_pages)"
   ]
  },
  {
   "cell_type": "code",
   "execution_count": 112,
   "metadata": {},
   "outputs": [
    {
     "data": {
      "text/plain": [
       "{'Recipe_name': 'Original American Cookies de Mike',\n",
       " 'Author_name': 'nathan_15813882',\n",
       " 'Rating': '4.7/5',\n",
       " 'Tags': ['Végétarien',\n",
       "  'Rapide',\n",
       "  'Petits gâteaux',\n",
       "  'Gâteau',\n",
       "  'Cookie',\n",
       "  'Recette américaine'],\n",
       " 'Nb_likes': '121k',\n",
       " 'Nb_portions': '15',\n",
       " 'Difficulty': 'très facile',\n",
       " 'Total_cooking_time': 'Temps Total : 15 min\\t\\t\\t\\t\\t\\t\\t\\t',\n",
       " 'Preparation_time': 'Préparation\\xa0: 5 min\\t\\t\\t\\t\\t\\t\\t\\t\\t\\t',\n",
       " 'Cooking_time': 'Cuisson\\xa0:\\n\\n\\t\\t\\t\\t\\t\\t\\t\\t\\t\\t\\t\\t10 min\\t\\t\\t\\t\\t\\t\\t\\t\\t\\t\\t',\n",
       " 'Cost_range': 'bon marché',\n",
       " 'List_of_ingredients': ['250\\n\\n\\n\\ng de farine  ',\n",
       "  '90\\n\\n\\n\\ng de sucre de canne roux (ou cassonade) ',\n",
       "  '1\\n\\n\\n\\nsachet de sucre vanillé  ',\n",
       "  '1\\n\\n\\n\\npincée de sel  ',\n",
       "  '1/2\\n\\n\\n\\nsachet de levure  ',\n",
       "  '1\\n\\n\\n\\n oeuf  ',\n",
       "  '125\\n\\n\\n\\ng de beurre doux  ',\n",
       "  '2\\n\\n\\n\\ncuillères à café de miel  ',\n",
       "  'Chocolat (à volonté) '],\n",
       " 'Recipe_description': [\"\\t\\t\\tMélangez la farine, les sucres, le sel et la levure dans un grand saladier.\\t\\t\\n\\n\\t\\t\\tFaites fondre le beurre.\\t\\t\\n\\n\\t\\t\\tAjoutez-y l'oeuf battu et les 2 cuillères à café de miel\\t\\t\\n\\n\\t\\t\\tincorporez le tout à la préparation.\\t\\t\\n\\n\\t\\t\\tAjouter les pépites de chocolat (de préférence au lait, mais j'ai déjà goûté des cookies aux 3 chocolats et c'est exquis), et mélangez.\\t\\t\\n\\n\\t\\t\\tPréchauffez votre four à 220°C (thermostat 7-8), avec la grille au plus bas. Façonnez des cookies d’environ 10 cm de diamètre (avec une cuillère à glace c'est facile).\\t\\t\\n\\n\\t\\t\\tDisposez-les sur une plaque. Ils doivent être assez espacés.\\t\\t\\n\\n\\t\\t\\tEnfournez-les 9 à 11 minutes, selon que vous les souhaitiez respectivement « extra-moelleux, moelleux ou crousti-moelleux »...  \\t\\t\\n\\n\\t\\t\\tVous m’en direz des nouvelles !\\t\\t\"],\n",
       " 'Link': 'https://www.marmiton.org/recettes/recette_original-american-cookies-de-mike_39907.aspx'}"
      ]
     },
     "execution_count": 112,
     "metadata": {},
     "output_type": "execute_result"
    }
   ],
   "source": [
    "# new method\n",
    "        \n",
    "def Scrap_data(url):   \n",
    "    \n",
    "        \n",
    "    soup=BeautifulSoup(r.get(url).content)\n",
    "    \n",
    "    # Recipe Name\n",
    "    name=[i.text for i in soup.select('h1')][0]\n",
    "       \n",
    "    # Author name\n",
    "    author_name=[i.text.strip('\\n ') for i in soup.select('div.recipe-author__author>span')][0]\n",
    "        \n",
    "    #Rating\n",
    "    rating= [i.text for i in soup.select('div.recipe-infos-users__rate__stars>span')][0]\n",
    "        \n",
    "    #Tags\n",
    "    tags=[i.text for i in soup.select('ul.mrtn-tags-list>li.mrtn-tag>a')]\n",
    "        \n",
    "    # nb likes\n",
    "    try:\n",
    "        nblikes=soup.select('span.recipe-infos-users__value')[1].text\n",
    "    except IndexError:\n",
    "        nblikes=''\n",
    "        \n",
    "    #nb portions\n",
    "    nbportions=[i.text.strip('\\n') for i in soup.select('span.title-2.recipe-infos__quantity__value')][0]\n",
    "        \n",
    "    # difficulty\n",
    "    difficulty=[i.text.strip('\\n') for i in soup.select('div.recipe-infos__level')][0]\n",
    "        \n",
    "    #Total cooking time\n",
    "    totaltime=[i.text.strip('\\n') for i in soup.select('div.recipe-infos__timmings__total-time ')][0]\n",
    "        \n",
    "    # preparation time\n",
    "    preparationtime=[i.text.strip('\\n') for i in soup.select('div.recipe-infos__timmings__preparation')][0]\n",
    "            \n",
    "    # cooking only time\n",
    "    cookingtime=[i.text.strip('\\n') for i in soup.select('div.recipe-infos__timmings__cooking')][0]\n",
    "\n",
    "    # cost range\n",
    "    costrange=[i.text.strip('\\n') for i in soup.select('div.recipe-infos__budget')][0]\n",
    "        \n",
    "    # add url\n",
    "    link=url\n",
    "        \n",
    "    #list of ingredients\n",
    "    loi=[i.text.strip('\\n') for i in soup.select('li.recipe-ingredients__list__item')]\n",
    "        \n",
    "    #recipe (text)\n",
    "    recipedescr=[i.text.strip('\\n') for i in soup.select('ol.recipe-preparation__list')]\n",
    "        \n",
    "    dct={'Recipe_name':name,\\\n",
    "         'Author_name':author_name,\\\n",
    "         'Rating':rating,\\\n",
    "         'Tags':tags,\\\n",
    "         'Nb_likes':nblikes,\\\n",
    "         'Nb_portions':nbportions,\\\n",
    "         'Difficulty':difficulty,\\\n",
    "         'Total_cooking_time':totaltime,\\\n",
    "         'Preparation_time':preparationtime,\\\n",
    "         'Cooking_time':cookingtime,\\\n",
    "         'Cost_range':costrange,\\\n",
    "         'List_of_ingredients':loi,\\\n",
    "         'Recipe_description':recipedescr,\\\n",
    "         'Link':link}\n",
    "    return dct\n",
    "\n",
    "\n",
    "Scrap_data('https://www.marmiton.org/recettes/recette_original-american-cookies-de-mike_39907.aspx')\n"
   ]
  },
  {
   "cell_type": "code",
   "execution_count": 113,
   "metadata": {},
   "outputs": [
    {
     "ename": "NameError",
     "evalue": "name 'time' is not defined",
     "output_type": "error",
     "traceback": [
      "\u001b[0;31m---------------------------------------------------------------------------\u001b[0m",
      "\u001b[0;31mNameError\u001b[0m                                 Traceback (most recent call last)",
      "\u001b[0;32m<ipython-input-113-cb3454385528>\u001b[0m in \u001b[0;36m<module>\u001b[0;34m\u001b[0m\n\u001b[1;32m      6\u001b[0m     \u001b[0mdata\u001b[0m\u001b[0;34m.\u001b[0m\u001b[0mappend\u001b[0m\u001b[0;34m(\u001b[0m\u001b[0moutput\u001b[0m\u001b[0;34m)\u001b[0m\u001b[0;34m\u001b[0m\u001b[0;34m\u001b[0m\u001b[0m\n\u001b[1;32m      7\u001b[0m     \u001b[0;32mif\u001b[0m \u001b[0mix\u001b[0m\u001b[0;34m%\u001b[0m\u001b[0;36m5\u001b[0m\u001b[0;34m==\u001b[0m\u001b[0;36m0\u001b[0m\u001b[0;34m:\u001b[0m\u001b[0;34m\u001b[0m\u001b[0;34m\u001b[0m\u001b[0m\n\u001b[0;32m----> 8\u001b[0;31m         \u001b[0mtime\u001b[0m\u001b[0;34m.\u001b[0m\u001b[0msleep\u001b[0m\u001b[0;34m(\u001b[0m\u001b[0;36m2\u001b[0m\u001b[0;34m)\u001b[0m\u001b[0;34m\u001b[0m\u001b[0;34m\u001b[0m\u001b[0m\n\u001b[0m",
      "\u001b[0;31mNameError\u001b[0m: name 'time' is not defined"
     ]
    }
   ],
   "source": [
    "# Get all recipes for all pages\n",
    "data=[]\n",
    "\n",
    "for ix, i in enumerate(recipes_of_all_pages):\n",
    "    output=Scrap_data(i)\n",
    "    data.append(output)\n",
    "    if ix%5==0:\n",
    "        time.sleep(2)"
   ]
  },
  {
   "cell_type": "code",
   "execution_count": null,
   "metadata": {},
   "outputs": [],
   "source": [
    "df=pd.DataFrame(data)"
   ]
  },
  {
   "cell_type": "code",
   "execution_count": 47,
   "metadata": {},
   "outputs": [],
   "source": [
    "url='https://www.marmiton.org/recettes/recette_original-american-cookies-de-mike_39907.aspx'"
   ]
  },
  {
   "cell_type": "code",
   "execution_count": 48,
   "metadata": {},
   "outputs": [],
   "source": [
    "soup=BeautifulSoup(r.get(url).content) \n"
   ]
  },
  {
   "cell_type": "code",
   "execution_count": 30,
   "metadata": {},
   "outputs": [
    {
     "name": "stdout",
     "output_type": "stream",
     "text": [
      "['nathan_15813882']\n"
     ]
    }
   ],
   "source": [
    "a=soup.select('div.recipe-author__author>span')[0].text.strip('\\n ')\n",
    "a\n",
    "toto=[]\n",
    "toto.append(a)\n",
    "print(toto)"
   ]
  },
  {
   "cell_type": "code",
   "execution_count": 22,
   "metadata": {},
   "outputs": [],
   "source": [
    "#soup.select('h1','div.recipe-author__author>span','div.recipe-infos-users__rate__stars>span','ul.mrtn-tags-list>li','div.recipe-infos,div.recipe-infos__timmings__detail','span.recipe-infos-users__value','div.recipe-infos__timmings__cooking,div.recipe-infos__timmings__preparation','li.recipe-ingredients__list__item','ol.recipe-preparation__list')"
   ]
  },
  {
   "cell_type": "code",
   "execution_count": null,
   "metadata": {},
   "outputs": [],
   "source": [
    "def create_dataFrame(recipe):\n",
    "  pd.DataFrame(recipe)"
   ]
  },
  {
   "cell_type": "code",
   "execution_count": null,
   "metadata": {},
   "outputs": [],
   "source": [
    "#'d4 = {}' 'for d in (d1, d2, d3): d4.update(d)'"
   ]
  },
  {
   "cell_type": "code",
   "execution_count": null,
   "metadata": {},
   "outputs": [],
   "source": [
    "# Error Handling function"
   ]
  },
  {
   "cell_type": "code",
   "execution_count": null,
   "metadata": {},
   "outputs": [],
   "source": [
    "# Launch function terminal"
   ]
  },
  {
   "cell_type": "code",
   "execution_count": null,
   "metadata": {},
   "outputs": [],
   "source": [
    "url_page='https://www.marmiton.org/recettes/recherche.aspx?type=all&aqt=&start=18&page=2'\n",
    "soup=BeautifulSoup(r.get(url_page).content)\n",
    "[f'https://www.marmiton.org'+i['href'] for i in soup.select('a.recipe-card-link')]"
   ]
  },
  {
   "cell_type": "code",
   "execution_count": null,
   "metadata": {},
   "outputs": [],
   "source": [
    "https://www.marmiton.org/recettes/recette_chouquettes_30622.aspx"
   ]
  },
  {
   "cell_type": "code",
   "execution_count": null,
   "metadata": {},
   "outputs": [],
   "source": [
    "#"
   ]
  }
 ],
 "metadata": {
  "kernelspec": {
   "display_name": "Python 3",
   "language": "python",
   "name": "python3"
  },
  "language_info": {
   "codemirror_mode": {
    "name": "ipython",
    "version": 3
   },
   "file_extension": ".py",
   "mimetype": "text/x-python",
   "name": "python",
   "nbconvert_exporter": "python",
   "pygments_lexer": "ipython3",
   "version": "3.7.6"
  }
 },
 "nbformat": 4,
 "nbformat_minor": 4
}
