{
 "cells": [
  {
   "cell_type": "code",
   "execution_count": 115,
   "metadata": {},
   "outputs": [],
   "source": [
    "import pandas as pd\n",
    "import requests as r\n",
    "from bs4 import BeautifulSoup\n",
    "import re\n",
    "import time\n",
    "from datetime import datetime"
   ]
  },
  {
   "cell_type": "code",
   "execution_count": 50,
   "metadata": {},
   "outputs": [],
   "source": [
    "url='https://www.marmiton.org/recettes/recette_tacos-mexicains_34389.aspx'"
   ]
  },
  {
   "cell_type": "code",
   "execution_count": 51,
   "metadata": {},
   "outputs": [
    {
     "data": {
      "text/plain": [
       "<Response [200]>"
      ]
     },
     "execution_count": 51,
     "metadata": {},
     "output_type": "execute_result"
    }
   ],
   "source": [
    "r.get(url)"
   ]
  },
  {
   "cell_type": "code",
   "execution_count": 52,
   "metadata": {},
   "outputs": [],
   "source": [
    "soup=BeautifulSoup(r.get(url).content)"
   ]
  },
  {
   "cell_type": "code",
   "execution_count": null,
   "metadata": {},
   "outputs": [],
   "source": []
  },
  {
   "cell_type": "code",
   "execution_count": null,
   "metadata": {},
   "outputs": [],
   "source": [
    "list_of selectors=['h1','div.recipe-author__author>span','div.recipe-infos-users__rate__stars>span','ul.mrtn-tags-list>li','span.recipe-infos-users__value','div.recipe-infos,div.recipe-infos__timmings__detail','div.recipe-infos__timmings__cooking,div.recipe-infos__timmings__preparation']"
   ]
  },
  {
   "cell_type": "code",
   "execution_count": 53,
   "metadata": {},
   "outputs": [
    {
     "data": {
      "text/plain": [
       "'Tacos mexicains'"
      ]
     },
     "execution_count": 53,
     "metadata": {},
     "output_type": "execute_result"
    }
   ],
   "source": [
    "#Recipe Name\n",
    "soup.select('h1')[0].text"
   ]
  },
  {
   "cell_type": "code",
   "execution_count": 54,
   "metadata": {},
   "outputs": [
    {
     "data": {
      "text/plain": [
       "'noor_16706694'"
      ]
     },
     "execution_count": 54,
     "metadata": {},
     "output_type": "execute_result"
    }
   ],
   "source": [
    "#Author name\n",
    "soup.select('div.recipe-author__author>span')[0].text.strip('\\n ')"
   ]
  },
  {
   "cell_type": "code",
   "execution_count": 76,
   "metadata": {},
   "outputs": [
    {
     "data": {
      "text/plain": [
       "['4.6/5']"
      ]
     },
     "execution_count": 76,
     "metadata": {},
     "output_type": "execute_result"
    }
   ],
   "source": [
    "#recipe note\n",
    "soup.select('div.recipe-infos-users__rate__stars>span')[0].text\n",
    "[i.text for i in soup.select('div.recipe-infos-users__rate__stars>span')]"
   ]
  },
  {
   "cell_type": "code",
   "execution_count": 56,
   "metadata": {},
   "outputs": [
    {
     "data": {
      "text/plain": [
       "['Entrée', 'Plat unique', 'Plats mexicains']"
      ]
     },
     "execution_count": 56,
     "metadata": {},
     "output_type": "execute_result"
    }
   ],
   "source": [
    "#tags ('entrée, 'plat unique','plats mexicains)\n",
    "#[i.text for i in soup.select('ul.mrtn-tags-list>li')]"
   ]
  },
  {
   "cell_type": "code",
   "execution_count": 64,
   "metadata": {},
   "outputs": [
    {
     "data": {
      "text/plain": [
       "'15k'"
      ]
     },
     "execution_count": 64,
     "metadata": {},
     "output_type": "execute_result"
    }
   ],
   "source": [
    "#Nb likes\n",
    "soup.select('span.recipe-infos-users__value')[1].text"
   ]
  },
  {
   "cell_type": "code",
   "execution_count": 57,
   "metadata": {},
   "outputs": [
    {
     "data": {
      "text/plain": [
       "['temps 55 min', ' personnes 4', ' très facile', 'bon marché']"
      ]
     },
     "execution_count": 57,
     "metadata": {},
     "output_type": "execute_result"
    }
   ],
   "source": [
    "#Nb of portions\n",
    "[i.replace('\\n',' ') for i in soup.select('div.recipe-infos,div.recipe-infos__timmings__detail')[0].text.split('\\n\\n') if len(i)>1]"
   ]
  },
  {
   "cell_type": "code",
   "execution_count": 71,
   "metadata": {},
   "outputs": [
    {
     "data": {
      "text/plain": [
       "['Cuisson:25 min']"
      ]
     },
     "execution_count": 71,
     "metadata": {},
     "output_type": "execute_result"
    }
   ],
   "source": [
    "#cooking time  only\n",
    "[re.sub('\\t|\\n|\\xa0','',i.text) for i in soup.select('div.recipe-infos__timmings__cooking')]\n"
   ]
  },
  {
   "cell_type": "code",
   "execution_count": 72,
   "metadata": {},
   "outputs": [
    {
     "data": {
      "text/plain": [
       "['Préparation: 30 min']"
      ]
     },
     "execution_count": 72,
     "metadata": {},
     "output_type": "execute_result"
    }
   ],
   "source": [
    "#Preparation time \n",
    "[re.sub('\\t|\\n|\\xa0','',i.text) for i in soup.select('div.recipe-infos__timmings__preparation')]\n"
   ]
  },
  {
   "cell_type": "code",
   "execution_count": 66,
   "metadata": {},
   "outputs": [
    {
     "data": {
      "text/plain": [
       "'\\nTemps Total : 55 min\\t\\t\\t\\t\\t\\t\\t\\t'"
      ]
     },
     "execution_count": 66,
     "metadata": {},
     "output_type": "execute_result"
    }
   ],
   "source": [
    "#total time\n",
    "soup.select('div.recipe-infos__timmings__total-time ')[0].text"
   ]
  },
  {
   "cell_type": "code",
   "execution_count": 69,
   "metadata": {},
   "outputs": [
    {
     "data": {
      "text/plain": [
       "'4'"
      ]
     },
     "execution_count": 69,
     "metadata": {},
     "output_type": "execute_result"
    }
   ],
   "source": [
    "#nb people\n",
    "soup.select('span.title-2.recipe-infos__quantity__value')[0].text"
   ]
  },
  {
   "cell_type": "code",
   "execution_count": null,
   "metadata": {},
   "outputs": [],
   "source": [
    "#Ingredients\n",
    "[i.text.strip().replace('\\n','') for i in soup.select('li.recipe-ingredients__list__item')]"
   ]
  },
  {
   "cell_type": "code",
   "execution_count": 81,
   "metadata": {},
   "outputs": [
    {
     "data": {
      "text/plain": [
       "['bon marché']"
      ]
     },
     "execution_count": 81,
     "metadata": {},
     "output_type": "execute_result"
    }
   ],
   "source": [
    "# average cost\n",
    "[i.text.strip('\\n') for i in soup.select('div.recipe-infos__budget')]\n",
    "        "
   ]
  },
  {
   "cell_type": "code",
   "execution_count": 85,
   "metadata": {},
   "outputs": [
    {
     "data": {
      "text/plain": [
       "['très facile']"
      ]
     },
     "execution_count": 85,
     "metadata": {},
     "output_type": "execute_result"
    }
   ],
   "source": [
    "# difficulty\n",
    "[i.text.strip('\\n') for i in soup.select('div.recipe-infos__level')]"
   ]
  },
  {
   "cell_type": "code",
   "execution_count": null,
   "metadata": {},
   "outputs": [],
   "source": [
    "#Ustensiles\n",
    "[re.sub('\\n\\n|\\t*',' ',i.text) for i in soup.select('ul.recipe-utensils__list')]"
   ]
  },
  {
   "cell_type": "code",
   "execution_count": null,
   "metadata": {},
   "outputs": [],
   "source": [
    "[i.text for i in soup.select('ul.recipe-utensils__list')]"
   ]
  },
  {
   "cell_type": "code",
   "execution_count": 75,
   "metadata": {},
   "outputs": [
    {
     "data": {
      "text/plain": [
       "[\"\\n\\n\\t\\t\\tA la poêle, faire dorer l'oignon émincé dans un peu d'huile d'olive. \\t\\t\\n\\n\\t\\t\\tRajouter la viande, assaisonner et laisser cuire 5 min. \\t\\t\\n\\n\\t\\t\\tLaver les feuilles de laitue. \\t\\t\\n\\n\\t\\t\\tCouper les tomates et le poivron en petits dés. \\t\\t\\n\\n\\t\\t\\tIncorporer le tout à la poêlée avec le coulis de tomate, et poursuivre la cuisson pendant 5 min. \\t\\t\\n\\n\\t\\t\\tEgoutter les haricots rouges et les ajouter 2 min avant la fin de cuisson. \\t\\t\\n\\n\\t\\t\\tHors du feu, ajuster l'assaisonnement et saupoudrer généreusement de cumin; on peut aussi rajouter quelques gouttes de Tabasco. \\t\\t\\n\\n\\t\\t\\tGarnir les tortillas de préparation et les refermer en les roulant comme des crêpes. Disposer 1 feuille de laitue sur chaque tacos avant de servir.\\t\\t\\n\"]"
      ]
     },
     "execution_count": 75,
     "metadata": {},
     "output_type": "execute_result"
    }
   ],
   "source": [
    "# recipe\n",
    "re.sub('\\t|\\n','',soup.select('ol.recipe-preparation__list')[0].text)\n",
    "[i.text for i in soup.select('ol.recipe-preparation__list')]"
   ]
  },
  {
   "cell_type": "code",
   "execution_count": null,
   "metadata": {},
   "outputs": [],
   "source": []
  },
  {
   "cell_type": "code",
   "execution_count": null,
   "metadata": {},
   "outputs": [],
   "source": [
    "url1='https://www.marmiton.org/recettes/recherche.aspx?type=all&aqt=&start=50&page=4'"
   ]
  },
  {
   "cell_type": "code",
   "execution_count": null,
   "metadata": {},
   "outputs": [],
   "source": [
    "soup1=BeautifulSoup(r.get(url1).content)"
   ]
  },
  {
   "cell_type": "code",
   "execution_count": null,
   "metadata": {},
   "outputs": [],
   "source": [
    "[i['href'] for i in soup1.select('a.recipe-card-link')]\n"
   ]
  },
  {
   "cell_type": "markdown",
   "metadata": {},
   "source": [
    "# Code aggregation"
   ]
  },
  {
   "cell_type": "code",
   "execution_count": null,
   "metadata": {},
   "outputs": [],
   "source": [
    "# 14 recipes per page with page from no figure then 2 to 833\n",
    "#https://www.marmiton.org/recettes/recherche.aspx?type=all&aqt=&start=10004&page=833"
   ]
  },
  {
   "cell_type": "code",
   "execution_count": 130,
   "metadata": {},
   "outputs": [
    {
     "name": "stdout",
     "output_type": "stream",
     "text": [
      "['https://www.marmiton.org/recettes/recherche.aspx?type=all&aqt=&start=4&page=1', 'https://www.marmiton.org/recettes/recherche.aspx?type=all&aqt=&start=18&page=2']\n"
     ]
    }
   ],
   "source": [
    "#liste of links for the pages - start with 5pages to test before launching 833 pages...\n",
    "# pb le site change de pattern de pagination \n",
    "def List_urls(NbPage):\n",
    "    urls=[]\n",
    "    for i in range(NbPage):\n",
    "        url=f'https://www.marmiton.org/recettes/recherche.aspx?type=all&aqt=&start={4+14*i}&page={i+1}'\n",
    "        urls.append(url)\n",
    "        i+=1\n",
    "    return urls\n",
    "\n",
    "page_urls=List_urls(2)    \n",
    "print(page_urls)"
   ]
  },
  {
   "cell_type": "code",
   "execution_count": 131,
   "metadata": {},
   "outputs": [
    {
     "data": {
      "text/plain": [
       "['https://www.marmiton.org/recettes/recette_original-american-cookies-de-mike_39907.aspx',\n",
       " 'https://www.marmiton.org/recettes/recette_blanquette-de-veau-facile_19219.aspx',\n",
       " 'https://www.marmiton.org/recettes/recette_le-crumble-aux-pommes-du-chat-qui-tousse_10534.aspx',\n",
       " 'https://www.marmiton.org/recettes/recette_gateau-au-yaourt_12719.aspx',\n",
       " 'https://www.marmiton.org/recettes/recette_veritable-moelleux-au-chocolat_12825.aspx',\n",
       " 'https://www.marmiton.org/recettes/recette_les-timbales-de-jeanne-saumon-a-la-mousse-de-courgettes-au-micro-ondes_21864.aspx',\n",
       " 'https://www.marmiton.org/recettes/recette_gateau-aux-pommes-facile_13493.aspx',\n",
       " 'https://www.marmiton.org/recettes/recette_meringue-pour-les-nuls_36610.aspx',\n",
       " 'https://www.marmiton.org/recettes/recette_pancakes_15299.aspx',\n",
       " 'https://www.marmiton.org/recettes/recette_cookie-cup-glace-vanille-et-pepites-de-chocolat_372241.aspx',\n",
       " 'https://www.marmiton.org/recettes/recette_filet-mignon-en-croute_14407.aspx',\n",
       " 'https://www.marmiton.org/recettes/recette_galette-des-rois_10832.aspx',\n",
       " 'https://www.marmiton.org/recettes/recette_fondant-au-chocolat_15025.aspx',\n",
       " 'https://www.marmiton.org/recettes/recette_cookies-surprise-au-coeur-de-chocolat_371434.aspx',\n",
       " 'https://www.marmiton.org/recettes/recette_chouquettes_30622.aspx',\n",
       " 'https://www.marmiton.org/recettes/recette_gateau-au-chocolat-des-ecoliers_20654.aspx',\n",
       " 'https://www.marmiton.org/recettes/recette_lasagnes-a-la-bolognaise_18215.aspx',\n",
       " 'https://www.marmiton.org/recettes/recette_mousse-au-chocolat-facile_13585.aspx',\n",
       " 'https://www.marmiton.org/recettes/recette_spritz-dolce_392358.aspx',\n",
       " 'https://www.marmiton.org/recettes/recette_gateau-au-chocolat-fondant-rapide_166352.aspx',\n",
       " 'https://www.marmiton.org/recettes/recette_flan-patissier-traditionnel_15330.aspx',\n",
       " 'https://www.marmiton.org/recettes/recette_canneles-bordelais_11439.aspx',\n",
       " 'https://www.marmiton.org/recettes/recette_tarte-chocolat-poires-facile_14023.aspx',\n",
       " 'https://www.marmiton.org/recettes/recette_choux-feuilletes-creme-au-chocolat-au-lait-et-smarties_371458.aspx',\n",
       " 'https://www.marmiton.org/recettes/recette_pain-d-epices_11087.aspx',\n",
       " 'https://www.marmiton.org/recettes/recette_pate-a-crepes-simple_27121.aspx',\n",
       " 'https://www.marmiton.org/recettes/recette_cheese-cake-gateau-au-fromage-blanc-inratable_20518.aspx',\n",
       " 'https://www.marmiton.org/recettes/recette_gateau-nid-de-paques-au-chocolat_371459.aspx']"
      ]
     },
     "execution_count": 131,
     "metadata": {},
     "output_type": "execute_result"
    }
   ],
   "source": [
    "#For one given page look for the list of recipes (links)\n",
    "#14 recipes per pages (or 12 paging changing?) time sleep =0,5sec every requests)\n",
    "def find_recipe_card_link(page_urls):\n",
    "    recipes_of_all_pages=[]\n",
    "    for url in page_urls:\n",
    "        soup=BeautifulSoup(r.get(url).content)\n",
    "        # list of recipes url which are in the page\n",
    "        recipes_of_all_pages.extend([f'https://www.marmiton.org'+i['href'] for i in soup.select('a.recipe-card-link')])\n",
    "        time.sleep(0.5)\n",
    "    return recipes_of_all_pages\n",
    "        \n",
    "recipes_of_all_pages=find_recipe_card_link(page_urls) \n",
    "recipes_of_all_pages"
   ]
  },
  {
   "cell_type": "code",
   "execution_count": 109,
   "metadata": {},
   "outputs": [],
   "source": [
    "def Collect_data(recipes_of_page):\n",
    "    \n",
    "    \n",
    "    #recipe=dict() #dictionnary , 1 row of the final dataframe (Recipe name: [list of info])  recipe={'':[]}\n",
    "    list_of_recipes=[]\n",
    "    recipe=[]    \n",
    "    for url in recipes_of_page:\n",
    "        \n",
    "       \n",
    "        soup=BeautifulSoup(r.get(url).content)\n",
    "        \n",
    "        \n",
    "        # Add Recipe Name\n",
    "        \n",
    "        name=recipe.append([i.text for i in soup.select('h1')])\n",
    "      \n",
    "            \n",
    "        # add author name\n",
    "        recipe.append([i.text.strip('\\n ') for i in soup.select('div.recipe-author__author>span')]) \n",
    "        \n",
    "        #add note\n",
    "        recipe.append([i.text for i in soup.select('div.recipe-infos-users__rate__stars>span')]) \n",
    "        \n",
    "        #add tags\n",
    "        recipe.append([i.text for i in soup.select('ul.mrtn-tags-list>li.mrtn-tag>a')])\n",
    "        \n",
    "        # nb likes\n",
    "        try:\n",
    "            recipe.append(soup.select('span.recipe-infos-users__value')[1].text)\n",
    "        except IndexError:\n",
    "            recipe.append()\n",
    "        \n",
    "        #nb portions\n",
    "        recipe.append([i.text.strip('\\n') for i in soup.select('span.title-2.recipe-infos__quantity__value')])\n",
    "        \n",
    "        # difficulty\n",
    "        recipe.append([i.text.strip('\\n') for i in soup.select('div.recipe-infos__level')])\n",
    "        \n",
    "        #add total cooking time\n",
    "        recipe.append([i.text.strip('\\n') for i in soup.select('div.recipe-infos__timmings__total-time ')])\n",
    "        \n",
    "        # preparation time\n",
    "        recipe.append([i.text.strip('\\n') for i in soup.select('div.recipe-infos__timmings__preparation')])\n",
    "            \n",
    "        # cooking only time\n",
    "        recipe.append([i.text.strip('\\n') for i in soup.select('div.recipe-infos__timmings__cooking')])\n",
    "\n",
    "        # average cost\n",
    "        recipe.append([i.text.strip('\\n') for i in soup.select('div.recipe-infos__budget')])\n",
    "        \n",
    "        # add url\n",
    "        recipe.append(url)\n",
    "        \n",
    "        #ingredients\n",
    "        recipe.append([i.text.strip('\\n') for i in soup.select('li.recipe-ingredients__list__item')])\n",
    "        \n",
    "        #recipe (text)\n",
    "        recipe.append([i.text.strip('\\n') for i in soup.select('ol.recipe-preparation__list')])\n",
    "        \n",
    "        #check\n",
    "        print(recipe)\n",
    "        \n",
    "        list_of_recipes.append(recipe)\n",
    "        recipe=[]\n",
    "    return list_of_recipes\n",
    "\n",
    "#Collect_data(recipes_of_all_pages)"
   ]
  },
  {
   "cell_type": "code",
   "execution_count": 132,
   "metadata": {},
   "outputs": [],
   "source": [
    "# new method\n",
    "        \n",
    "def Scrap_data(url):   \n",
    "    \n",
    "        \n",
    "    soup=BeautifulSoup(r.get(url).content)\n",
    "    \n",
    "    # Recipe Name\n",
    "    name=[i.text for i in soup.select('h1')]\n",
    "       \n",
    "    # Author name\n",
    "    author_name=[i.text.strip('\\n ') for i in soup.select('div.recipe-author__author>span')]\n",
    "        \n",
    "    #Rating\n",
    "    rating= [i.text for i in soup.select('div.recipe-infos-users__rate__stars>span')]\n",
    "        \n",
    "    #Tags\n",
    "    tags=[i.text for i in soup.select('ul.mrtn-tags-list>li.mrtn-tag>a')]\n",
    "        \n",
    "    # nb likes\n",
    "    try:\n",
    "        nblikes=soup.select('span.recipe-infos-users__value')[1].text\n",
    "    except IndexError:\n",
    "        nblikes=''\n",
    "        \n",
    "    #nb portions\n",
    "    nbportions=[i.text.strip('\\n') for i in soup.select('span.title-2.recipe-infos__quantity__value')]\n",
    "        \n",
    "    # difficulty\n",
    "    difficulty=[i.text.strip('\\n') for i in soup.select('div.recipe-infos__level')]\n",
    "        \n",
    "    #Total cooking time\n",
    "    totaltime=[i.text.strip('\\n') for i in soup.select('div.recipe-infos__timmings__total-time ')]\n",
    "        \n",
    "    # preparation time\n",
    "    preparationtime=[i.text.strip('\\n') for i in soup.select('div.recipe-infos__timmings__preparation')]\n",
    "            \n",
    "    # cooking only time\n",
    "    cookingtime=[i.text.strip('\\n') for i in soup.select('div.recipe-infos__timmings__cooking')]\n",
    "\n",
    "    # cost range\n",
    "    costrange=[i.text.strip('\\n') for i in soup.select('div.recipe-infos__budget')]\n",
    "        \n",
    "    # add url\n",
    "    link=url\n",
    "        \n",
    "    #list of ingredients\n",
    "    loi=[i.text.strip('\\n') for i in soup.select('li.recipe-ingredients__list__item')]\n",
    "        \n",
    "    #recipe (text)\n",
    "    recipedescr=[i.text.strip('\\n') for i in soup.select('ol.recipe-preparation__list')]\n",
    "        \n",
    "    dct={'Recipe_name':name,\\\n",
    "         'Author_name':author_name,\\\n",
    "         'Rating':rating,\\\n",
    "         'Tags':tags,\\\n",
    "         'Nb_likes':nblikes,\\\n",
    "         'Nb_portions':nbportions,\\\n",
    "         'Difficulty':difficulty,\\\n",
    "         'Total_cooking_time':totaltime,\\\n",
    "         'Preparation_time':preparationtime,\\\n",
    "         'Cooking_time':cookingtime,\\\n",
    "         'Cost_range':costrange,\\\n",
    "         'List_of_ingredients':loi,\\\n",
    "         'Recipe_description':recipedescr,\\\n",
    "         'Link':link}\n",
    "    return dct\n",
    "\n",
    "\n"
   ]
  },
  {
   "cell_type": "code",
   "execution_count": 141,
   "metadata": {},
   "outputs": [
    {
     "name": "stdout",
     "output_type": "stream",
     "text": [
      "0 reached\n",
      "5 reached\n",
      "10 reached\n",
      "15 reached\n",
      "20 reached\n",
      "25 reached\n"
     ]
    }
   ],
   "source": [
    "\n",
    "# Get all recipes for all pages\n",
    "data=[]\n",
    "column_names=['Recipe_name',\\\n",
    "         'Author_name',\\\n",
    "         'Rating',\\\n",
    "         'Tags',\\\n",
    "         'Nb_likes',\\\n",
    "         'Nb_portions',\\\n",
    "         'Difficulty',\\\n",
    "         'Total_cooking_time',\\\n",
    "         'Preparation_time',\\\n",
    "         'Cooking_time',\\\n",
    "         'Cost_range',\\\n",
    "         'List_of_ingredients',\\\n",
    "         'Recipe_description',\\\n",
    "         'Link']\n",
    "df = pd.DataFrame(columns = column_names) # create an empty dataframe \n",
    "for nbscrap, url in enumerate(recipes_of_all_pages):\n",
    "    #scrap info from recipes\n",
    "    output=Scrap_data(url)\n",
    "    data.append(output)\n",
    "    if nbscrap%5==0:\n",
    "        time.sleep(2)\n",
    "        print(f'{nbscrap} reached')\n",
    "    # save every n recipes n a file\n",
    "    if nbscrap%10==0:\n",
    "        df=pd.DataFrame(data)\n",
    "        df.to_csv('/users/sandrine/Desktop/Prework/Projects_Ironhack/web_scraping/marmiton.csv')\n",
    "df=pd.DataFrame(data)\n",
    "df.to_csv('/users/sandrine/Desktop/Prework/Projects_Ironhack/web_scraping/marmiton.csv')"
   ]
  },
  {
   "cell_type": "code",
   "execution_count": 137,
   "metadata": {},
   "outputs": [
    {
     "data": {
      "text/html": [
       "<div>\n",
       "<style scoped>\n",
       "    .dataframe tbody tr th:only-of-type {\n",
       "        vertical-align: middle;\n",
       "    }\n",
       "\n",
       "    .dataframe tbody tr th {\n",
       "        vertical-align: top;\n",
       "    }\n",
       "\n",
       "    .dataframe thead th {\n",
       "        text-align: right;\n",
       "    }\n",
       "</style>\n",
       "<table border=\"1\" class=\"dataframe\">\n",
       "  <thead>\n",
       "    <tr style=\"text-align: right;\">\n",
       "      <th></th>\n",
       "      <th>Recipe_name</th>\n",
       "      <th>Author_name</th>\n",
       "      <th>Rating</th>\n",
       "      <th>Tags</th>\n",
       "      <th>Nb_likes</th>\n",
       "      <th>Nb_portions</th>\n",
       "      <th>Difficulty</th>\n",
       "      <th>Total_cooking_time</th>\n",
       "      <th>Preparation_time</th>\n",
       "      <th>Cooking_time</th>\n",
       "      <th>Cost_range</th>\n",
       "      <th>List_of_ingredients</th>\n",
       "      <th>Recipe_description</th>\n",
       "      <th>Link</th>\n",
       "    </tr>\n",
       "  </thead>\n",
       "  <tbody>\n",
       "    <tr>\n",
       "      <th>0</th>\n",
       "      <td>NaN</td>\n",
       "      <td>NaN</td>\n",
       "      <td>NaN</td>\n",
       "      <td>NaN</td>\n",
       "      <td>NaN</td>\n",
       "      <td>NaN</td>\n",
       "      <td>NaN</td>\n",
       "      <td>NaN</td>\n",
       "      <td>NaN</td>\n",
       "      <td>NaN</td>\n",
       "      <td>NaN</td>\n",
       "      <td>NaN</td>\n",
       "      <td>NaN</td>\n",
       "      <td>NaN</td>\n",
       "    </tr>\n",
       "    <tr>\n",
       "      <th>1</th>\n",
       "      <td>NaN</td>\n",
       "      <td>NaN</td>\n",
       "      <td>NaN</td>\n",
       "      <td>NaN</td>\n",
       "      <td>NaN</td>\n",
       "      <td>NaN</td>\n",
       "      <td>NaN</td>\n",
       "      <td>NaN</td>\n",
       "      <td>NaN</td>\n",
       "      <td>NaN</td>\n",
       "      <td>NaN</td>\n",
       "      <td>NaN</td>\n",
       "      <td>NaN</td>\n",
       "      <td>NaN</td>\n",
       "    </tr>\n",
       "    <tr>\n",
       "      <th>2</th>\n",
       "      <td>NaN</td>\n",
       "      <td>NaN</td>\n",
       "      <td>NaN</td>\n",
       "      <td>NaN</td>\n",
       "      <td>NaN</td>\n",
       "      <td>NaN</td>\n",
       "      <td>NaN</td>\n",
       "      <td>NaN</td>\n",
       "      <td>NaN</td>\n",
       "      <td>NaN</td>\n",
       "      <td>NaN</td>\n",
       "      <td>NaN</td>\n",
       "      <td>NaN</td>\n",
       "      <td>NaN</td>\n",
       "    </tr>\n",
       "    <tr>\n",
       "      <th>3</th>\n",
       "      <td>NaN</td>\n",
       "      <td>NaN</td>\n",
       "      <td>NaN</td>\n",
       "      <td>NaN</td>\n",
       "      <td>NaN</td>\n",
       "      <td>NaN</td>\n",
       "      <td>NaN</td>\n",
       "      <td>NaN</td>\n",
       "      <td>NaN</td>\n",
       "      <td>NaN</td>\n",
       "      <td>NaN</td>\n",
       "      <td>NaN</td>\n",
       "      <td>NaN</td>\n",
       "      <td>NaN</td>\n",
       "    </tr>\n",
       "    <tr>\n",
       "      <th>4</th>\n",
       "      <td>NaN</td>\n",
       "      <td>NaN</td>\n",
       "      <td>NaN</td>\n",
       "      <td>NaN</td>\n",
       "      <td>NaN</td>\n",
       "      <td>NaN</td>\n",
       "      <td>NaN</td>\n",
       "      <td>NaN</td>\n",
       "      <td>NaN</td>\n",
       "      <td>NaN</td>\n",
       "      <td>NaN</td>\n",
       "      <td>NaN</td>\n",
       "      <td>NaN</td>\n",
       "      <td>NaN</td>\n",
       "    </tr>\n",
       "    <tr>\n",
       "      <th>5</th>\n",
       "      <td>NaN</td>\n",
       "      <td>NaN</td>\n",
       "      <td>NaN</td>\n",
       "      <td>NaN</td>\n",
       "      <td>NaN</td>\n",
       "      <td>NaN</td>\n",
       "      <td>NaN</td>\n",
       "      <td>NaN</td>\n",
       "      <td>NaN</td>\n",
       "      <td>NaN</td>\n",
       "      <td>NaN</td>\n",
       "      <td>NaN</td>\n",
       "      <td>NaN</td>\n",
       "      <td>NaN</td>\n",
       "    </tr>\n",
       "    <tr>\n",
       "      <th>6</th>\n",
       "      <td>NaN</td>\n",
       "      <td>NaN</td>\n",
       "      <td>NaN</td>\n",
       "      <td>NaN</td>\n",
       "      <td>NaN</td>\n",
       "      <td>NaN</td>\n",
       "      <td>NaN</td>\n",
       "      <td>NaN</td>\n",
       "      <td>NaN</td>\n",
       "      <td>NaN</td>\n",
       "      <td>NaN</td>\n",
       "      <td>NaN</td>\n",
       "      <td>NaN</td>\n",
       "      <td>NaN</td>\n",
       "    </tr>\n",
       "    <tr>\n",
       "      <th>7</th>\n",
       "      <td>NaN</td>\n",
       "      <td>NaN</td>\n",
       "      <td>NaN</td>\n",
       "      <td>NaN</td>\n",
       "      <td>NaN</td>\n",
       "      <td>NaN</td>\n",
       "      <td>NaN</td>\n",
       "      <td>NaN</td>\n",
       "      <td>NaN</td>\n",
       "      <td>NaN</td>\n",
       "      <td>NaN</td>\n",
       "      <td>NaN</td>\n",
       "      <td>NaN</td>\n",
       "      <td>NaN</td>\n",
       "    </tr>\n",
       "    <tr>\n",
       "      <th>8</th>\n",
       "      <td>NaN</td>\n",
       "      <td>NaN</td>\n",
       "      <td>NaN</td>\n",
       "      <td>NaN</td>\n",
       "      <td>NaN</td>\n",
       "      <td>NaN</td>\n",
       "      <td>NaN</td>\n",
       "      <td>NaN</td>\n",
       "      <td>NaN</td>\n",
       "      <td>NaN</td>\n",
       "      <td>NaN</td>\n",
       "      <td>NaN</td>\n",
       "      <td>NaN</td>\n",
       "      <td>NaN</td>\n",
       "    </tr>\n",
       "    <tr>\n",
       "      <th>9</th>\n",
       "      <td>NaN</td>\n",
       "      <td>NaN</td>\n",
       "      <td>NaN</td>\n",
       "      <td>NaN</td>\n",
       "      <td>NaN</td>\n",
       "      <td>NaN</td>\n",
       "      <td>NaN</td>\n",
       "      <td>NaN</td>\n",
       "      <td>NaN</td>\n",
       "      <td>NaN</td>\n",
       "      <td>NaN</td>\n",
       "      <td>NaN</td>\n",
       "      <td>NaN</td>\n",
       "      <td>NaN</td>\n",
       "    </tr>\n",
       "  </tbody>\n",
       "</table>\n",
       "</div>"
      ],
      "text/plain": [
       "  Recipe_name Author_name Rating Tags Nb_likes Nb_portions Difficulty  \\\n",
       "0         NaN         NaN    NaN  NaN      NaN         NaN        NaN   \n",
       "1         NaN         NaN    NaN  NaN      NaN         NaN        NaN   \n",
       "2         NaN         NaN    NaN  NaN      NaN         NaN        NaN   \n",
       "3         NaN         NaN    NaN  NaN      NaN         NaN        NaN   \n",
       "4         NaN         NaN    NaN  NaN      NaN         NaN        NaN   \n",
       "5         NaN         NaN    NaN  NaN      NaN         NaN        NaN   \n",
       "6         NaN         NaN    NaN  NaN      NaN         NaN        NaN   \n",
       "7         NaN         NaN    NaN  NaN      NaN         NaN        NaN   \n",
       "8         NaN         NaN    NaN  NaN      NaN         NaN        NaN   \n",
       "9         NaN         NaN    NaN  NaN      NaN         NaN        NaN   \n",
       "\n",
       "  Total_cooking_time Preparation_time Cooking_time Cost_range  \\\n",
       "0                NaN              NaN          NaN        NaN   \n",
       "1                NaN              NaN          NaN        NaN   \n",
       "2                NaN              NaN          NaN        NaN   \n",
       "3                NaN              NaN          NaN        NaN   \n",
       "4                NaN              NaN          NaN        NaN   \n",
       "5                NaN              NaN          NaN        NaN   \n",
       "6                NaN              NaN          NaN        NaN   \n",
       "7                NaN              NaN          NaN        NaN   \n",
       "8                NaN              NaN          NaN        NaN   \n",
       "9                NaN              NaN          NaN        NaN   \n",
       "\n",
       "  List_of_ingredients Recipe_description Link  \n",
       "0                 NaN                NaN  NaN  \n",
       "1                 NaN                NaN  NaN  \n",
       "2                 NaN                NaN  NaN  \n",
       "3                 NaN                NaN  NaN  \n",
       "4                 NaN                NaN  NaN  \n",
       "5                 NaN                NaN  NaN  \n",
       "6                 NaN                NaN  NaN  \n",
       "7                 NaN                NaN  NaN  \n",
       "8                 NaN                NaN  NaN  \n",
       "9                 NaN                NaN  NaN  "
      ]
     },
     "execution_count": 137,
     "metadata": {},
     "output_type": "execute_result"
    }
   ],
   "source": [
    "df"
   ]
  },
  {
   "cell_type": "code",
   "execution_count": 120,
   "metadata": {},
   "outputs": [
    {
     "data": {
      "text/html": [
       "<div>\n",
       "<style scoped>\n",
       "    .dataframe tbody tr th:only-of-type {\n",
       "        vertical-align: middle;\n",
       "    }\n",
       "\n",
       "    .dataframe tbody tr th {\n",
       "        vertical-align: top;\n",
       "    }\n",
       "\n",
       "    .dataframe thead th {\n",
       "        text-align: right;\n",
       "    }\n",
       "</style>\n",
       "<table border=\"1\" class=\"dataframe\">\n",
       "  <thead>\n",
       "    <tr style=\"text-align: right;\">\n",
       "      <th></th>\n",
       "      <th>Recipe_name</th>\n",
       "      <th>Author_name</th>\n",
       "      <th>Rating</th>\n",
       "      <th>Tags</th>\n",
       "      <th>Nb_likes</th>\n",
       "      <th>Nb_portions</th>\n",
       "      <th>Difficulty</th>\n",
       "      <th>Total_cooking_time</th>\n",
       "      <th>Preparation_time</th>\n",
       "      <th>Cooking_time</th>\n",
       "      <th>Cost_range</th>\n",
       "      <th>List_of_ingredients</th>\n",
       "      <th>Recipe_description</th>\n",
       "      <th>Link</th>\n",
       "    </tr>\n",
       "  </thead>\n",
       "  <tbody>\n",
       "    <tr>\n",
       "      <th>0</th>\n",
       "      <td>[Original American Cookies de Mike]</td>\n",
       "      <td>[nathan_15813882]</td>\n",
       "      <td>[4.7/5]</td>\n",
       "      <td>[Végétarien, Rapide, Petits gâteaux, Gâteau, C...</td>\n",
       "      <td>121k</td>\n",
       "      <td>[15]</td>\n",
       "      <td>[très facile]</td>\n",
       "      <td>[Temps Total : 15 min\\t\\t\\t\\t\\t\\t\\t\\t]</td>\n",
       "      <td>[Préparation : 5 min\\t\\t\\t\\t\\t\\t\\t\\t\\t\\t]</td>\n",
       "      <td>[Cuisson :\\n\\n\\t\\t\\t\\t\\t\\t\\t\\t\\t\\t\\t\\t10 min\\t...</td>\n",
       "      <td>[bon marché]</td>\n",
       "      <td>[250\\n\\n\\n\\ng de farine  , 90\\n\\n\\n\\ng de sucr...</td>\n",
       "      <td>[\\t\\t\\tMélangez la farine, les sucres, le sel ...</td>\n",
       "      <td>https://www.marmiton.org/recettes/recette_orig...</td>\n",
       "    </tr>\n",
       "    <tr>\n",
       "      <th>1</th>\n",
       "      <td>[Blanquette de veau facile]</td>\n",
       "      <td>[lilia1]</td>\n",
       "      <td>[4.9/5]</td>\n",
       "      <td>[Viande en sauce, Viande, Blanquette, Je débute]</td>\n",
       "      <td>151k</td>\n",
       "      <td>[4]</td>\n",
       "      <td>[très facile]</td>\n",
       "      <td>[Temps Total : 2h15\\t\\t\\t\\t\\t\\t\\t\\t]</td>\n",
       "      <td>[Préparation : 15 min\\t\\t\\t\\t\\t\\t\\t\\t\\t\\t]</td>\n",
       "      <td>[Cuisson :\\n\\n\\t\\t\\t\\t\\t\\t\\t\\t\\t\\t\\t\\t2 h\\t\\t\\...</td>\n",
       "      <td>[Coût moyen]</td>\n",
       "      <td>[1\\n\\n\\n\\nkg de blanquette de veau  , 1\\n\\n\\n\\...</td>\n",
       "      <td>[\\t\\t\\tFaire revenir la viande dans un peu de ...</td>\n",
       "      <td>https://www.marmiton.org/recettes/recette_blan...</td>\n",
       "    </tr>\n",
       "    <tr>\n",
       "      <th>2</th>\n",
       "      <td>[Le crumble aux pommes du Chat qui Tousse]</td>\n",
       "      <td>[Anonyme]</td>\n",
       "      <td>[4.8/5]</td>\n",
       "      <td>[Végétarien, Crumble, Crumble aux pommes, Les ...</td>\n",
       "      <td>104k</td>\n",
       "      <td>[6]</td>\n",
       "      <td>[très facile]</td>\n",
       "      <td>[Temps Total : 55 min\\t\\t\\t\\t\\t\\t\\t\\t]</td>\n",
       "      <td>[Préparation : 25 min\\t\\t\\t\\t\\t\\t\\t\\t\\t\\t]</td>\n",
       "      <td>[Cuisson :\\n\\n\\t\\t\\t\\t\\t\\t\\t\\t\\t\\t\\t\\t30 min\\t...</td>\n",
       "      <td>[bon marché]</td>\n",
       "      <td>[6\\n\\n\\n\\n pommes (des Canada par exemple) , 1...</td>\n",
       "      <td>[\\t\\t\\tPréchauffer le four à 210°C (thermostat...</td>\n",
       "      <td>https://www.marmiton.org/recettes/recette_le-c...</td>\n",
       "    </tr>\n",
       "    <tr>\n",
       "      <th>3</th>\n",
       "      <td>[Gâteau au yaourt]</td>\n",
       "      <td>[Anonyme]</td>\n",
       "      <td>[4.6/5]</td>\n",
       "      <td>[Végétarien, Gâteau, Gâteau au yaourt, Dessert...</td>\n",
       "      <td>120k</td>\n",
       "      <td>[4]</td>\n",
       "      <td>[très facile]</td>\n",
       "      <td>[Temps Total : 45 min\\t\\t\\t\\t\\t\\t\\t\\t]</td>\n",
       "      <td>[Préparation : 15 min\\t\\t\\t\\t\\t\\t\\t\\t\\t\\t]</td>\n",
       "      <td>[Cuisson :\\n\\n\\t\\t\\t\\t\\t\\t\\t\\t\\t\\t\\t\\t30 min\\t...</td>\n",
       "      <td>[bon marché]</td>\n",
       "      <td>[1/2\\n\\n\\n\\npaquet de levure chimique  , 1\\n\\n...</td>\n",
       "      <td>[\\t\\t\\tPréchauffer le four à 180°C (thermostat...</td>\n",
       "      <td>https://www.marmiton.org/recettes/recette_gate...</td>\n",
       "    </tr>\n",
       "    <tr>\n",
       "      <th>4</th>\n",
       "      <td>[Véritable moelleux au chocolat]</td>\n",
       "      <td>[Anonyme]</td>\n",
       "      <td>[4.6/5]</td>\n",
       "      <td>[Végétarien, Gâteau, Gâteau au chocolat, Desse...</td>\n",
       "      <td>89k</td>\n",
       "      <td>[6]</td>\n",
       "      <td>[très facile]</td>\n",
       "      <td>[Temps Total : 40 min\\t\\t\\t\\t\\t\\t\\t\\t]</td>\n",
       "      <td>[Préparation : 10 min\\t\\t\\t\\t\\t\\t\\t\\t\\t\\t]</td>\n",
       "      <td>[Cuisson :\\n\\n\\t\\t\\t\\t\\t\\t\\t\\t\\t\\t\\t\\t30 min\\t...</td>\n",
       "      <td>[bon marché]</td>\n",
       "      <td>[125\\n\\n\\n\\ng de farine  , 125\\n\\n\\n\\ng de beu...</td>\n",
       "      <td>[\\t\\t\\tPréchauffer le four à 180°C (thermostat...</td>\n",
       "      <td>https://www.marmiton.org/recettes/recette_veri...</td>\n",
       "    </tr>\n",
       "    <tr>\n",
       "      <th>5</th>\n",
       "      <td>[Les Timbales de Jeanne (saumon à la mousse de...</td>\n",
       "      <td>[sofia_15984013]</td>\n",
       "      <td>[4.8/5]</td>\n",
       "      <td>[Sans gluten, Micro-ondes]</td>\n",
       "      <td>78k</td>\n",
       "      <td>[4]</td>\n",
       "      <td>[très facile]</td>\n",
       "      <td>[Temps Total : 18 min\\t\\t\\t\\t\\t\\t\\t\\t]</td>\n",
       "      <td>[Préparation : 15 min\\t\\t\\t\\t\\t\\t\\t\\t\\t\\t]</td>\n",
       "      <td>[Cuisson :\\n\\n\\t\\t\\t\\t\\t\\t\\t\\t\\t\\t\\t\\t3 min\\t\\...</td>\n",
       "      <td>[bon marché]</td>\n",
       "      <td>[4\\n\\n\\n\\ntranches de saumon fumé  , 2\\n\\n\\n\\n...</td>\n",
       "      <td>[\\t\\t\\tRincer, essorer et ciseler l'aneth et l...</td>\n",
       "      <td>https://www.marmiton.org/recettes/recette_les-...</td>\n",
       "    </tr>\n",
       "    <tr>\n",
       "      <th>6</th>\n",
       "      <td>[Gâteau aux pommes facile]</td>\n",
       "      <td>[Anonyme]</td>\n",
       "      <td>[4.7/5]</td>\n",
       "      <td>[Végétarien, Gâteau, Gâteau aux pommes, Desser...</td>\n",
       "      <td>89k</td>\n",
       "      <td>[1]</td>\n",
       "      <td>[très facile]</td>\n",
       "      <td>[Temps Total : 57 min\\t\\t\\t\\t\\t\\t\\t\\t]</td>\n",
       "      <td>[Préparation : 12 min\\t\\t\\t\\t\\t\\t\\t\\t\\t\\t]</td>\n",
       "      <td>[Cuisson :\\n\\n\\t\\t\\t\\t\\t\\t\\t\\t\\t\\t\\t\\t45 min\\t...</td>\n",
       "      <td>[bon marché]</td>\n",
       "      <td>[120\\n\\n\\n\\ng de sucre semoule  , 1\\n\\n\\n\\npaq...</td>\n",
       "      <td>[\\t\\t\\tPréchauffer le four à 160°C (thermostat...</td>\n",
       "      <td>https://www.marmiton.org/recettes/recette_gate...</td>\n",
       "    </tr>\n",
       "    <tr>\n",
       "      <th>7</th>\n",
       "      <td>[Meringue pour les nuls]</td>\n",
       "      <td>[julia_15932643]</td>\n",
       "      <td>[4.8/5]</td>\n",
       "      <td>[Végétarien, Sans gluten, Petits gâteaux, Gâte...</td>\n",
       "      <td>73k</td>\n",
       "      <td>[20]</td>\n",
       "      <td>[très facile]</td>\n",
       "      <td>[Temps Total : 1h05\\t\\t\\t\\t\\t\\t\\t\\t]</td>\n",
       "      <td>[Préparation : 5 min\\t\\t\\t\\t\\t\\t\\t\\t\\t\\t]</td>\n",
       "      <td>[Cuisson :\\n\\n\\t\\t\\t\\t\\t\\t\\t\\t\\t\\t\\t\\t1 h\\t\\t\\...</td>\n",
       "      <td>[bon marché]</td>\n",
       "      <td>[4\\n\\n\\n\\n blancs d'oeuf  , 250\\n\\n\\n\\ng de su...</td>\n",
       "      <td>[\\t\\t\\tQuelques trucs pour bien réussir ces me...</td>\n",
       "      <td>https://www.marmiton.org/recettes/recette_meri...</td>\n",
       "    </tr>\n",
       "    <tr>\n",
       "      <th>8</th>\n",
       "      <td>[Pancakes]</td>\n",
       "      <td>[Anonyme]</td>\n",
       "      <td>[4.7/5]</td>\n",
       "      <td>[Végétarien, Rapide, Crêpe, Pancake, Les class...</td>\n",
       "      <td>109k</td>\n",
       "      <td>[4]</td>\n",
       "      <td>[très facile]</td>\n",
       "      <td>[Temps Total : 14 min\\t\\t\\t\\t\\t\\t\\t\\t]</td>\n",
       "      <td>[Préparation : 10 min\\t\\t\\t\\t\\t\\t\\t\\t\\t\\t]</td>\n",
       "      <td>[Cuisson :\\n\\n\\t\\t\\t\\t\\t\\t\\t\\t\\t\\t\\t\\t4 min\\t\\...</td>\n",
       "      <td>[bon marché]</td>\n",
       "      <td>[250\\n\\n\\n\\ng de farine  , 30\\n\\n\\n\\ng de sucr...</td>\n",
       "      <td>[\\t\\t\\tFaire fondre le beurre, dans une casser...</td>\n",
       "      <td>https://www.marmiton.org/recettes/recette_panc...</td>\n",
       "    </tr>\n",
       "    <tr>\n",
       "      <th>9</th>\n",
       "      <td>[Cookie cup glace vanille et pépites de chocolat]</td>\n",
       "      <td>[]</td>\n",
       "      <td>[3/5]</td>\n",
       "      <td>[Végétarien, Petits gâteaux, Gâteau, Cookie]</td>\n",
       "      <td>2.4k</td>\n",
       "      <td>[6]</td>\n",
       "      <td>[facile]</td>\n",
       "      <td>[Temps Total : 32 min\\t\\t\\t\\t\\t\\t\\t\\t]</td>\n",
       "      <td>[Préparation : 15 min\\t\\t\\t\\t\\t\\t\\t\\t\\t\\t]</td>\n",
       "      <td>[Cuisson :\\n\\n\\t\\t\\t\\t\\t\\t\\t\\t\\t\\t\\t\\t17 min\\t...</td>\n",
       "      <td>[bon marché]</td>\n",
       "      <td>[140\\n\\n\\n\\ng de farine  , 70\\n\\n\\n\\ng de sucr...</td>\n",
       "      <td>[\\t\\t\\tMélangez la farine, le sucre, la levure...</td>\n",
       "      <td>https://www.marmiton.org/recettes/recette_cook...</td>\n",
       "    </tr>\n",
       "    <tr>\n",
       "      <th>10</th>\n",
       "      <td>[Filet mignon en croûte]</td>\n",
       "      <td>[rose_14318325]</td>\n",
       "      <td>[4.8/5]</td>\n",
       "      <td>[Viande rôtie, Viande, Filet mignon, Les class...</td>\n",
       "      <td>102k</td>\n",
       "      <td>[6]</td>\n",
       "      <td>[très facile]</td>\n",
       "      <td>[Temps Total : 1 h\\t\\t\\t\\t\\t\\t\\t\\t]</td>\n",
       "      <td>[Préparation : 15 min\\t\\t\\t\\t\\t\\t\\t\\t\\t\\t]</td>\n",
       "      <td>[Cuisson :\\n\\n\\t\\t\\t\\t\\t\\t\\t\\t\\t\\t\\t\\t45 min\\t...</td>\n",
       "      <td>[bon marché]</td>\n",
       "      <td>[2\\n\\n\\n\\n filets mignons de porc , 2\\n\\n\\n\\n ...</td>\n",
       "      <td>[\\t\\t\\tPeler et émincer les oignons.\\t\\t\\n\\n\\t...</td>\n",
       "      <td>https://www.marmiton.org/recettes/recette_file...</td>\n",
       "    </tr>\n",
       "    <tr>\n",
       "      <th>11</th>\n",
       "      <td>[Galette des rois]</td>\n",
       "      <td>[Anonyme]</td>\n",
       "      <td>[4.7/5]</td>\n",
       "      <td>[Végétarien, Galette des rois, Galette frangip...</td>\n",
       "      <td>96k</td>\n",
       "      <td>[6]</td>\n",
       "      <td>[très facile]</td>\n",
       "      <td>[Temps Total : 55 min\\t\\t\\t\\t\\t\\t\\t\\t]</td>\n",
       "      <td>[Préparation : 15 min\\t\\t\\t\\t\\t\\t\\t\\t\\t\\t]</td>\n",
       "      <td>[Cuisson :\\n\\n\\t\\t\\t\\t\\t\\t\\t\\t\\t\\t\\t\\t40 min\\t...</td>\n",
       "      <td>[bon marché]</td>\n",
       "      <td>[2\\n\\n\\n\\n pâtes feuilletées  , 100\\n\\n\\n\\ng d...</td>\n",
       "      <td>[\\t\\t\\tPréchauffer le four à 210°C (thermostat...</td>\n",
       "      <td>https://www.marmiton.org/recettes/recette_gale...</td>\n",
       "    </tr>\n",
       "    <tr>\n",
       "      <th>12</th>\n",
       "      <td>[Fondant au chocolat]</td>\n",
       "      <td>[Anonyme]</td>\n",
       "      <td>[4.6/5]</td>\n",
       "      <td>[Végétarien, Gâteau au chocolat, Gâteau, Fonda...</td>\n",
       "      <td>109k</td>\n",
       "      <td>[8]</td>\n",
       "      <td>[très facile]</td>\n",
       "      <td>[Temps Total : 35 min\\t\\t\\t\\t\\t\\t\\t\\t]</td>\n",
       "      <td>[Préparation : 15 min\\t\\t\\t\\t\\t\\t\\t\\t\\t\\t]</td>\n",
       "      <td>[Cuisson :\\n\\n\\t\\t\\t\\t\\t\\t\\t\\t\\t\\t\\t\\t20 min\\t...</td>\n",
       "      <td>[bon marché]</td>\n",
       "      <td>[200\\n\\n\\n\\ng de chocolat à cuire , 100\\n\\n\\n\\...</td>\n",
       "      <td>[\\t\\t\\tPréchauffer le four à 180°C (thermostat...</td>\n",
       "      <td>https://www.marmiton.org/recettes/recette_fond...</td>\n",
       "    </tr>\n",
       "    <tr>\n",
       "      <th>13</th>\n",
       "      <td>[Cookies surprise au coeur de chocolat]</td>\n",
       "      <td>[]</td>\n",
       "      <td>[5/5]</td>\n",
       "      <td>[Sans gluten, Petits gâteaux, Gâteau, Cookie]</td>\n",
       "      <td>1.1k</td>\n",
       "      <td>[12]</td>\n",
       "      <td>[très facile]</td>\n",
       "      <td>[Temps Total : 55 min\\t\\t\\t\\t\\t\\t\\t\\t]</td>\n",
       "      <td>[Préparation : 10 min\\t\\t\\t\\t\\t\\t\\t\\t\\t\\t]</td>\n",
       "      <td>[Cuisson :\\n\\n\\t\\t\\t\\t\\t\\t\\t\\t\\t\\t\\t\\t15 min\\t...</td>\n",
       "      <td>[bon marché]</td>\n",
       "      <td>[1\\n\\n\\n\\n Préparation pour Cookies aux pépite...</td>\n",
       "      <td>[\\t\\t\\tPréchauffez votre four thermostat 6/7 (...</td>\n",
       "      <td>https://www.marmiton.org/recettes/recette_cook...</td>\n",
       "    </tr>\n",
       "  </tbody>\n",
       "</table>\n",
       "</div>"
      ],
      "text/plain": [
       "                                          Recipe_name        Author_name  \\\n",
       "0                 [Original American Cookies de Mike]  [nathan_15813882]   \n",
       "1                         [Blanquette de veau facile]           [lilia1]   \n",
       "2          [Le crumble aux pommes du Chat qui Tousse]          [Anonyme]   \n",
       "3                                  [Gâteau au yaourt]          [Anonyme]   \n",
       "4                    [Véritable moelleux au chocolat]          [Anonyme]   \n",
       "5   [Les Timbales de Jeanne (saumon à la mousse de...   [sofia_15984013]   \n",
       "6                          [Gâteau aux pommes facile]          [Anonyme]   \n",
       "7                            [Meringue pour les nuls]   [julia_15932643]   \n",
       "8                                          [Pancakes]          [Anonyme]   \n",
       "9   [Cookie cup glace vanille et pépites de chocolat]                 []   \n",
       "10                           [Filet mignon en croûte]    [rose_14318325]   \n",
       "11                                 [Galette des rois]          [Anonyme]   \n",
       "12                              [Fondant au chocolat]          [Anonyme]   \n",
       "13            [Cookies surprise au coeur de chocolat]                 []   \n",
       "\n",
       "     Rating                                               Tags Nb_likes  \\\n",
       "0   [4.7/5]  [Végétarien, Rapide, Petits gâteaux, Gâteau, C...     121k   \n",
       "1   [4.9/5]   [Viande en sauce, Viande, Blanquette, Je débute]     151k   \n",
       "2   [4.8/5]  [Végétarien, Crumble, Crumble aux pommes, Les ...     104k   \n",
       "3   [4.6/5]  [Végétarien, Gâteau, Gâteau au yaourt, Dessert...     120k   \n",
       "4   [4.6/5]  [Végétarien, Gâteau, Gâteau au chocolat, Desse...      89k   \n",
       "5   [4.8/5]                         [Sans gluten, Micro-ondes]      78k   \n",
       "6   [4.7/5]  [Végétarien, Gâteau, Gâteau aux pommes, Desser...      89k   \n",
       "7   [4.8/5]  [Végétarien, Sans gluten, Petits gâteaux, Gâte...      73k   \n",
       "8   [4.7/5]  [Végétarien, Rapide, Crêpe, Pancake, Les class...     109k   \n",
       "9     [3/5]       [Végétarien, Petits gâteaux, Gâteau, Cookie]     2.4k   \n",
       "10  [4.8/5]  [Viande rôtie, Viande, Filet mignon, Les class...     102k   \n",
       "11  [4.7/5]  [Végétarien, Galette des rois, Galette frangip...      96k   \n",
       "12  [4.6/5]  [Végétarien, Gâteau au chocolat, Gâteau, Fonda...     109k   \n",
       "13    [5/5]      [Sans gluten, Petits gâteaux, Gâteau, Cookie]     1.1k   \n",
       "\n",
       "   Nb_portions     Difficulty                      Total_cooking_time  \\\n",
       "0         [15]  [très facile]  [Temps Total : 15 min\\t\\t\\t\\t\\t\\t\\t\\t]   \n",
       "1          [4]  [très facile]    [Temps Total : 2h15\\t\\t\\t\\t\\t\\t\\t\\t]   \n",
       "2          [6]  [très facile]  [Temps Total : 55 min\\t\\t\\t\\t\\t\\t\\t\\t]   \n",
       "3          [4]  [très facile]  [Temps Total : 45 min\\t\\t\\t\\t\\t\\t\\t\\t]   \n",
       "4          [6]  [très facile]  [Temps Total : 40 min\\t\\t\\t\\t\\t\\t\\t\\t]   \n",
       "5          [4]  [très facile]  [Temps Total : 18 min\\t\\t\\t\\t\\t\\t\\t\\t]   \n",
       "6          [1]  [très facile]  [Temps Total : 57 min\\t\\t\\t\\t\\t\\t\\t\\t]   \n",
       "7         [20]  [très facile]    [Temps Total : 1h05\\t\\t\\t\\t\\t\\t\\t\\t]   \n",
       "8          [4]  [très facile]  [Temps Total : 14 min\\t\\t\\t\\t\\t\\t\\t\\t]   \n",
       "9          [6]       [facile]  [Temps Total : 32 min\\t\\t\\t\\t\\t\\t\\t\\t]   \n",
       "10         [6]  [très facile]     [Temps Total : 1 h\\t\\t\\t\\t\\t\\t\\t\\t]   \n",
       "11         [6]  [très facile]  [Temps Total : 55 min\\t\\t\\t\\t\\t\\t\\t\\t]   \n",
       "12         [8]  [très facile]  [Temps Total : 35 min\\t\\t\\t\\t\\t\\t\\t\\t]   \n",
       "13        [12]  [très facile]  [Temps Total : 55 min\\t\\t\\t\\t\\t\\t\\t\\t]   \n",
       "\n",
       "                              Preparation_time  \\\n",
       "0    [Préparation : 5 min\\t\\t\\t\\t\\t\\t\\t\\t\\t\\t]   \n",
       "1   [Préparation : 15 min\\t\\t\\t\\t\\t\\t\\t\\t\\t\\t]   \n",
       "2   [Préparation : 25 min\\t\\t\\t\\t\\t\\t\\t\\t\\t\\t]   \n",
       "3   [Préparation : 15 min\\t\\t\\t\\t\\t\\t\\t\\t\\t\\t]   \n",
       "4   [Préparation : 10 min\\t\\t\\t\\t\\t\\t\\t\\t\\t\\t]   \n",
       "5   [Préparation : 15 min\\t\\t\\t\\t\\t\\t\\t\\t\\t\\t]   \n",
       "6   [Préparation : 12 min\\t\\t\\t\\t\\t\\t\\t\\t\\t\\t]   \n",
       "7    [Préparation : 5 min\\t\\t\\t\\t\\t\\t\\t\\t\\t\\t]   \n",
       "8   [Préparation : 10 min\\t\\t\\t\\t\\t\\t\\t\\t\\t\\t]   \n",
       "9   [Préparation : 15 min\\t\\t\\t\\t\\t\\t\\t\\t\\t\\t]   \n",
       "10  [Préparation : 15 min\\t\\t\\t\\t\\t\\t\\t\\t\\t\\t]   \n",
       "11  [Préparation : 15 min\\t\\t\\t\\t\\t\\t\\t\\t\\t\\t]   \n",
       "12  [Préparation : 15 min\\t\\t\\t\\t\\t\\t\\t\\t\\t\\t]   \n",
       "13  [Préparation : 10 min\\t\\t\\t\\t\\t\\t\\t\\t\\t\\t]   \n",
       "\n",
       "                                         Cooking_time    Cost_range  \\\n",
       "0   [Cuisson :\\n\\n\\t\\t\\t\\t\\t\\t\\t\\t\\t\\t\\t\\t10 min\\t...  [bon marché]   \n",
       "1   [Cuisson :\\n\\n\\t\\t\\t\\t\\t\\t\\t\\t\\t\\t\\t\\t2 h\\t\\t\\...  [Coût moyen]   \n",
       "2   [Cuisson :\\n\\n\\t\\t\\t\\t\\t\\t\\t\\t\\t\\t\\t\\t30 min\\t...  [bon marché]   \n",
       "3   [Cuisson :\\n\\n\\t\\t\\t\\t\\t\\t\\t\\t\\t\\t\\t\\t30 min\\t...  [bon marché]   \n",
       "4   [Cuisson :\\n\\n\\t\\t\\t\\t\\t\\t\\t\\t\\t\\t\\t\\t30 min\\t...  [bon marché]   \n",
       "5   [Cuisson :\\n\\n\\t\\t\\t\\t\\t\\t\\t\\t\\t\\t\\t\\t3 min\\t\\...  [bon marché]   \n",
       "6   [Cuisson :\\n\\n\\t\\t\\t\\t\\t\\t\\t\\t\\t\\t\\t\\t45 min\\t...  [bon marché]   \n",
       "7   [Cuisson :\\n\\n\\t\\t\\t\\t\\t\\t\\t\\t\\t\\t\\t\\t1 h\\t\\t\\...  [bon marché]   \n",
       "8   [Cuisson :\\n\\n\\t\\t\\t\\t\\t\\t\\t\\t\\t\\t\\t\\t4 min\\t\\...  [bon marché]   \n",
       "9   [Cuisson :\\n\\n\\t\\t\\t\\t\\t\\t\\t\\t\\t\\t\\t\\t17 min\\t...  [bon marché]   \n",
       "10  [Cuisson :\\n\\n\\t\\t\\t\\t\\t\\t\\t\\t\\t\\t\\t\\t45 min\\t...  [bon marché]   \n",
       "11  [Cuisson :\\n\\n\\t\\t\\t\\t\\t\\t\\t\\t\\t\\t\\t\\t40 min\\t...  [bon marché]   \n",
       "12  [Cuisson :\\n\\n\\t\\t\\t\\t\\t\\t\\t\\t\\t\\t\\t\\t20 min\\t...  [bon marché]   \n",
       "13  [Cuisson :\\n\\n\\t\\t\\t\\t\\t\\t\\t\\t\\t\\t\\t\\t15 min\\t...  [bon marché]   \n",
       "\n",
       "                                  List_of_ingredients  \\\n",
       "0   [250\\n\\n\\n\\ng de farine  , 90\\n\\n\\n\\ng de sucr...   \n",
       "1   [1\\n\\n\\n\\nkg de blanquette de veau  , 1\\n\\n\\n\\...   \n",
       "2   [6\\n\\n\\n\\n pommes (des Canada par exemple) , 1...   \n",
       "3   [1/2\\n\\n\\n\\npaquet de levure chimique  , 1\\n\\n...   \n",
       "4   [125\\n\\n\\n\\ng de farine  , 125\\n\\n\\n\\ng de beu...   \n",
       "5   [4\\n\\n\\n\\ntranches de saumon fumé  , 2\\n\\n\\n\\n...   \n",
       "6   [120\\n\\n\\n\\ng de sucre semoule  , 1\\n\\n\\n\\npaq...   \n",
       "7   [4\\n\\n\\n\\n blancs d'oeuf  , 250\\n\\n\\n\\ng de su...   \n",
       "8   [250\\n\\n\\n\\ng de farine  , 30\\n\\n\\n\\ng de sucr...   \n",
       "9   [140\\n\\n\\n\\ng de farine  , 70\\n\\n\\n\\ng de sucr...   \n",
       "10  [2\\n\\n\\n\\n filets mignons de porc , 2\\n\\n\\n\\n ...   \n",
       "11  [2\\n\\n\\n\\n pâtes feuilletées  , 100\\n\\n\\n\\ng d...   \n",
       "12  [200\\n\\n\\n\\ng de chocolat à cuire , 100\\n\\n\\n\\...   \n",
       "13  [1\\n\\n\\n\\n Préparation pour Cookies aux pépite...   \n",
       "\n",
       "                                   Recipe_description  \\\n",
       "0   [\\t\\t\\tMélangez la farine, les sucres, le sel ...   \n",
       "1   [\\t\\t\\tFaire revenir la viande dans un peu de ...   \n",
       "2   [\\t\\t\\tPréchauffer le four à 210°C (thermostat...   \n",
       "3   [\\t\\t\\tPréchauffer le four à 180°C (thermostat...   \n",
       "4   [\\t\\t\\tPréchauffer le four à 180°C (thermostat...   \n",
       "5   [\\t\\t\\tRincer, essorer et ciseler l'aneth et l...   \n",
       "6   [\\t\\t\\tPréchauffer le four à 160°C (thermostat...   \n",
       "7   [\\t\\t\\tQuelques trucs pour bien réussir ces me...   \n",
       "8   [\\t\\t\\tFaire fondre le beurre, dans une casser...   \n",
       "9   [\\t\\t\\tMélangez la farine, le sucre, la levure...   \n",
       "10  [\\t\\t\\tPeler et émincer les oignons.\\t\\t\\n\\n\\t...   \n",
       "11  [\\t\\t\\tPréchauffer le four à 210°C (thermostat...   \n",
       "12  [\\t\\t\\tPréchauffer le four à 180°C (thermostat...   \n",
       "13  [\\t\\t\\tPréchauffez votre four thermostat 6/7 (...   \n",
       "\n",
       "                                                 Link  \n",
       "0   https://www.marmiton.org/recettes/recette_orig...  \n",
       "1   https://www.marmiton.org/recettes/recette_blan...  \n",
       "2   https://www.marmiton.org/recettes/recette_le-c...  \n",
       "3   https://www.marmiton.org/recettes/recette_gate...  \n",
       "4   https://www.marmiton.org/recettes/recette_veri...  \n",
       "5   https://www.marmiton.org/recettes/recette_les-...  \n",
       "6   https://www.marmiton.org/recettes/recette_gate...  \n",
       "7   https://www.marmiton.org/recettes/recette_meri...  \n",
       "8   https://www.marmiton.org/recettes/recette_panc...  \n",
       "9   https://www.marmiton.org/recettes/recette_cook...  \n",
       "10  https://www.marmiton.org/recettes/recette_file...  \n",
       "11  https://www.marmiton.org/recettes/recette_gale...  \n",
       "12  https://www.marmiton.org/recettes/recette_fond...  \n",
       "13  https://www.marmiton.org/recettes/recette_cook...  "
      ]
     },
     "execution_count": 120,
     "metadata": {},
     "output_type": "execute_result"
    }
   ],
   "source": [
    "df"
   ]
  },
  {
   "cell_type": "code",
   "execution_count": null,
   "metadata": {},
   "outputs": [],
   "source": [
    "# Launch function terminal"
   ]
  },
  {
   "cell_type": "code",
   "execution_count": null,
   "metadata": {},
   "outputs": [],
   "source": [
    "url_page='https://www.marmiton.org/recettes/recherche.aspx?type=all&aqt=&start=18&page=2'\n",
    "soup=BeautifulSoup(r.get(url_page).content)\n",
    "[f'https://www.marmiton.org'+i['href'] for i in soup.select('a.recipe-card-link')]"
   ]
  },
  {
   "cell_type": "code",
   "execution_count": null,
   "metadata": {},
   "outputs": [],
   "source": [
    "https://www.marmiton.org/recettes/recette_chouquettes_30622.aspx"
   ]
  },
  {
   "cell_type": "code",
   "execution_count": null,
   "metadata": {},
   "outputs": [],
   "source": [
    "#"
   ]
  }
 ],
 "metadata": {
  "kernelspec": {
   "display_name": "Python 3",
   "language": "python",
   "name": "python3"
  },
  "language_info": {
   "codemirror_mode": {
    "name": "ipython",
    "version": 3
   },
   "file_extension": ".py",
   "mimetype": "text/x-python",
   "name": "python",
   "nbconvert_exporter": "python",
   "pygments_lexer": "ipython3",
   "version": "3.7.6"
  }
 },
 "nbformat": 4,
 "nbformat_minor": 4
}
