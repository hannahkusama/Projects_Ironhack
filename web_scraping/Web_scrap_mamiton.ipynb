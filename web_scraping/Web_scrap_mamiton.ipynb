{
 "cells": [
  {
   "cell_type": "code",
   "execution_count": null,
   "metadata": {},
   "outputs": [],
   "source": [
    "import pandas as pd\n",
    "import requests as r\n",
    "from bs4 import BeautifulSoup\n",
    "import re"
   ]
  },
  {
   "cell_type": "code",
   "execution_count": 50,
   "metadata": {},
   "outputs": [],
   "source": [
    "url='https://www.marmiton.org/recettes/recette_tacos-mexicains_34389.aspx'"
   ]
  },
  {
   "cell_type": "code",
   "execution_count": 51,
   "metadata": {},
   "outputs": [
    {
     "data": {
      "text/plain": [
       "<Response [200]>"
      ]
     },
     "execution_count": 51,
     "metadata": {},
     "output_type": "execute_result"
    }
   ],
   "source": [
    "r.get(url)"
   ]
  },
  {
   "cell_type": "code",
   "execution_count": 52,
   "metadata": {},
   "outputs": [],
   "source": [
    "soup=BeautifulSoup(r.get(url).content)"
   ]
  },
  {
   "cell_type": "code",
   "execution_count": null,
   "metadata": {},
   "outputs": [],
   "source": []
  },
  {
   "cell_type": "code",
   "execution_count": null,
   "metadata": {},
   "outputs": [],
   "source": [
    "list_of selectors=['h1','div.recipe-author__author>span','div.recipe-infos-users__rate__stars>span','ul.mrtn-tags-list>li','span.recipe-infos-users__value','div.recipe-infos,div.recipe-infos__timmings__detail','div.recipe-infos__timmings__cooking,div.recipe-infos__timmings__preparation']"
   ]
  },
  {
   "cell_type": "code",
   "execution_count": 53,
   "metadata": {},
   "outputs": [
    {
     "data": {
      "text/plain": [
       "'Tacos mexicains'"
      ]
     },
     "execution_count": 53,
     "metadata": {},
     "output_type": "execute_result"
    }
   ],
   "source": [
    "#Recipe Name\n",
    "soup.select('h1')[0].text"
   ]
  },
  {
   "cell_type": "code",
   "execution_count": 54,
   "metadata": {},
   "outputs": [
    {
     "data": {
      "text/plain": [
       "'noor_16706694'"
      ]
     },
     "execution_count": 54,
     "metadata": {},
     "output_type": "execute_result"
    }
   ],
   "source": [
    "#Author name\n",
    "soup.select('div.recipe-author__author>span')[0].text.strip('\\n ')"
   ]
  },
  {
   "cell_type": "code",
   "execution_count": 76,
   "metadata": {},
   "outputs": [
    {
     "data": {
      "text/plain": [
       "['4.6/5']"
      ]
     },
     "execution_count": 76,
     "metadata": {},
     "output_type": "execute_result"
    }
   ],
   "source": [
    "#recipe note\n",
    "soup.select('div.recipe-infos-users__rate__stars>span')[0].text\n",
    "[i.text for i in soup.select('div.recipe-infos-users__rate__stars>span')]"
   ]
  },
  {
   "cell_type": "code",
   "execution_count": 56,
   "metadata": {},
   "outputs": [
    {
     "data": {
      "text/plain": [
       "['Entrée', 'Plat unique', 'Plats mexicains']"
      ]
     },
     "execution_count": 56,
     "metadata": {},
     "output_type": "execute_result"
    }
   ],
   "source": [
    "#tags ('entrée, 'plat unique','plats mexicains)\n",
    "[i.text for i in soup.select('ul.mrtn-tags-list>li')]"
   ]
  },
  {
   "cell_type": "code",
   "execution_count": 64,
   "metadata": {},
   "outputs": [
    {
     "data": {
      "text/plain": [
       "'15k'"
      ]
     },
     "execution_count": 64,
     "metadata": {},
     "output_type": "execute_result"
    }
   ],
   "source": [
    "#Nb likes\n",
    "soup.select('span.recipe-infos-users__value')[1].text"
   ]
  },
  {
   "cell_type": "code",
   "execution_count": 57,
   "metadata": {},
   "outputs": [
    {
     "data": {
      "text/plain": [
       "['temps 55 min', ' personnes 4', ' très facile', 'bon marché']"
      ]
     },
     "execution_count": 57,
     "metadata": {},
     "output_type": "execute_result"
    }
   ],
   "source": [
    "#Nb of portions\n",
    "[i.replace('\\n',' ') for i in soup.select('div.recipe-infos,div.recipe-infos__timmings__detail')[0].text.split('\\n\\n') if len(i)>1]"
   ]
  },
  {
   "cell_type": "code",
   "execution_count": 71,
   "metadata": {},
   "outputs": [
    {
     "data": {
      "text/plain": [
       "['Cuisson:25 min']"
      ]
     },
     "execution_count": 71,
     "metadata": {},
     "output_type": "execute_result"
    }
   ],
   "source": [
    "#cooking time  only\n",
    "[re.sub('\\t|\\n|\\xa0','',i.text) for i in soup.select('div.recipe-infos__timmings__cooking')]\n"
   ]
  },
  {
   "cell_type": "code",
   "execution_count": 72,
   "metadata": {},
   "outputs": [
    {
     "data": {
      "text/plain": [
       "['Préparation: 30 min']"
      ]
     },
     "execution_count": 72,
     "metadata": {},
     "output_type": "execute_result"
    }
   ],
   "source": [
    "#Preparation time \n",
    "[re.sub('\\t|\\n|\\xa0','',i.text) for i in soup.select('div.recipe-infos__timmings__preparation')]\n"
   ]
  },
  {
   "cell_type": "code",
   "execution_count": 66,
   "metadata": {},
   "outputs": [
    {
     "data": {
      "text/plain": [
       "'\\nTemps Total : 55 min\\t\\t\\t\\t\\t\\t\\t\\t'"
      ]
     },
     "execution_count": 66,
     "metadata": {},
     "output_type": "execute_result"
    }
   ],
   "source": [
    "#total time\n",
    "soup.select('div.recipe-infos__timmings__total-time ')[0].text"
   ]
  },
  {
   "cell_type": "code",
   "execution_count": 69,
   "metadata": {},
   "outputs": [
    {
     "data": {
      "text/plain": [
       "'4'"
      ]
     },
     "execution_count": 69,
     "metadata": {},
     "output_type": "execute_result"
    }
   ],
   "source": [
    "#nb people\n",
    "soup.select('span.title-2.recipe-infos__quantity__value')[0].text"
   ]
  },
  {
   "cell_type": "code",
   "execution_count": null,
   "metadata": {},
   "outputs": [],
   "source": [
    "#Ingredients\n",
    "[i.text.strip().replace('\\n','') for i in soup.select('li.recipe-ingredients__list__item')]"
   ]
  },
  {
   "cell_type": "code",
   "execution_count": 81,
   "metadata": {},
   "outputs": [
    {
     "data": {
      "text/plain": [
       "['bon marché']"
      ]
     },
     "execution_count": 81,
     "metadata": {},
     "output_type": "execute_result"
    }
   ],
   "source": [
    "# average cost\n",
    "[i.text.strip('\\n') for i in soup.select('div.recipe-infos__budget')]\n",
    "        "
   ]
  },
  {
   "cell_type": "code",
   "execution_count": 85,
   "metadata": {},
   "outputs": [
    {
     "data": {
      "text/plain": [
       "['très facile']"
      ]
     },
     "execution_count": 85,
     "metadata": {},
     "output_type": "execute_result"
    }
   ],
   "source": [
    "# difficulty\n",
    "[i.text.strip('\\n') for i in soup.select('div.recipe-infos__level')]"
   ]
  },
  {
   "cell_type": "code",
   "execution_count": null,
   "metadata": {},
   "outputs": [],
   "source": [
    "#Ustensiles\n",
    "[re.sub('\\n\\n|\\t*',' ',i.text) for i in soup.select('ul.recipe-utensils__list')]"
   ]
  },
  {
   "cell_type": "code",
   "execution_count": null,
   "metadata": {},
   "outputs": [],
   "source": [
    "[i.text for i in soup.select('ul.recipe-utensils__list')]"
   ]
  },
  {
   "cell_type": "code",
   "execution_count": 75,
   "metadata": {},
   "outputs": [
    {
     "data": {
      "text/plain": [
       "[\"\\n\\n\\t\\t\\tA la poêle, faire dorer l'oignon émincé dans un peu d'huile d'olive. \\t\\t\\n\\n\\t\\t\\tRajouter la viande, assaisonner et laisser cuire 5 min. \\t\\t\\n\\n\\t\\t\\tLaver les feuilles de laitue. \\t\\t\\n\\n\\t\\t\\tCouper les tomates et le poivron en petits dés. \\t\\t\\n\\n\\t\\t\\tIncorporer le tout à la poêlée avec le coulis de tomate, et poursuivre la cuisson pendant 5 min. \\t\\t\\n\\n\\t\\t\\tEgoutter les haricots rouges et les ajouter 2 min avant la fin de cuisson. \\t\\t\\n\\n\\t\\t\\tHors du feu, ajuster l'assaisonnement et saupoudrer généreusement de cumin; on peut aussi rajouter quelques gouttes de Tabasco. \\t\\t\\n\\n\\t\\t\\tGarnir les tortillas de préparation et les refermer en les roulant comme des crêpes. Disposer 1 feuille de laitue sur chaque tacos avant de servir.\\t\\t\\n\"]"
      ]
     },
     "execution_count": 75,
     "metadata": {},
     "output_type": "execute_result"
    }
   ],
   "source": [
    "# recipe\n",
    "re.sub('\\t|\\n','',soup.select('ol.recipe-preparation__list')[0].text)\n",
    "[i.text for i in soup.select('ol.recipe-preparation__list')]"
   ]
  },
  {
   "cell_type": "code",
   "execution_count": null,
   "metadata": {},
   "outputs": [],
   "source": []
  },
  {
   "cell_type": "code",
   "execution_count": null,
   "metadata": {},
   "outputs": [],
   "source": [
    "url1='https://www.marmiton.org/recettes/recherche.aspx?type=all&aqt=&start=50&page=4'"
   ]
  },
  {
   "cell_type": "code",
   "execution_count": null,
   "metadata": {},
   "outputs": [],
   "source": [
    "soup1=BeautifulSoup(r.get(url1).content)"
   ]
  },
  {
   "cell_type": "code",
   "execution_count": null,
   "metadata": {},
   "outputs": [],
   "source": [
    "[i['href'] for i in soup1.select('a.recipe-card-link')]\n"
   ]
  },
  {
   "cell_type": "markdown",
   "metadata": {},
   "source": [
    "# Code aggregation"
   ]
  },
  {
   "cell_type": "code",
   "execution_count": null,
   "metadata": {},
   "outputs": [],
   "source": [
    "# 14 recipes per page with page from no figure then 2 to 833\n",
    "#https://www.marmiton.org/recettes/recherche.aspx?type=all&aqt=&start=10004&page=833"
   ]
  },
  {
   "cell_type": "code",
   "execution_count": 39,
   "metadata": {},
   "outputs": [
    {
     "name": "stdout",
     "output_type": "stream",
     "text": [
      "['https://www.marmiton.org/recettes/recherche.aspx?type=all&aqt=&start=4&page=1']\n"
     ]
    }
   ],
   "source": [
    "#liste of links for the pages - start with 5pages to test before launching 833 pages...\n",
    "# pb le site change de pattern de pagination \n",
    "def List_urls(NbPages):\n",
    "    urls=[]\n",
    "    for i in range(0,NbPages):\n",
    "        url=f'https://www.marmiton.org/recettes/recherche.aspx?type=all&aqt=&start={4+14*i}&page={i+1}'\n",
    "        urls.append(url)\n",
    "        i+=1\n",
    "    return urls\n",
    "\n",
    "page_urls=List_urls(1)    \n",
    "print(page_urls)"
   ]
  },
  {
   "cell_type": "code",
   "execution_count": 40,
   "metadata": {},
   "outputs": [
    {
     "data": {
      "text/plain": [
       "['https://www.marmiton.org/recettes/recette_original-american-cookies-de-mike_39907.aspx',\n",
       " 'https://www.marmiton.org/recettes/recette_blanquette-de-veau-facile_19219.aspx',\n",
       " 'https://www.marmiton.org/recettes/recette_le-crumble-aux-pommes-du-chat-qui-tousse_10534.aspx',\n",
       " 'https://www.marmiton.org/recettes/recette_gateau-au-yaourt_12719.aspx',\n",
       " 'https://www.marmiton.org/recettes/recette_veritable-moelleux-au-chocolat_12825.aspx',\n",
       " 'https://www.marmiton.org/recettes/recette_les-timbales-de-jeanne-saumon-a-la-mousse-de-courgettes-au-micro-ondes_21864.aspx',\n",
       " 'https://www.marmiton.org/recettes/recette_gateau-aux-pommes-facile_13493.aspx',\n",
       " 'https://www.marmiton.org/recettes/recette_meringue-pour-les-nuls_36610.aspx',\n",
       " 'https://www.marmiton.org/recettes/recette_pancakes_15299.aspx',\n",
       " 'https://www.marmiton.org/recettes/recette_cookie-cup-glace-vanille-et-pepites-de-chocolat_372241.aspx',\n",
       " 'https://www.marmiton.org/recettes/recette_filet-mignon-en-croute_14407.aspx',\n",
       " 'https://www.marmiton.org/recettes/recette_galette-des-rois_10832.aspx',\n",
       " 'https://www.marmiton.org/recettes/recette_fondant-au-chocolat_15025.aspx',\n",
       " 'https://www.marmiton.org/recettes/recette_cookies-surprise-au-coeur-de-chocolat_371434.aspx']"
      ]
     },
     "execution_count": 40,
     "metadata": {},
     "output_type": "execute_result"
    }
   ],
   "source": [
    "#For one given page look for the list of recipes (links)\n",
    "def find_recipe_card_link(page_urls):\n",
    "    recipes_of_all_pages=[]\n",
    "    for url in page_urls:\n",
    "        soup=BeautifulSoup(r.get(url).content)\n",
    "        # list of recipes url which are in the page\n",
    "        recipes_of_all_pages.extend([f'https://www.marmiton.org'+i['href'] for i in soup.select('a.recipe-card-link')])\n",
    "    return recipes_of_all_pages\n",
    "        \n",
    "recipes_of_all_pages=find_recipe_card_link(page_urls) \n",
    "recipes_of_all_pages"
   ]
  },
  {
   "cell_type": "code",
   "execution_count": 92,
   "metadata": {},
   "outputs": [
    {
     "name": "stdout",
     "output_type": "stream",
     "text": [
      "[['Original American Cookies de Mike'], ['nathan_15813882'], ['4.7/5'], ['Confiserie', 'Végétarien', 'Rapide', 'Petits gâteaux', 'Gâteau', 'Cookie', 'Recette américaine', '\\n\\t\\t\\t\\t\\t\\tPréparation : 3 min\\t\\t\\t\\t\\t', '\\n\\t\\t\\t\\t\\t\\tPréparation : 1 min\\t\\t\\t\\t\\t', '\\n\\t\\t\\t\\t\\t\\tPréparation : 2 min\\t\\t\\t\\t\\t', '\\n\\t\\t\\t\\t\\t\\tPréparation : 2 min\\t\\t\\t\\t\\t', '\\n\\t\\t\\t\\t\\t\\tPréparation : 3 min\\t\\t\\t\\t\\t', '\\n\\t\\t\\t\\t\\t\\tPréparation : 1 min\\t\\t\\t\\t\\t', '\\n\\t\\t\\t\\t\\t\\tPréparation : 6 min\\t\\t\\t\\t\\t', '\\n\\t\\t\\t\\t\\t\\tCuisson : 9 min\\t\\t\\t\\t\\t', '\\n\\t\\t\\t\\t\\t\\tCuisson : 1 min\\t\\t\\t\\t\\t'], '121k', ['15'], ['très facile'], ['Temps Total : 15 min\\t\\t\\t\\t\\t\\t\\t\\t'], ['Préparation\\xa0: 5 min\\t\\t\\t\\t\\t\\t\\t\\t\\t\\t'], ['Cuisson\\xa0:\\n\\n\\t\\t\\t\\t\\t\\t\\t\\t\\t\\t\\t\\t10 min\\t\\t\\t\\t\\t\\t\\t\\t\\t\\t\\t'], ['bon marché'], 'https://www.marmiton.org/recettes/recette_original-american-cookies-de-mike_39907.aspx', '250\\n\\n\\n\\ng de farine  ', '90\\n\\n\\n\\ng de sucre de canne roux (ou cassonade) ', '1\\n\\n\\n\\nsachet de sucre vanillé  ', '1\\n\\n\\n\\npincée de sel  ', '1/2\\n\\n\\n\\nsachet de levure  ', '1\\n\\n\\n\\n oeuf  ', '125\\n\\n\\n\\ng de beurre doux  ', '2\\n\\n\\n\\ncuillères à café de miel  ', 'Chocolat (à volonté) ', [\"\\t\\t\\tMélangez la farine, les sucres, le sel et la levure dans un grand saladier.\\t\\t\\n\\n\\t\\t\\tFaites fondre le beurre.\\t\\t\\n\\n\\t\\t\\tAjoutez-y l'oeuf battu et les 2 cuillères à café de miel\\t\\t\\n\\n\\t\\t\\tincorporez le tout à la préparation.\\t\\t\\n\\n\\t\\t\\tAjouter les pépites de chocolat (de préférence au lait, mais j'ai déjà goûté des cookies aux 3 chocolats et c'est exquis), et mélangez.\\t\\t\\n\\n\\t\\t\\tPréchauffez votre four à 220°C (thermostat 7-8), avec la grille au plus bas. Façonnez des cookies d’environ 10 cm de diamètre (avec une cuillère à glace c'est facile).\\t\\t\\n\\n\\t\\t\\tDisposez-les sur une plaque. Ils doivent être assez espacés.\\t\\t\\n\\n\\t\\t\\tEnfournez-les 9 à 11 minutes, selon que vous les souhaitiez respectivement « extra-moelleux, moelleux ou crousti-moelleux »...  \\t\\t\\n\\n\\t\\t\\tVous m’en direz des nouvelles !\\t\\t\"]]\n",
      "[['Blanquette de veau facile'], ['lilia1'], ['4.9/5'], ['Plat principal', 'Viande en sauce', 'Viande', 'Blanquette', 'Je débute'], '151k', ['4'], ['très facile'], ['Temps Total : 2h15\\t\\t\\t\\t\\t\\t\\t\\t'], ['Préparation\\xa0: 15 min\\t\\t\\t\\t\\t\\t\\t\\t\\t\\t'], ['Cuisson\\xa0:\\n\\n\\t\\t\\t\\t\\t\\t\\t\\t\\t\\t\\t\\t2 h\\t\\t\\t\\t\\t\\t\\t\\t\\t\\t\\t'], ['Coût moyen'], 'https://www.marmiton.org/recettes/recette_blanquette-de-veau-facile_19219.aspx', '1\\n\\n\\n\\nkg de blanquette de veau  ', '1\\n\\n\\n\\n cube de bouillon de légumes ', '1\\n\\n\\n\\n bouillon de poule  ', '2\\n\\n\\n\\n carottes  ', '1\\n\\n\\n\\n oignon jaune  ', '1\\n\\n\\n\\npetite boîte de champignon (coupés) ', '1\\n\\n\\n\\npetit pot de crème fraîche  ', 'Citron  ', \"1\\n\\n\\n\\n jaune d'oeuf  \", 'Farine  ', '25\\n\\n\\n\\ncl de vin blanc  ', 'Sel  ', 'Poivre  ', [\"\\t\\t\\tFaire revenir la viande dans un peu de beurre doux jusqu'à ce que les morceaux soient un peu dorés.\\t\\t\\n\\n\\t\\t\\tSaupoudrer de 2 cuillères de farine. Bien remuer.\\t\\t\\n\\n\\t\\t\\tAjouter 2 ou 3 verres d'eau, les cubes de bouillon, le vin et remuer. Ajouter de l'eau si nécessaire pour couvrir.\\t\\t\\n\\n\\t\\t\\tCouper les carottes en rondelles et émincer les oignons puis les incorporer à la viande, ainsi que les champignons. \\t\\t\\n\\n\\t\\t\\tLaisser mijoter à feu très doux environ 1h30 à 2h00 en remuant. \\t\\t\\n\\n\\t\\t\\tSi nécessaire, ajouter de l'eau de temps en temps. \\t\\t\\n\\n\\t\\t\\tDans un bol, bien mélanger la crème fraîche, le jaune d’oeuf et le jus de citron. Ajouter ce mélange au dernier moment, bien remuer et servir tout de suite.\\t\\t\"]]\n",
      "[['Le crumble aux pommes du Chat qui Tousse'], ['Anonyme'], ['4.8/5'], ['Dessert', 'Végétarien', 'Crumble', 'Crumble aux pommes', 'Les classiques'], '104k', ['6'], ['très facile'], ['Temps Total : 55 min\\t\\t\\t\\t\\t\\t\\t\\t'], ['Préparation\\xa0: 25 min\\t\\t\\t\\t\\t\\t\\t\\t\\t\\t'], ['Cuisson\\xa0:\\n\\n\\t\\t\\t\\t\\t\\t\\t\\t\\t\\t\\t\\t30 min\\t\\t\\t\\t\\t\\t\\t\\t\\t\\t\\t'], ['bon marché'], 'https://www.marmiton.org/recettes/recette_le-crumble-aux-pommes-du-chat-qui-tousse_10534.aspx', '6\\n\\n\\n\\n pommes (des Canada par exemple) ', '150\\n\\n\\n\\ng de cassonade  ', '150\\n\\n\\n\\ng de farine de blé  ', '125\\n\\n\\n\\ng de beurre doux (le sortir 1/2 heure avant de commencer la recette) ', '1\\n\\n\\n\\npetite cuillère de cannelle en poudre ', '1\\n\\n\\n\\nsachet de sucre vanillé  ', 'Citron  ', ['\\t\\t\\tPréchauffer le four à 210°C (thermostat 7).\\t\\t\\n\\n\\t\\t\\tPeler, évider et découper les pommes en cubes grossiers, les répartir dans un plat allant au four.\\t\\t\\n\\n\\t\\t\\tLes arroser de jus du citron et les saupoudrer de cannelle et de sucre vanillé.\\t\\t\\n\\n\\t\\t\\tDans un saladier, mélanger la farine et la cassonade. Puis ajouter le beurre en petits cubes et mélanger à la main de façon à former une pâte grumeleuse.\\t\\t\\n\\n\\t\\t\\tÉmietter cette pâte au dessus des pommes de façon à les recouvrir. \\t\\t\\n\\n\\t\\t\\tEnfourner pour 30 minutes de cuisson. \\t\\t\\n\\n\\t\\t\\tServir tiède avec de la crème fouettée ou de la glace à la vanille.\\t\\t']]\n",
      "[['Gâteau au yaourt'], ['Anonyme'], ['4.6/5'], ['Dessert', 'Végétarien', 'Gâteau', 'Gâteau au yaourt', \"Dessert d'enfance\", '\\n\\t\\t\\t\\t\\t\\tPréparation : 1 min\\t\\t\\t\\t\\t', '\\n\\t\\t\\t\\t\\t\\tPréparation : 30 sec\\t\\t\\t\\t\\t', '\\n\\t\\t\\t\\t\\t\\tPréparation : 30 sec\\t\\t\\t\\t\\t', '\\n\\t\\t\\t\\t\\t\\tPréparation : 30 sec\\t\\t\\t\\t\\t', '\\n\\t\\t\\t\\t\\t\\tPréparation : 30 sec\\t\\t\\t\\t\\t', '\\n\\t\\t\\t\\t\\t\\tPréparation : 2 min\\t\\t\\t\\t\\t', '\\n\\t\\t\\t\\t\\t\\tPréparation : 3 min\\t\\t\\t\\t\\t', '\\n\\t\\t\\t\\t\\t\\tCuisson : 30 min\\t\\t\\t\\t\\t'], '120k', ['4'], ['très facile'], ['Temps Total : 45 min\\t\\t\\t\\t\\t\\t\\t\\t'], ['Préparation\\xa0: 15 min\\t\\t\\t\\t\\t\\t\\t\\t\\t\\t'], ['Cuisson\\xa0:\\n\\n\\t\\t\\t\\t\\t\\t\\t\\t\\t\\t\\t\\t30 min\\t\\t\\t\\t\\t\\t\\t\\t\\t\\t\\t'], ['bon marché'], 'https://www.marmiton.org/recettes/recette_gateau-au-yaourt_12719.aspx', '1/2\\n\\n\\n\\npaquet de levure chimique  ', '1\\n\\n\\n\\npot de yaourt nature  ', \"1/2\\n\\n\\n\\npot d'huile de colza  \", '2\\n\\n\\n\\npots de sucre semoule  ', '3\\n\\n\\n\\npots de farine  ', '2\\n\\n\\n\\n oeufs  ', '1\\n\\n\\n\\nzeste de citron jaune ', [\"\\t\\t\\tPréchauffer le four à 180°C (thermostat 6).\\n\\r\\nMélanger tout simplement les ingrédients un à un en suivant l'ordre suivant : levure,\\t\\t\\n\\n\\t\\t\\tyaourt\\t\\t\\n\\n\\t\\t\\thuile\\t\\t\\n\\n\\t\\t\\tsucre\\t\\t\\n\\n\\t\\t\\tfarine\\t\\t\\n\\n\\t\\t\\toeuf et zeste\\t\\t\\n\\n\\t\\t\\tBeurrer un moule à manqué et y verser la pâte.\\t\\t\\n\\n\\t\\t\\tEnfourner pour environ 30 minutes de cuisson.\\t\\t\\n\\n\\t\\t\\tVérifier la cuisson avec la pointe d'un couteau (elle doit ressortir sèche).\\t\\t\"]]\n",
      "[['Véritable moelleux au chocolat'], ['Anonyme'], ['4.6/5'], ['Dessert', 'Végétarien', 'Gâteau', 'Gâteau au chocolat', \"Dessert d'enfance\", '\\n\\t\\t\\t\\t\\t\\tCuisson : 5 min\\t\\t\\t\\t\\t', '\\n\\t\\t\\t\\t\\t\\tPréparation : 2 min\\t\\t\\t\\t\\t', '\\n\\t\\t\\t\\t\\t\\tPréparation : 1 min\\t\\t\\t\\t\\t', '\\n\\t\\t\\t\\t\\t\\tPréparation : 1 min\\t\\t\\t\\t\\t', '\\n\\t\\t\\t\\t\\t\\tPréparation : 30 sec\\t\\t\\t\\t\\t', '\\n\\t\\t\\t\\t\\t\\tPréparation : 2 min\\t\\t\\t\\t\\t', '\\n\\t\\t\\t\\t\\t\\tPréparation : 5 min\\t\\t\\t\\t\\t', '\\n\\t\\t\\t\\t\\t\\tPréparation : 2 min\\t\\t\\t\\t\\t', '\\n\\t\\t\\t\\t\\t\\tCuisson : 35 min\\t\\t\\t\\t\\t'], '89k', ['6'], ['très facile'], ['Temps Total : 40 min\\t\\t\\t\\t\\t\\t\\t\\t'], ['Préparation\\xa0: 10 min\\t\\t\\t\\t\\t\\t\\t\\t\\t\\t'], ['Cuisson\\xa0:\\n\\n\\t\\t\\t\\t\\t\\t\\t\\t\\t\\t\\t\\t30 min\\t\\t\\t\\t\\t\\t\\t\\t\\t\\t\\t'], ['bon marché'], 'https://www.marmiton.org/recettes/recette_veritable-moelleux-au-chocolat_12825.aspx', '125\\n\\n\\n\\ng de farine  ', '125\\n\\n\\n\\ng de beurre doux  ', '250\\n\\n\\n\\ng de sucre semoule  ', '200\\n\\n\\n\\ng de chocolat noir  ', '4\\n\\n\\n\\n oeufs  ', '1/2\\n\\n\\n\\nsachet de levure  ', [\"\\t\\t\\tPréchauffer le four à 180°C (thermostat 6).\\n\\r\\nFaire fondre le chocolat dans une casserole.\\t\\t\\n\\n\\t\\t\\tHors du feu, ajouter le beurre, \\t\\t\\n\\n\\t\\t\\tla farine et la levure.\\t\\t\\n\\n\\t\\t\\tFouetter les jaunes d’oeuf avec le sucre\\t\\t\\n\\n\\t\\t\\tet un peu d'eau pour faire mousser\\t\\t\\n\\n\\t\\t\\tpuis l'ajouter à la préparation chocolatée.\\t\\t\\n\\n\\t\\t\\tBattre les blancs en neige et les incorporer dans la casserole tout doucement.\\t\\t\\n\\n\\t\\t\\tVerser le tout dans un moule beurré à bords hauts\\t\\t\\n\\n\\t\\t\\tet enfourner pendant environ 35 minutes.\\t\\t\\n\\n\\t\\t\\tOn peut ajouter du sucre glace ou du chocolat fondu, pour décorer le dessus du gâteau.\\t\\t\\n\\n\\t\\t\\tDéguster\\t\\t\"]]\n",
      "[['Les Timbales de Jeanne (saumon à la mousse de courgettes au micro-ondes)'], ['sofia_15984013'], ['4.8/5'], ['Entrée', 'Sans gluten', 'Micro-ondes', '\\n\\t\\t\\t\\t\\t\\tPréparation : 2 min\\t\\t\\t\\t\\t', '\\n\\t\\t\\t\\t\\t\\tPréparation : 3 min\\t\\t\\t\\t\\t', '\\n\\t\\t\\t\\t\\t\\tCuisson : 5 min\\t\\t\\t\\t\\t', '\\n\\t\\t\\t\\t\\t\\tPréparation : 30 sec\\t\\t\\t\\t\\t', '\\n\\t\\t\\t\\t\\t\\tPréparation : 30 sec\\t\\t\\t\\t\\t', '\\n\\t\\t\\t\\t\\t\\tPréparation : 1 min\\t\\t\\t\\t\\t', '\\n\\t\\t\\t\\t\\t\\tPréparation : 2 min\\t\\t\\t\\t\\t', '\\n\\t\\t\\t\\t\\t\\tPréparation : 1 min\\t\\t\\t\\t\\t', '\\n\\t\\t\\t\\t\\t\\tCuisson : 3 min\\t\\t\\t\\t\\t'], '78k', ['4'], ['très facile'], ['Temps Total : 18 min\\t\\t\\t\\t\\t\\t\\t\\t'], ['Préparation\\xa0: 15 min\\t\\t\\t\\t\\t\\t\\t\\t\\t\\t'], ['Cuisson\\xa0:\\n\\n\\t\\t\\t\\t\\t\\t\\t\\t\\t\\t\\t\\t3 min\\t\\t\\t\\t\\t\\t\\t\\t\\t\\t\\t'], ['bon marché'], 'https://www.marmiton.org/recettes/recette_les-timbales-de-jeanne-saumon-a-la-mousse-de-courgettes-au-micro-ondes_21864.aspx', '4\\n\\n\\n\\ntranches de saumon fumé  ', '2\\n\\n\\n\\n courgettes  ', '3\\n\\n\\n\\n oeufs  ', '10\\n\\n\\n\\ncl de crème fraîche épaisse  ', \"1\\n\\n\\n\\npetite gousse d'ail  \", \"1\\n\\n\\n\\ncuillère à soupe d'huile d'olive  \", 'Aneth  ', 'Menthe  ', 'Sel  ', 'Poivre  ', ['\\t\\t\\tRincer, essorer et ciseler l\\'aneth et la menthe. Peler et émincer la gousse d\\'ail. \\t\\t\\n\\n\\t\\t\\tRâper les courgettes.\\t\\t\\n\\n\\t\\t\\tLes faire revenir dans 1 cuillère à soupe d\\'huile d\\'olive avec l\\'ail émincé et les herbes ciselées.\\t\\t\\n\\n\\t\\t\\tAssaisonner (mais pas trop, attention au saumon fumé). Réserver et laisser un peu refroidir. \\t\\t\\n\\n\\t\\t\\tBattre les oeufs et la crème en omelette.\\t\\t\\n\\n\\t\\t\\tMélanger cette préparation avec les courgettes râpées et éventuellement, donner un petit coup de mixeur pour obtenir l\\'aspect \"mousse\". \\t\\t\\n\\n\\t\\t\\tTapisser 4 ramequins avec les tranches de saumon fumé.\\t\\t\\n\\n\\t\\t\\tVerser le mélange omelette-courgettes dans les ramequins tapissés de saumon. \\t\\t\\n\\n\\t\\t\\tFaire cuire au micro-ondes pendant 2 à 3 minutes, selon la puissance (vérifier la cuisson vous-même, il n\\'y a que ça de vrai !). \\t\\t\\n\\n\\t\\t\\tDéguster !\\t\\t']]\n"
     ]
    },
    {
     "name": "stdout",
     "output_type": "stream",
     "text": [
      "[['Gâteau aux pommes facile'], ['Anonyme'], ['4.7/5'], ['Dessert', 'Végétarien', 'Gâteau', 'Gâteau aux pommes', \"Dessert d'enfance\"], '89k', ['1'], ['très facile'], ['Temps Total : 57 min\\t\\t\\t\\t\\t\\t\\t\\t'], ['Préparation\\xa0: 12 min\\t\\t\\t\\t\\t\\t\\t\\t\\t\\t'], ['Cuisson\\xa0:\\n\\n\\t\\t\\t\\t\\t\\t\\t\\t\\t\\t\\t\\t45 min\\t\\t\\t\\t\\t\\t\\t\\t\\t\\t\\t'], ['bon marché'], 'https://www.marmiton.org/recettes/recette_gateau-aux-pommes-facile_13493.aspx', '120\\n\\n\\n\\ng de sucre semoule  ', '1\\n\\n\\n\\npaquet de sucre vanillé  ', '3\\n\\n\\n\\n oeufs  ', '1/2\\n\\n\\n\\npaquet de levure chimique  ', '125\\n\\n\\n\\ng de farine  ', \"1/2\\n\\n\\n\\nverre d'huile de colza  \", '3\\n\\n\\n\\n pommes  ', ['\\t\\t\\tPréchauffer le four à 160°C (thermostat 5-6).\\nMélanger tous les ingrédients de la pâte.\\t\\t\\n\\n\\t\\t\\tAjouter les pommes préalablement coupées en cube.\\t\\t\\n\\n\\t\\t\\tMélanger à nouveau à la spatule.\\t\\t\\n\\n\\t\\t\\tVerser la pâte à gâteau dans un moule beurré et cuire pendant 40 à 50 minutes.\\t\\t\\n\\n\\t\\t\\tDéguster !\\t\\t']]\n",
      "[['Meringue pour les nuls'], ['julia_15932643'], ['4.8/5'], ['Dessert', 'Végétarien', 'Sans gluten', 'Petits gâteaux', 'Gâteau', 'Meringues', 'Les classiques'], '73k', ['20'], ['très facile'], ['Temps Total : 1h05\\t\\t\\t\\t\\t\\t\\t\\t'], ['Préparation\\xa0: 5 min\\t\\t\\t\\t\\t\\t\\t\\t\\t\\t'], ['Cuisson\\xa0:\\n\\n\\t\\t\\t\\t\\t\\t\\t\\t\\t\\t\\t\\t1 h\\t\\t\\t\\t\\t\\t\\t\\t\\t\\t\\t'], ['bon marché'], 'https://www.marmiton.org/recettes/recette_meringue-pour-les-nuls_36610.aspx', \"4\\n\\n\\n\\n blancs d'oeuf  \", '250\\n\\n\\n\\ng de sucre semoule  ', [\"\\t\\t\\tQuelques trucs pour bien réussir ces meringues : sortir les oeufs du réfrigérateur un quart d'heure avant de les utiliser.\\t\\t\\n\\n\\t\\t\\tNe surtout pas mélanger de jaunes aux blancs d'oeuf.\\t\\t\\n\\n\\t\\t\\tAjouter une pincée de sel avant de battre les blancs en neige.\\t\\t\\n\\n\\t\\t\\tUtiliser un récipient plus haut que large et utiliser un batteur électrique (bien plus rapide et moins fatiguant)! On peut commencer :\\t\\t\\n\\n\\t\\t\\tBattre les blancs d'oeuf en neige ferme.\\t\\t\\n\\n\\t\\t\\tAjouter le sucre par petites quantités tout en continuant de battre.\\t\\t\\n\\n\\t\\t\\tPréchauffer le four à 120°C (thermostat 4).\\t\\t\\n\\n\\t\\t\\tDéposer immédiatement de petits tas de meringue sur une plaque de four préalablement recouverte de papier sulfurisé.\\t\\t\\n\\n\\t\\t\\tCuire entre 30 minutes et 1 heure à 120°C.\\t\\t\\n\\n\\t\\t\\tAu bout de 30 minutes, on obtient des meringues blanches et moelleuses.\\t\\t\\n\\n\\t\\t\\tAu bout d'1 heure, on obtient des meringues rosées, craquantes et fondantes avec un coeur moelleux.\\t\\t\\n\\n\\t\\t\\tUne fois cuites, décoller les meringues délicatement dès la sortie du four et laisser refroidir sur une grille. \\t\\t\"]]\n",
      "[['Pancakes'], ['Anonyme'], ['4.7/5'], ['Dessert', 'Végétarien', 'Rapide', 'Crêpe', 'Pancake', 'Les classiques'], '109k', ['4'], ['très facile'], ['Temps Total : 14 min\\t\\t\\t\\t\\t\\t\\t\\t'], ['Préparation\\xa0: 10 min\\t\\t\\t\\t\\t\\t\\t\\t\\t\\t'], ['Cuisson\\xa0:\\n\\n\\t\\t\\t\\t\\t\\t\\t\\t\\t\\t\\t\\t4 min\\t\\t\\t\\t\\t\\t\\t\\t\\t\\t\\t'], ['bon marché'], 'https://www.marmiton.org/recettes/recette_pancakes_15299.aspx', '250\\n\\n\\n\\ng de farine  ', '30\\n\\n\\n\\ng de sucre semoule  ', '2\\n\\n\\n\\n oeufs  ', '1\\n\\n\\n\\nsachet de levure traditionnelle ', '65\\n\\n\\n\\ng de beurre doux  ', '1\\n\\n\\n\\npincée de sel  ', '30\\n\\n\\n\\ncl de lait  ', [\"\\t\\t\\tFaire fondre le beurre, dans une casserole à feu doux ou dans un bol au micro-ondes. \\t\\t\\n\\n\\t\\t\\tMettre la farine, la levure et le sucre dans un saladier. Mélanger et creuser un puits.  \\t\\t\\n\\n\\t\\t\\tAjouter ensuite les oeufs entiers et fouetter l'ensemble.\\t\\t\\n\\n\\t\\t\\tIncorporer le beurre fondu, fouetter puis délayer progressivement le mélange avec le lait afin d'éviter les grumeaux.\\t\\t\\n\\n\\t\\t\\tLaisser reposer la pâte au minimum 1 heure au réfrigérateur.\\t\\t\\n\\n\\t\\t\\tDans une poêle chaude et légèrement huilée, faire cuire comme des crêpes, mais en les faisant plus petites. Réserver au chaud et déguster.\\t\\t\"]]\n",
      "[['Cookie cup glace vanille et pépites de chocolat'], [], ['3/5'], ['Dessert', 'Végétarien', 'Petits gâteaux', 'Gâteau', 'Cookie'], '2.4k', ['6'], ['facile'], ['Temps Total : 32 min\\t\\t\\t\\t\\t\\t\\t\\t'], ['Préparation\\xa0: 15 min\\t\\t\\t\\t\\t\\t\\t\\t\\t\\t'], ['Cuisson\\xa0:\\n\\n\\t\\t\\t\\t\\t\\t\\t\\t\\t\\t\\t\\t17 min\\t\\t\\t\\t\\t\\t\\t\\t\\t\\t\\t'], ['bon marché'], 'https://www.marmiton.org/recettes/recette_cookie-cup-glace-vanille-et-pepites-de-chocolat_372241.aspx', '140\\n\\n\\n\\ng de farine  ', '70\\n\\n\\n\\ng de sucre  ', '1\\n\\n\\n\\n oeuf  ', '1\\n\\n\\n\\nsachet de pépites Chocolat NESTLÉ DESSERT lait  ', '3\\n\\n\\n\\ng de levure chimique  ', '80\\n\\n\\n\\ng de beurre  ', '6\\n\\n\\n\\nboules de glace vanille  ', [\"\\t\\t\\tMélangez la farine, le sucre, la levure, le beurre et l'oeuf. Ajoutez les 3/4 des pépites. Faites une boule. \\t\\t\\n\\n\\t\\t\\tPlacez au frais 30 minutes.\\t\\t\\n\\n\\t\\t\\tCoupez en 6 la pâte et répartissez dans un moule à muffin en formant des cup. Ajoutez un rond de papier sulfurisé et du gros sel. \\t\\t\\n\\n\\t\\t\\tFaites cuire 15 minutes à 200°C en mode traditionnel. Retirez le gros sel et prolongez la cuisson 2 minutes. \\t\\t\\n\\n\\t\\t\\tLaissez bien refroidir. Ajoutez une boule de glace et des pépites de chocolat.\\t\\t\"]]\n",
      "[['Filet mignon en croûte'], ['rose_14318325'], ['4.8/5'], ['Plat principal', 'Viande rôtie', 'Viande', 'Filet mignon', 'Les classiques'], '102k', ['6'], ['très facile'], ['Temps Total : 1 h\\t\\t\\t\\t\\t\\t\\t\\t'], ['Préparation\\xa0: 15 min\\t\\t\\t\\t\\t\\t\\t\\t\\t\\t'], ['Cuisson\\xa0:\\n\\n\\t\\t\\t\\t\\t\\t\\t\\t\\t\\t\\t\\t45 min\\t\\t\\t\\t\\t\\t\\t\\t\\t\\t\\t'], ['bon marché'], 'https://www.marmiton.org/recettes/recette_filet-mignon-en-croute_14407.aspx', '2\\n\\n\\n\\n filets mignons de porc ', '2\\n\\n\\n\\n pâtes feuilletées  ', '4\\n\\n\\n\\ntranches de jambon blanc  ', '200\\n\\n\\n\\ng de gruyère râpé  ', '2\\n\\n\\n\\n oignons jaunes  ', \"2\\n\\n\\n\\n jaunes d'oeuf  \", [\"\\t\\t\\tPeler et émincer les oignons.\\t\\t\\n\\n\\t\\t\\tLes faire revenir dans une sauteuse avec 20 g de beurre pendant 3 minutes environ. Les retirer de la sauteuse et les réserver. \\t\\t\\n\\n\\t\\t\\tDans la même sauteuse, faire revenir les filets mignons de chaque côté.\\t\\t\\n\\n\\t\\t\\tLaisser cuire 10 minutes à feu doux.\\t\\t\\n\\n\\t\\t\\tRéincorporer les oignons. Poursuivre la cuisson pendant 5 minutes. Saler, poivrer. Réserver.\\t\\t\\n\\n\\t\\t\\tDérouler les pâtes feuilletées. \\t\\t\\n\\n\\t\\t\\tDéposer sur chaque pâte deux tranches de jambon et 100 g de gruyère. Saler et poivrer.\\t\\t\\n\\n\\t\\t\\tY déposer un filet sur chaque pâte garnie et napper de sauce aux oignons.\\t\\t\\n\\n\\t\\t\\tReplier la pâte autour de la viande et souder les bords à l'aide du jaune d'oeuf préalablement battu et d'un pinceau alimentaire.\\t\\t\\n\\n\\t\\t\\tEnfourner pour 45 minutes de cuisson à 200°C (thermostat 6-7).\\t\\t\"]]\n",
      "[['Galette des rois'], ['Anonyme'], ['4.7/5'], ['Dessert', 'Végétarien', 'Galette des rois', 'Galette frangipane', 'Galettes des rois', '\\n\\t\\t\\t\\t\\t\\tPréparation : 1 min\\t\\t\\t\\t\\t', '\\n\\t\\t\\t\\t\\t\\tPréparation : 2 min\\t\\t\\t\\t\\t', '\\n\\t\\t\\t\\t\\t\\tPréparation : 5 min\\t\\t\\t\\t\\t', '\\n\\t\\t\\t\\t\\t\\tPréparation : 3 min\\t\\t\\t\\t\\t', '\\n\\t\\t\\t\\t\\t\\tPréparation : 1 min\\t\\t\\t\\t\\t', '\\n\\t\\t\\t\\t\\t\\tPréparation : 1 min\\t\\t\\t\\t\\t', '\\n\\t\\t\\t\\t\\t\\tPréparation : 1 min\\t\\t\\t\\t\\t', '\\n\\t\\t\\t\\t\\t\\tCuisson : 40 min\\t\\t\\t\\t\\t'], '96k', ['6'], ['très facile'], ['Temps Total : 55 min\\t\\t\\t\\t\\t\\t\\t\\t'], ['Préparation\\xa0: 15 min\\t\\t\\t\\t\\t\\t\\t\\t\\t\\t'], ['Cuisson\\xa0:\\n\\n\\t\\t\\t\\t\\t\\t\\t\\t\\t\\t\\t\\t40 min\\t\\t\\t\\t\\t\\t\\t\\t\\t\\t\\t'], ['bon marché'], 'https://www.marmiton.org/recettes/recette_galette-des-rois_10832.aspx', '2\\n\\n\\n\\n pâtes feuilletées  ', \"100\\n\\n\\n\\ng de poudre d'amande  \", '75\\n\\n\\n\\ng de sucre semoule  ', '1\\n\\n\\n\\n oeuf  ', '50\\n\\n\\n\\ng de beurre mou ', \"goutte d'extrait d'amande amère  \", \"1\\n\\n\\n\\n jaune d'oeuf pour dorer \", '1\\n\\n\\n\\n fève ! ', [\"\\t\\t\\tPréchauffer le four à 210°C (thermostat 7).\\t\\t\\n\\n\\t\\t\\tDisposer une pâte dans un moule à tarte, la piquer avec 1 fourchette.\\t\\t\\n\\n\\t\\t\\tMélanger dans un saladier tous les ingrédients (poudre d'amandes, sucre, oeuf, beurre mou et extrait d'amande amère).\\t\\t\\n\\n\\t\\t\\tEtaler la préparation sur la pâte, y mettre la fève (sur un bord, pour minimiser les chances de tomber dessus en coupant la galette!).\\t\\t\\n\\n\\t\\t\\tRefermer la galette avec la seconde pâte et bien souder les bords.\\t\\t\\n\\n\\t\\t\\tA l'aide d'un couteau, décorer la pâte en y traçant des dessins et dorer au jaune d'oeuf (dilué dans un peu d'eau). \\t\\t\\n\\n\\t\\t\\tPercer le dessus de petits trous pour laisser l'air s'échapper, sinon elle risque de gonfler et de se dessécher.\\t\\t\\n\\n\\t\\t\\tEnfourner pendant 30 minutes environ (surveiller la cuisson dès 25 minutes, mais ne pas hésiter à laisser jusqu'à 40 minutes si nécessaire).\\t\\t\\n\\n\\t\\t\\tDéguster.\\t\\t\"]]\n"
     ]
    },
    {
     "name": "stdout",
     "output_type": "stream",
     "text": [
      "[['Fondant au chocolat'], ['Anonyme'], ['4.6/5'], ['Dessert', 'Végétarien', 'Gâteau au chocolat', 'Gâteau', 'Fondant au chocolat', 'Les classiques'], '109k', ['8'], ['très facile'], ['Temps Total : 35 min\\t\\t\\t\\t\\t\\t\\t\\t'], ['Préparation\\xa0: 15 min\\t\\t\\t\\t\\t\\t\\t\\t\\t\\t'], ['Cuisson\\xa0:\\n\\n\\t\\t\\t\\t\\t\\t\\t\\t\\t\\t\\t\\t20 min\\t\\t\\t\\t\\t\\t\\t\\t\\t\\t\\t'], ['bon marché'], 'https://www.marmiton.org/recettes/recette_fondant-au-chocolat_15025.aspx', '200\\n\\n\\n\\ng de chocolat à cuire ', '100\\n\\n\\n\\ng de beurre doux  ', '100\\n\\n\\n\\ng de sucre semoule  ', '5\\n\\n\\n\\n oeufs  ', '4\\n\\n\\n\\ncuillères à soupe de farine  ', ['\\t\\t\\tPréchauffer le four à 180°C (thermostat 6).\\nFaire fondre le chocolat et le beurre au bain-marie à feu doux, ou au micro-ondes sur le programme \"décongélation\".\\t\\t\\n\\n\\t\\t\\tPendant ce temps, séparer les jaunes des blancs d\\'oeuf.\\t\\t\\n\\n\\t\\t\\tMonter les blancs en neige ferme. Réserver. \\t\\t\\n\\n\\t\\t\\tQuand le mélange chocolat-beurre est bien fondu, ajouter les jaunes d’oeufs et fouetter. \\t\\t\\n\\n\\t\\t\\tIncorporer le sucre et la farine, puis ajouter les blancs d’oeufs sans les casser. \\t\\t\\n\\n\\t\\t\\tBeurrer et fariner un moule à manqué et y verser la pâte à gâteau.\\t\\t\\n\\n\\t\\t\\tEnfourner pendant 20 minutes.\\t\\t\\n\\n\\t\\t\\tQuand le gâteau est cuit, le laisser refroidir avant de le démouler. \\t\\t']]\n",
      "[['Cookies surprise au coeur de chocolat'], [], ['5/5'], ['Dessert', 'Sans gluten', 'Petits gâteaux', 'Gâteau', 'Cookie'], '1.1k', ['12'], ['très facile'], ['Temps Total : 55 min\\t\\t\\t\\t\\t\\t\\t\\t'], ['Préparation\\xa0: 10 min\\t\\t\\t\\t\\t\\t\\t\\t\\t\\t'], ['Cuisson\\xa0:\\n\\n\\t\\t\\t\\t\\t\\t\\t\\t\\t\\t\\t\\t15 min\\t\\t\\t\\t\\t\\t\\t\\t\\t\\t\\t'], ['bon marché'], 'https://www.marmiton.org/recettes/recette_cookies-surprise-au-coeur-de-chocolat_371434.aspx', '1\\n\\n\\n\\n Préparation pour Cookies aux pépites de chocolat NESTLE DESSERT  ', '70\\n\\n\\n\\n beurre  ', '1\\n\\n\\n\\n oeuf  ', '4\\n\\n\\n\\ncarrés de Chocolat NESTLÉ DESSERT Praliné  ', '4\\n\\n\\n\\ncarrés de Chocolat NESTLÉ DESSERT Caramel  ', '4\\n\\n\\n\\ncarrés de Chocolat NESTLÉ DESSERT Noir Absolu  ', [\"\\t\\t\\tPréchauffez votre four thermostat 6/7 (200°C) en mode traditionnel.\\nDans un saladier, mélangez le sachet de préparation, l'oeuf et le beurre mou. \\t\\t\\n\\n\\t\\t\\tFaites une boule et ajoutez les pépites. \\nSéparez la pâte en 12 morceaux, aplatissez-les et posez au centre un carré de chocolat. Refermez et formez des boules. \\t\\t\\n\\n\\t\\t\\tDéposez les boules dans le moule à mini cakes muffins Tefal Proflex et placez au congélateur 30 minutes.\\t\\t\\n\\n\\t\\t\\tFaites cuire au four 15 minutes.\\t\\t\"]]\n"
     ]
    },
    {
     "data": {
      "text/plain": [
       "[[['Original American Cookies de Mike'],\n",
       "  ['nathan_15813882'],\n",
       "  ['4.7/5'],\n",
       "  ['Confiserie',\n",
       "   'Végétarien',\n",
       "   'Rapide',\n",
       "   'Petits gâteaux',\n",
       "   'Gâteau',\n",
       "   'Cookie',\n",
       "   'Recette américaine',\n",
       "   '\\n\\t\\t\\t\\t\\t\\tPréparation : 3 min\\t\\t\\t\\t\\t',\n",
       "   '\\n\\t\\t\\t\\t\\t\\tPréparation : 1 min\\t\\t\\t\\t\\t',\n",
       "   '\\n\\t\\t\\t\\t\\t\\tPréparation : 2 min\\t\\t\\t\\t\\t',\n",
       "   '\\n\\t\\t\\t\\t\\t\\tPréparation : 2 min\\t\\t\\t\\t\\t',\n",
       "   '\\n\\t\\t\\t\\t\\t\\tPréparation : 3 min\\t\\t\\t\\t\\t',\n",
       "   '\\n\\t\\t\\t\\t\\t\\tPréparation : 1 min\\t\\t\\t\\t\\t',\n",
       "   '\\n\\t\\t\\t\\t\\t\\tPréparation : 6 min\\t\\t\\t\\t\\t',\n",
       "   '\\n\\t\\t\\t\\t\\t\\tCuisson : 9 min\\t\\t\\t\\t\\t',\n",
       "   '\\n\\t\\t\\t\\t\\t\\tCuisson : 1 min\\t\\t\\t\\t\\t'],\n",
       "  '121k',\n",
       "  ['15'],\n",
       "  ['très facile'],\n",
       "  ['Temps Total : 15 min\\t\\t\\t\\t\\t\\t\\t\\t'],\n",
       "  ['Préparation\\xa0: 5 min\\t\\t\\t\\t\\t\\t\\t\\t\\t\\t'],\n",
       "  ['Cuisson\\xa0:\\n\\n\\t\\t\\t\\t\\t\\t\\t\\t\\t\\t\\t\\t10 min\\t\\t\\t\\t\\t\\t\\t\\t\\t\\t\\t'],\n",
       "  ['bon marché'],\n",
       "  'https://www.marmiton.org/recettes/recette_original-american-cookies-de-mike_39907.aspx',\n",
       "  '250\\n\\n\\n\\ng de farine  ',\n",
       "  '90\\n\\n\\n\\ng de sucre de canne roux (ou cassonade) ',\n",
       "  '1\\n\\n\\n\\nsachet de sucre vanillé  ',\n",
       "  '1\\n\\n\\n\\npincée de sel  ',\n",
       "  '1/2\\n\\n\\n\\nsachet de levure  ',\n",
       "  '1\\n\\n\\n\\n oeuf  ',\n",
       "  '125\\n\\n\\n\\ng de beurre doux  ',\n",
       "  '2\\n\\n\\n\\ncuillères à café de miel  ',\n",
       "  'Chocolat (à volonté) ',\n",
       "  [\"\\t\\t\\tMélangez la farine, les sucres, le sel et la levure dans un grand saladier.\\t\\t\\n\\n\\t\\t\\tFaites fondre le beurre.\\t\\t\\n\\n\\t\\t\\tAjoutez-y l'oeuf battu et les 2 cuillères à café de miel\\t\\t\\n\\n\\t\\t\\tincorporez le tout à la préparation.\\t\\t\\n\\n\\t\\t\\tAjouter les pépites de chocolat (de préférence au lait, mais j'ai déjà goûté des cookies aux 3 chocolats et c'est exquis), et mélangez.\\t\\t\\n\\n\\t\\t\\tPréchauffez votre four à 220°C (thermostat 7-8), avec la grille au plus bas. Façonnez des cookies d’environ 10 cm de diamètre (avec une cuillère à glace c'est facile).\\t\\t\\n\\n\\t\\t\\tDisposez-les sur une plaque. Ils doivent être assez espacés.\\t\\t\\n\\n\\t\\t\\tEnfournez-les 9 à 11 minutes, selon que vous les souhaitiez respectivement « extra-moelleux, moelleux ou crousti-moelleux »...  \\t\\t\\n\\n\\t\\t\\tVous m’en direz des nouvelles !\\t\\t\"]],\n",
       " [['Blanquette de veau facile'],\n",
       "  ['lilia1'],\n",
       "  ['4.9/5'],\n",
       "  ['Plat principal', 'Viande en sauce', 'Viande', 'Blanquette', 'Je débute'],\n",
       "  '151k',\n",
       "  ['4'],\n",
       "  ['très facile'],\n",
       "  ['Temps Total : 2h15\\t\\t\\t\\t\\t\\t\\t\\t'],\n",
       "  ['Préparation\\xa0: 15 min\\t\\t\\t\\t\\t\\t\\t\\t\\t\\t'],\n",
       "  ['Cuisson\\xa0:\\n\\n\\t\\t\\t\\t\\t\\t\\t\\t\\t\\t\\t\\t2 h\\t\\t\\t\\t\\t\\t\\t\\t\\t\\t\\t'],\n",
       "  ['Coût moyen'],\n",
       "  'https://www.marmiton.org/recettes/recette_blanquette-de-veau-facile_19219.aspx',\n",
       "  '1\\n\\n\\n\\nkg de blanquette de veau  ',\n",
       "  '1\\n\\n\\n\\n cube de bouillon de légumes ',\n",
       "  '1\\n\\n\\n\\n bouillon de poule  ',\n",
       "  '2\\n\\n\\n\\n carottes  ',\n",
       "  '1\\n\\n\\n\\n oignon jaune  ',\n",
       "  '1\\n\\n\\n\\npetite boîte de champignon (coupés) ',\n",
       "  '1\\n\\n\\n\\npetit pot de crème fraîche  ',\n",
       "  'Citron  ',\n",
       "  \"1\\n\\n\\n\\n jaune d'oeuf  \",\n",
       "  'Farine  ',\n",
       "  '25\\n\\n\\n\\ncl de vin blanc  ',\n",
       "  'Sel  ',\n",
       "  'Poivre  ',\n",
       "  [\"\\t\\t\\tFaire revenir la viande dans un peu de beurre doux jusqu'à ce que les morceaux soient un peu dorés.\\t\\t\\n\\n\\t\\t\\tSaupoudrer de 2 cuillères de farine. Bien remuer.\\t\\t\\n\\n\\t\\t\\tAjouter 2 ou 3 verres d'eau, les cubes de bouillon, le vin et remuer. Ajouter de l'eau si nécessaire pour couvrir.\\t\\t\\n\\n\\t\\t\\tCouper les carottes en rondelles et émincer les oignons puis les incorporer à la viande, ainsi que les champignons. \\t\\t\\n\\n\\t\\t\\tLaisser mijoter à feu très doux environ 1h30 à 2h00 en remuant. \\t\\t\\n\\n\\t\\t\\tSi nécessaire, ajouter de l'eau de temps en temps. \\t\\t\\n\\n\\t\\t\\tDans un bol, bien mélanger la crème fraîche, le jaune d’oeuf et le jus de citron. Ajouter ce mélange au dernier moment, bien remuer et servir tout de suite.\\t\\t\"]],\n",
       " [['Le crumble aux pommes du Chat qui Tousse'],\n",
       "  ['Anonyme'],\n",
       "  ['4.8/5'],\n",
       "  ['Dessert', 'Végétarien', 'Crumble', 'Crumble aux pommes', 'Les classiques'],\n",
       "  '104k',\n",
       "  ['6'],\n",
       "  ['très facile'],\n",
       "  ['Temps Total : 55 min\\t\\t\\t\\t\\t\\t\\t\\t'],\n",
       "  ['Préparation\\xa0: 25 min\\t\\t\\t\\t\\t\\t\\t\\t\\t\\t'],\n",
       "  ['Cuisson\\xa0:\\n\\n\\t\\t\\t\\t\\t\\t\\t\\t\\t\\t\\t\\t30 min\\t\\t\\t\\t\\t\\t\\t\\t\\t\\t\\t'],\n",
       "  ['bon marché'],\n",
       "  'https://www.marmiton.org/recettes/recette_le-crumble-aux-pommes-du-chat-qui-tousse_10534.aspx',\n",
       "  '6\\n\\n\\n\\n pommes (des Canada par exemple) ',\n",
       "  '150\\n\\n\\n\\ng de cassonade  ',\n",
       "  '150\\n\\n\\n\\ng de farine de blé  ',\n",
       "  '125\\n\\n\\n\\ng de beurre doux (le sortir 1/2 heure avant de commencer la recette) ',\n",
       "  '1\\n\\n\\n\\npetite cuillère de cannelle en poudre ',\n",
       "  '1\\n\\n\\n\\nsachet de sucre vanillé  ',\n",
       "  'Citron  ',\n",
       "  ['\\t\\t\\tPréchauffer le four à 210°C (thermostat 7).\\t\\t\\n\\n\\t\\t\\tPeler, évider et découper les pommes en cubes grossiers, les répartir dans un plat allant au four.\\t\\t\\n\\n\\t\\t\\tLes arroser de jus du citron et les saupoudrer de cannelle et de sucre vanillé.\\t\\t\\n\\n\\t\\t\\tDans un saladier, mélanger la farine et la cassonade. Puis ajouter le beurre en petits cubes et mélanger à la main de façon à former une pâte grumeleuse.\\t\\t\\n\\n\\t\\t\\tÉmietter cette pâte au dessus des pommes de façon à les recouvrir. \\t\\t\\n\\n\\t\\t\\tEnfourner pour 30 minutes de cuisson. \\t\\t\\n\\n\\t\\t\\tServir tiède avec de la crème fouettée ou de la glace à la vanille.\\t\\t']],\n",
       " [['Gâteau au yaourt'],\n",
       "  ['Anonyme'],\n",
       "  ['4.6/5'],\n",
       "  ['Dessert',\n",
       "   'Végétarien',\n",
       "   'Gâteau',\n",
       "   'Gâteau au yaourt',\n",
       "   \"Dessert d'enfance\",\n",
       "   '\\n\\t\\t\\t\\t\\t\\tPréparation : 1 min\\t\\t\\t\\t\\t',\n",
       "   '\\n\\t\\t\\t\\t\\t\\tPréparation : 30 sec\\t\\t\\t\\t\\t',\n",
       "   '\\n\\t\\t\\t\\t\\t\\tPréparation : 30 sec\\t\\t\\t\\t\\t',\n",
       "   '\\n\\t\\t\\t\\t\\t\\tPréparation : 30 sec\\t\\t\\t\\t\\t',\n",
       "   '\\n\\t\\t\\t\\t\\t\\tPréparation : 30 sec\\t\\t\\t\\t\\t',\n",
       "   '\\n\\t\\t\\t\\t\\t\\tPréparation : 2 min\\t\\t\\t\\t\\t',\n",
       "   '\\n\\t\\t\\t\\t\\t\\tPréparation : 3 min\\t\\t\\t\\t\\t',\n",
       "   '\\n\\t\\t\\t\\t\\t\\tCuisson : 30 min\\t\\t\\t\\t\\t'],\n",
       "  '120k',\n",
       "  ['4'],\n",
       "  ['très facile'],\n",
       "  ['Temps Total : 45 min\\t\\t\\t\\t\\t\\t\\t\\t'],\n",
       "  ['Préparation\\xa0: 15 min\\t\\t\\t\\t\\t\\t\\t\\t\\t\\t'],\n",
       "  ['Cuisson\\xa0:\\n\\n\\t\\t\\t\\t\\t\\t\\t\\t\\t\\t\\t\\t30 min\\t\\t\\t\\t\\t\\t\\t\\t\\t\\t\\t'],\n",
       "  ['bon marché'],\n",
       "  'https://www.marmiton.org/recettes/recette_gateau-au-yaourt_12719.aspx',\n",
       "  '1/2\\n\\n\\n\\npaquet de levure chimique  ',\n",
       "  '1\\n\\n\\n\\npot de yaourt nature  ',\n",
       "  \"1/2\\n\\n\\n\\npot d'huile de colza  \",\n",
       "  '2\\n\\n\\n\\npots de sucre semoule  ',\n",
       "  '3\\n\\n\\n\\npots de farine  ',\n",
       "  '2\\n\\n\\n\\n oeufs  ',\n",
       "  '1\\n\\n\\n\\nzeste de citron jaune ',\n",
       "  [\"\\t\\t\\tPréchauffer le four à 180°C (thermostat 6).\\n\\r\\nMélanger tout simplement les ingrédients un à un en suivant l'ordre suivant : levure,\\t\\t\\n\\n\\t\\t\\tyaourt\\t\\t\\n\\n\\t\\t\\thuile\\t\\t\\n\\n\\t\\t\\tsucre\\t\\t\\n\\n\\t\\t\\tfarine\\t\\t\\n\\n\\t\\t\\toeuf et zeste\\t\\t\\n\\n\\t\\t\\tBeurrer un moule à manqué et y verser la pâte.\\t\\t\\n\\n\\t\\t\\tEnfourner pour environ 30 minutes de cuisson.\\t\\t\\n\\n\\t\\t\\tVérifier la cuisson avec la pointe d'un couteau (elle doit ressortir sèche).\\t\\t\"]],\n",
       " [['Véritable moelleux au chocolat'],\n",
       "  ['Anonyme'],\n",
       "  ['4.6/5'],\n",
       "  ['Dessert',\n",
       "   'Végétarien',\n",
       "   'Gâteau',\n",
       "   'Gâteau au chocolat',\n",
       "   \"Dessert d'enfance\",\n",
       "   '\\n\\t\\t\\t\\t\\t\\tCuisson : 5 min\\t\\t\\t\\t\\t',\n",
       "   '\\n\\t\\t\\t\\t\\t\\tPréparation : 2 min\\t\\t\\t\\t\\t',\n",
       "   '\\n\\t\\t\\t\\t\\t\\tPréparation : 1 min\\t\\t\\t\\t\\t',\n",
       "   '\\n\\t\\t\\t\\t\\t\\tPréparation : 1 min\\t\\t\\t\\t\\t',\n",
       "   '\\n\\t\\t\\t\\t\\t\\tPréparation : 30 sec\\t\\t\\t\\t\\t',\n",
       "   '\\n\\t\\t\\t\\t\\t\\tPréparation : 2 min\\t\\t\\t\\t\\t',\n",
       "   '\\n\\t\\t\\t\\t\\t\\tPréparation : 5 min\\t\\t\\t\\t\\t',\n",
       "   '\\n\\t\\t\\t\\t\\t\\tPréparation : 2 min\\t\\t\\t\\t\\t',\n",
       "   '\\n\\t\\t\\t\\t\\t\\tCuisson : 35 min\\t\\t\\t\\t\\t'],\n",
       "  '89k',\n",
       "  ['6'],\n",
       "  ['très facile'],\n",
       "  ['Temps Total : 40 min\\t\\t\\t\\t\\t\\t\\t\\t'],\n",
       "  ['Préparation\\xa0: 10 min\\t\\t\\t\\t\\t\\t\\t\\t\\t\\t'],\n",
       "  ['Cuisson\\xa0:\\n\\n\\t\\t\\t\\t\\t\\t\\t\\t\\t\\t\\t\\t30 min\\t\\t\\t\\t\\t\\t\\t\\t\\t\\t\\t'],\n",
       "  ['bon marché'],\n",
       "  'https://www.marmiton.org/recettes/recette_veritable-moelleux-au-chocolat_12825.aspx',\n",
       "  '125\\n\\n\\n\\ng de farine  ',\n",
       "  '125\\n\\n\\n\\ng de beurre doux  ',\n",
       "  '250\\n\\n\\n\\ng de sucre semoule  ',\n",
       "  '200\\n\\n\\n\\ng de chocolat noir  ',\n",
       "  '4\\n\\n\\n\\n oeufs  ',\n",
       "  '1/2\\n\\n\\n\\nsachet de levure  ',\n",
       "  [\"\\t\\t\\tPréchauffer le four à 180°C (thermostat 6).\\n\\r\\nFaire fondre le chocolat dans une casserole.\\t\\t\\n\\n\\t\\t\\tHors du feu, ajouter le beurre, \\t\\t\\n\\n\\t\\t\\tla farine et la levure.\\t\\t\\n\\n\\t\\t\\tFouetter les jaunes d’oeuf avec le sucre\\t\\t\\n\\n\\t\\t\\tet un peu d'eau pour faire mousser\\t\\t\\n\\n\\t\\t\\tpuis l'ajouter à la préparation chocolatée.\\t\\t\\n\\n\\t\\t\\tBattre les blancs en neige et les incorporer dans la casserole tout doucement.\\t\\t\\n\\n\\t\\t\\tVerser le tout dans un moule beurré à bords hauts\\t\\t\\n\\n\\t\\t\\tet enfourner pendant environ 35 minutes.\\t\\t\\n\\n\\t\\t\\tOn peut ajouter du sucre glace ou du chocolat fondu, pour décorer le dessus du gâteau.\\t\\t\\n\\n\\t\\t\\tDéguster\\t\\t\"]],\n",
       " [['Les Timbales de Jeanne (saumon à la mousse de courgettes au micro-ondes)'],\n",
       "  ['sofia_15984013'],\n",
       "  ['4.8/5'],\n",
       "  ['Entrée',\n",
       "   'Sans gluten',\n",
       "   'Micro-ondes',\n",
       "   '\\n\\t\\t\\t\\t\\t\\tPréparation : 2 min\\t\\t\\t\\t\\t',\n",
       "   '\\n\\t\\t\\t\\t\\t\\tPréparation : 3 min\\t\\t\\t\\t\\t',\n",
       "   '\\n\\t\\t\\t\\t\\t\\tCuisson : 5 min\\t\\t\\t\\t\\t',\n",
       "   '\\n\\t\\t\\t\\t\\t\\tPréparation : 30 sec\\t\\t\\t\\t\\t',\n",
       "   '\\n\\t\\t\\t\\t\\t\\tPréparation : 30 sec\\t\\t\\t\\t\\t',\n",
       "   '\\n\\t\\t\\t\\t\\t\\tPréparation : 1 min\\t\\t\\t\\t\\t',\n",
       "   '\\n\\t\\t\\t\\t\\t\\tPréparation : 2 min\\t\\t\\t\\t\\t',\n",
       "   '\\n\\t\\t\\t\\t\\t\\tPréparation : 1 min\\t\\t\\t\\t\\t',\n",
       "   '\\n\\t\\t\\t\\t\\t\\tCuisson : 3 min\\t\\t\\t\\t\\t'],\n",
       "  '78k',\n",
       "  ['4'],\n",
       "  ['très facile'],\n",
       "  ['Temps Total : 18 min\\t\\t\\t\\t\\t\\t\\t\\t'],\n",
       "  ['Préparation\\xa0: 15 min\\t\\t\\t\\t\\t\\t\\t\\t\\t\\t'],\n",
       "  ['Cuisson\\xa0:\\n\\n\\t\\t\\t\\t\\t\\t\\t\\t\\t\\t\\t\\t3 min\\t\\t\\t\\t\\t\\t\\t\\t\\t\\t\\t'],\n",
       "  ['bon marché'],\n",
       "  'https://www.marmiton.org/recettes/recette_les-timbales-de-jeanne-saumon-a-la-mousse-de-courgettes-au-micro-ondes_21864.aspx',\n",
       "  '4\\n\\n\\n\\ntranches de saumon fumé  ',\n",
       "  '2\\n\\n\\n\\n courgettes  ',\n",
       "  '3\\n\\n\\n\\n oeufs  ',\n",
       "  '10\\n\\n\\n\\ncl de crème fraîche épaisse  ',\n",
       "  \"1\\n\\n\\n\\npetite gousse d'ail  \",\n",
       "  \"1\\n\\n\\n\\ncuillère à soupe d'huile d'olive  \",\n",
       "  'Aneth  ',\n",
       "  'Menthe  ',\n",
       "  'Sel  ',\n",
       "  'Poivre  ',\n",
       "  ['\\t\\t\\tRincer, essorer et ciseler l\\'aneth et la menthe. Peler et émincer la gousse d\\'ail. \\t\\t\\n\\n\\t\\t\\tRâper les courgettes.\\t\\t\\n\\n\\t\\t\\tLes faire revenir dans 1 cuillère à soupe d\\'huile d\\'olive avec l\\'ail émincé et les herbes ciselées.\\t\\t\\n\\n\\t\\t\\tAssaisonner (mais pas trop, attention au saumon fumé). Réserver et laisser un peu refroidir. \\t\\t\\n\\n\\t\\t\\tBattre les oeufs et la crème en omelette.\\t\\t\\n\\n\\t\\t\\tMélanger cette préparation avec les courgettes râpées et éventuellement, donner un petit coup de mixeur pour obtenir l\\'aspect \"mousse\". \\t\\t\\n\\n\\t\\t\\tTapisser 4 ramequins avec les tranches de saumon fumé.\\t\\t\\n\\n\\t\\t\\tVerser le mélange omelette-courgettes dans les ramequins tapissés de saumon. \\t\\t\\n\\n\\t\\t\\tFaire cuire au micro-ondes pendant 2 à 3 minutes, selon la puissance (vérifier la cuisson vous-même, il n\\'y a que ça de vrai !). \\t\\t\\n\\n\\t\\t\\tDéguster !\\t\\t']],\n",
       " [['Gâteau aux pommes facile'],\n",
       "  ['Anonyme'],\n",
       "  ['4.7/5'],\n",
       "  ['Dessert',\n",
       "   'Végétarien',\n",
       "   'Gâteau',\n",
       "   'Gâteau aux pommes',\n",
       "   \"Dessert d'enfance\"],\n",
       "  '89k',\n",
       "  ['1'],\n",
       "  ['très facile'],\n",
       "  ['Temps Total : 57 min\\t\\t\\t\\t\\t\\t\\t\\t'],\n",
       "  ['Préparation\\xa0: 12 min\\t\\t\\t\\t\\t\\t\\t\\t\\t\\t'],\n",
       "  ['Cuisson\\xa0:\\n\\n\\t\\t\\t\\t\\t\\t\\t\\t\\t\\t\\t\\t45 min\\t\\t\\t\\t\\t\\t\\t\\t\\t\\t\\t'],\n",
       "  ['bon marché'],\n",
       "  'https://www.marmiton.org/recettes/recette_gateau-aux-pommes-facile_13493.aspx',\n",
       "  '120\\n\\n\\n\\ng de sucre semoule  ',\n",
       "  '1\\n\\n\\n\\npaquet de sucre vanillé  ',\n",
       "  '3\\n\\n\\n\\n oeufs  ',\n",
       "  '1/2\\n\\n\\n\\npaquet de levure chimique  ',\n",
       "  '125\\n\\n\\n\\ng de farine  ',\n",
       "  \"1/2\\n\\n\\n\\nverre d'huile de colza  \",\n",
       "  '3\\n\\n\\n\\n pommes  ',\n",
       "  ['\\t\\t\\tPréchauffer le four à 160°C (thermostat 5-6).\\nMélanger tous les ingrédients de la pâte.\\t\\t\\n\\n\\t\\t\\tAjouter les pommes préalablement coupées en cube.\\t\\t\\n\\n\\t\\t\\tMélanger à nouveau à la spatule.\\t\\t\\n\\n\\t\\t\\tVerser la pâte à gâteau dans un moule beurré et cuire pendant 40 à 50 minutes.\\t\\t\\n\\n\\t\\t\\tDéguster !\\t\\t']],\n",
       " [['Meringue pour les nuls'],\n",
       "  ['julia_15932643'],\n",
       "  ['4.8/5'],\n",
       "  ['Dessert',\n",
       "   'Végétarien',\n",
       "   'Sans gluten',\n",
       "   'Petits gâteaux',\n",
       "   'Gâteau',\n",
       "   'Meringues',\n",
       "   'Les classiques'],\n",
       "  '73k',\n",
       "  ['20'],\n",
       "  ['très facile'],\n",
       "  ['Temps Total : 1h05\\t\\t\\t\\t\\t\\t\\t\\t'],\n",
       "  ['Préparation\\xa0: 5 min\\t\\t\\t\\t\\t\\t\\t\\t\\t\\t'],\n",
       "  ['Cuisson\\xa0:\\n\\n\\t\\t\\t\\t\\t\\t\\t\\t\\t\\t\\t\\t1 h\\t\\t\\t\\t\\t\\t\\t\\t\\t\\t\\t'],\n",
       "  ['bon marché'],\n",
       "  'https://www.marmiton.org/recettes/recette_meringue-pour-les-nuls_36610.aspx',\n",
       "  \"4\\n\\n\\n\\n blancs d'oeuf  \",\n",
       "  '250\\n\\n\\n\\ng de sucre semoule  ',\n",
       "  [\"\\t\\t\\tQuelques trucs pour bien réussir ces meringues : sortir les oeufs du réfrigérateur un quart d'heure avant de les utiliser.\\t\\t\\n\\n\\t\\t\\tNe surtout pas mélanger de jaunes aux blancs d'oeuf.\\t\\t\\n\\n\\t\\t\\tAjouter une pincée de sel avant de battre les blancs en neige.\\t\\t\\n\\n\\t\\t\\tUtiliser un récipient plus haut que large et utiliser un batteur électrique (bien plus rapide et moins fatiguant)! On peut commencer :\\t\\t\\n\\n\\t\\t\\tBattre les blancs d'oeuf en neige ferme.\\t\\t\\n\\n\\t\\t\\tAjouter le sucre par petites quantités tout en continuant de battre.\\t\\t\\n\\n\\t\\t\\tPréchauffer le four à 120°C (thermostat 4).\\t\\t\\n\\n\\t\\t\\tDéposer immédiatement de petits tas de meringue sur une plaque de four préalablement recouverte de papier sulfurisé.\\t\\t\\n\\n\\t\\t\\tCuire entre 30 minutes et 1 heure à 120°C.\\t\\t\\n\\n\\t\\t\\tAu bout de 30 minutes, on obtient des meringues blanches et moelleuses.\\t\\t\\n\\n\\t\\t\\tAu bout d'1 heure, on obtient des meringues rosées, craquantes et fondantes avec un coeur moelleux.\\t\\t\\n\\n\\t\\t\\tUne fois cuites, décoller les meringues délicatement dès la sortie du four et laisser refroidir sur une grille. \\t\\t\"]],\n",
       " [['Pancakes'],\n",
       "  ['Anonyme'],\n",
       "  ['4.7/5'],\n",
       "  ['Dessert', 'Végétarien', 'Rapide', 'Crêpe', 'Pancake', 'Les classiques'],\n",
       "  '109k',\n",
       "  ['4'],\n",
       "  ['très facile'],\n",
       "  ['Temps Total : 14 min\\t\\t\\t\\t\\t\\t\\t\\t'],\n",
       "  ['Préparation\\xa0: 10 min\\t\\t\\t\\t\\t\\t\\t\\t\\t\\t'],\n",
       "  ['Cuisson\\xa0:\\n\\n\\t\\t\\t\\t\\t\\t\\t\\t\\t\\t\\t\\t4 min\\t\\t\\t\\t\\t\\t\\t\\t\\t\\t\\t'],\n",
       "  ['bon marché'],\n",
       "  'https://www.marmiton.org/recettes/recette_pancakes_15299.aspx',\n",
       "  '250\\n\\n\\n\\ng de farine  ',\n",
       "  '30\\n\\n\\n\\ng de sucre semoule  ',\n",
       "  '2\\n\\n\\n\\n oeufs  ',\n",
       "  '1\\n\\n\\n\\nsachet de levure traditionnelle ',\n",
       "  '65\\n\\n\\n\\ng de beurre doux  ',\n",
       "  '1\\n\\n\\n\\npincée de sel  ',\n",
       "  '30\\n\\n\\n\\ncl de lait  ',\n",
       "  [\"\\t\\t\\tFaire fondre le beurre, dans une casserole à feu doux ou dans un bol au micro-ondes. \\t\\t\\n\\n\\t\\t\\tMettre la farine, la levure et le sucre dans un saladier. Mélanger et creuser un puits.  \\t\\t\\n\\n\\t\\t\\tAjouter ensuite les oeufs entiers et fouetter l'ensemble.\\t\\t\\n\\n\\t\\t\\tIncorporer le beurre fondu, fouetter puis délayer progressivement le mélange avec le lait afin d'éviter les grumeaux.\\t\\t\\n\\n\\t\\t\\tLaisser reposer la pâte au minimum 1 heure au réfrigérateur.\\t\\t\\n\\n\\t\\t\\tDans une poêle chaude et légèrement huilée, faire cuire comme des crêpes, mais en les faisant plus petites. Réserver au chaud et déguster.\\t\\t\"]],\n",
       " [['Cookie cup glace vanille et pépites de chocolat'],\n",
       "  [],\n",
       "  ['3/5'],\n",
       "  ['Dessert', 'Végétarien', 'Petits gâteaux', 'Gâteau', 'Cookie'],\n",
       "  '2.4k',\n",
       "  ['6'],\n",
       "  ['facile'],\n",
       "  ['Temps Total : 32 min\\t\\t\\t\\t\\t\\t\\t\\t'],\n",
       "  ['Préparation\\xa0: 15 min\\t\\t\\t\\t\\t\\t\\t\\t\\t\\t'],\n",
       "  ['Cuisson\\xa0:\\n\\n\\t\\t\\t\\t\\t\\t\\t\\t\\t\\t\\t\\t17 min\\t\\t\\t\\t\\t\\t\\t\\t\\t\\t\\t'],\n",
       "  ['bon marché'],\n",
       "  'https://www.marmiton.org/recettes/recette_cookie-cup-glace-vanille-et-pepites-de-chocolat_372241.aspx',\n",
       "  '140\\n\\n\\n\\ng de farine  ',\n",
       "  '70\\n\\n\\n\\ng de sucre  ',\n",
       "  '1\\n\\n\\n\\n oeuf  ',\n",
       "  '1\\n\\n\\n\\nsachet de pépites Chocolat NESTLÉ DESSERT lait  ',\n",
       "  '3\\n\\n\\n\\ng de levure chimique  ',\n",
       "  '80\\n\\n\\n\\ng de beurre  ',\n",
       "  '6\\n\\n\\n\\nboules de glace vanille  ',\n",
       "  [\"\\t\\t\\tMélangez la farine, le sucre, la levure, le beurre et l'oeuf. Ajoutez les 3/4 des pépites. Faites une boule. \\t\\t\\n\\n\\t\\t\\tPlacez au frais 30 minutes.\\t\\t\\n\\n\\t\\t\\tCoupez en 6 la pâte et répartissez dans un moule à muffin en formant des cup. Ajoutez un rond de papier sulfurisé et du gros sel. \\t\\t\\n\\n\\t\\t\\tFaites cuire 15 minutes à 200°C en mode traditionnel. Retirez le gros sel et prolongez la cuisson 2 minutes. \\t\\t\\n\\n\\t\\t\\tLaissez bien refroidir. Ajoutez une boule de glace et des pépites de chocolat.\\t\\t\"]],\n",
       " [['Filet mignon en croûte'],\n",
       "  ['rose_14318325'],\n",
       "  ['4.8/5'],\n",
       "  ['Plat principal',\n",
       "   'Viande rôtie',\n",
       "   'Viande',\n",
       "   'Filet mignon',\n",
       "   'Les classiques'],\n",
       "  '102k',\n",
       "  ['6'],\n",
       "  ['très facile'],\n",
       "  ['Temps Total : 1 h\\t\\t\\t\\t\\t\\t\\t\\t'],\n",
       "  ['Préparation\\xa0: 15 min\\t\\t\\t\\t\\t\\t\\t\\t\\t\\t'],\n",
       "  ['Cuisson\\xa0:\\n\\n\\t\\t\\t\\t\\t\\t\\t\\t\\t\\t\\t\\t45 min\\t\\t\\t\\t\\t\\t\\t\\t\\t\\t\\t'],\n",
       "  ['bon marché'],\n",
       "  'https://www.marmiton.org/recettes/recette_filet-mignon-en-croute_14407.aspx',\n",
       "  '2\\n\\n\\n\\n filets mignons de porc ',\n",
       "  '2\\n\\n\\n\\n pâtes feuilletées  ',\n",
       "  '4\\n\\n\\n\\ntranches de jambon blanc  ',\n",
       "  '200\\n\\n\\n\\ng de gruyère râpé  ',\n",
       "  '2\\n\\n\\n\\n oignons jaunes  ',\n",
       "  \"2\\n\\n\\n\\n jaunes d'oeuf  \",\n",
       "  [\"\\t\\t\\tPeler et émincer les oignons.\\t\\t\\n\\n\\t\\t\\tLes faire revenir dans une sauteuse avec 20 g de beurre pendant 3 minutes environ. Les retirer de la sauteuse et les réserver. \\t\\t\\n\\n\\t\\t\\tDans la même sauteuse, faire revenir les filets mignons de chaque côté.\\t\\t\\n\\n\\t\\t\\tLaisser cuire 10 minutes à feu doux.\\t\\t\\n\\n\\t\\t\\tRéincorporer les oignons. Poursuivre la cuisson pendant 5 minutes. Saler, poivrer. Réserver.\\t\\t\\n\\n\\t\\t\\tDérouler les pâtes feuilletées. \\t\\t\\n\\n\\t\\t\\tDéposer sur chaque pâte deux tranches de jambon et 100 g de gruyère. Saler et poivrer.\\t\\t\\n\\n\\t\\t\\tY déposer un filet sur chaque pâte garnie et napper de sauce aux oignons.\\t\\t\\n\\n\\t\\t\\tReplier la pâte autour de la viande et souder les bords à l'aide du jaune d'oeuf préalablement battu et d'un pinceau alimentaire.\\t\\t\\n\\n\\t\\t\\tEnfourner pour 45 minutes de cuisson à 200°C (thermostat 6-7).\\t\\t\"]],\n",
       " [['Galette des rois'],\n",
       "  ['Anonyme'],\n",
       "  ['4.7/5'],\n",
       "  ['Dessert',\n",
       "   'Végétarien',\n",
       "   'Galette des rois',\n",
       "   'Galette frangipane',\n",
       "   'Galettes des rois',\n",
       "   '\\n\\t\\t\\t\\t\\t\\tPréparation : 1 min\\t\\t\\t\\t\\t',\n",
       "   '\\n\\t\\t\\t\\t\\t\\tPréparation : 2 min\\t\\t\\t\\t\\t',\n",
       "   '\\n\\t\\t\\t\\t\\t\\tPréparation : 5 min\\t\\t\\t\\t\\t',\n",
       "   '\\n\\t\\t\\t\\t\\t\\tPréparation : 3 min\\t\\t\\t\\t\\t',\n",
       "   '\\n\\t\\t\\t\\t\\t\\tPréparation : 1 min\\t\\t\\t\\t\\t',\n",
       "   '\\n\\t\\t\\t\\t\\t\\tPréparation : 1 min\\t\\t\\t\\t\\t',\n",
       "   '\\n\\t\\t\\t\\t\\t\\tPréparation : 1 min\\t\\t\\t\\t\\t',\n",
       "   '\\n\\t\\t\\t\\t\\t\\tCuisson : 40 min\\t\\t\\t\\t\\t'],\n",
       "  '96k',\n",
       "  ['6'],\n",
       "  ['très facile'],\n",
       "  ['Temps Total : 55 min\\t\\t\\t\\t\\t\\t\\t\\t'],\n",
       "  ['Préparation\\xa0: 15 min\\t\\t\\t\\t\\t\\t\\t\\t\\t\\t'],\n",
       "  ['Cuisson\\xa0:\\n\\n\\t\\t\\t\\t\\t\\t\\t\\t\\t\\t\\t\\t40 min\\t\\t\\t\\t\\t\\t\\t\\t\\t\\t\\t'],\n",
       "  ['bon marché'],\n",
       "  'https://www.marmiton.org/recettes/recette_galette-des-rois_10832.aspx',\n",
       "  '2\\n\\n\\n\\n pâtes feuilletées  ',\n",
       "  \"100\\n\\n\\n\\ng de poudre d'amande  \",\n",
       "  '75\\n\\n\\n\\ng de sucre semoule  ',\n",
       "  '1\\n\\n\\n\\n oeuf  ',\n",
       "  '50\\n\\n\\n\\ng de beurre mou ',\n",
       "  \"goutte d'extrait d'amande amère  \",\n",
       "  \"1\\n\\n\\n\\n jaune d'oeuf pour dorer \",\n",
       "  '1\\n\\n\\n\\n fève ! ',\n",
       "  [\"\\t\\t\\tPréchauffer le four à 210°C (thermostat 7).\\t\\t\\n\\n\\t\\t\\tDisposer une pâte dans un moule à tarte, la piquer avec 1 fourchette.\\t\\t\\n\\n\\t\\t\\tMélanger dans un saladier tous les ingrédients (poudre d'amandes, sucre, oeuf, beurre mou et extrait d'amande amère).\\t\\t\\n\\n\\t\\t\\tEtaler la préparation sur la pâte, y mettre la fève (sur un bord, pour minimiser les chances de tomber dessus en coupant la galette!).\\t\\t\\n\\n\\t\\t\\tRefermer la galette avec la seconde pâte et bien souder les bords.\\t\\t\\n\\n\\t\\t\\tA l'aide d'un couteau, décorer la pâte en y traçant des dessins et dorer au jaune d'oeuf (dilué dans un peu d'eau). \\t\\t\\n\\n\\t\\t\\tPercer le dessus de petits trous pour laisser l'air s'échapper, sinon elle risque de gonfler et de se dessécher.\\t\\t\\n\\n\\t\\t\\tEnfourner pendant 30 minutes environ (surveiller la cuisson dès 25 minutes, mais ne pas hésiter à laisser jusqu'à 40 minutes si nécessaire).\\t\\t\\n\\n\\t\\t\\tDéguster.\\t\\t\"]],\n",
       " [['Fondant au chocolat'],\n",
       "  ['Anonyme'],\n",
       "  ['4.6/5'],\n",
       "  ['Dessert',\n",
       "   'Végétarien',\n",
       "   'Gâteau au chocolat',\n",
       "   'Gâteau',\n",
       "   'Fondant au chocolat',\n",
       "   'Les classiques'],\n",
       "  '109k',\n",
       "  ['8'],\n",
       "  ['très facile'],\n",
       "  ['Temps Total : 35 min\\t\\t\\t\\t\\t\\t\\t\\t'],\n",
       "  ['Préparation\\xa0: 15 min\\t\\t\\t\\t\\t\\t\\t\\t\\t\\t'],\n",
       "  ['Cuisson\\xa0:\\n\\n\\t\\t\\t\\t\\t\\t\\t\\t\\t\\t\\t\\t20 min\\t\\t\\t\\t\\t\\t\\t\\t\\t\\t\\t'],\n",
       "  ['bon marché'],\n",
       "  'https://www.marmiton.org/recettes/recette_fondant-au-chocolat_15025.aspx',\n",
       "  '200\\n\\n\\n\\ng de chocolat à cuire ',\n",
       "  '100\\n\\n\\n\\ng de beurre doux  ',\n",
       "  '100\\n\\n\\n\\ng de sucre semoule  ',\n",
       "  '5\\n\\n\\n\\n oeufs  ',\n",
       "  '4\\n\\n\\n\\ncuillères à soupe de farine  ',\n",
       "  ['\\t\\t\\tPréchauffer le four à 180°C (thermostat 6).\\nFaire fondre le chocolat et le beurre au bain-marie à feu doux, ou au micro-ondes sur le programme \"décongélation\".\\t\\t\\n\\n\\t\\t\\tPendant ce temps, séparer les jaunes des blancs d\\'oeuf.\\t\\t\\n\\n\\t\\t\\tMonter les blancs en neige ferme. Réserver. \\t\\t\\n\\n\\t\\t\\tQuand le mélange chocolat-beurre est bien fondu, ajouter les jaunes d’oeufs et fouetter. \\t\\t\\n\\n\\t\\t\\tIncorporer le sucre et la farine, puis ajouter les blancs d’oeufs sans les casser. \\t\\t\\n\\n\\t\\t\\tBeurrer et fariner un moule à manqué et y verser la pâte à gâteau.\\t\\t\\n\\n\\t\\t\\tEnfourner pendant 20 minutes.\\t\\t\\n\\n\\t\\t\\tQuand le gâteau est cuit, le laisser refroidir avant de le démouler. \\t\\t']],\n",
       " [['Cookies surprise au coeur de chocolat'],\n",
       "  [],\n",
       "  ['5/5'],\n",
       "  ['Dessert', 'Sans gluten', 'Petits gâteaux', 'Gâteau', 'Cookie'],\n",
       "  '1.1k',\n",
       "  ['12'],\n",
       "  ['très facile'],\n",
       "  ['Temps Total : 55 min\\t\\t\\t\\t\\t\\t\\t\\t'],\n",
       "  ['Préparation\\xa0: 10 min\\t\\t\\t\\t\\t\\t\\t\\t\\t\\t'],\n",
       "  ['Cuisson\\xa0:\\n\\n\\t\\t\\t\\t\\t\\t\\t\\t\\t\\t\\t\\t15 min\\t\\t\\t\\t\\t\\t\\t\\t\\t\\t\\t'],\n",
       "  ['bon marché'],\n",
       "  'https://www.marmiton.org/recettes/recette_cookies-surprise-au-coeur-de-chocolat_371434.aspx',\n",
       "  '1\\n\\n\\n\\n Préparation pour Cookies aux pépites de chocolat NESTLE DESSERT  ',\n",
       "  '70\\n\\n\\n\\n beurre  ',\n",
       "  '1\\n\\n\\n\\n oeuf  ',\n",
       "  '4\\n\\n\\n\\ncarrés de Chocolat NESTLÉ DESSERT Praliné  ',\n",
       "  '4\\n\\n\\n\\ncarrés de Chocolat NESTLÉ DESSERT Caramel  ',\n",
       "  '4\\n\\n\\n\\ncarrés de Chocolat NESTLÉ DESSERT Noir Absolu  ',\n",
       "  [\"\\t\\t\\tPréchauffez votre four thermostat 6/7 (200°C) en mode traditionnel.\\nDans un saladier, mélangez le sachet de préparation, l'oeuf et le beurre mou. \\t\\t\\n\\n\\t\\t\\tFaites une boule et ajoutez les pépites. \\nSéparez la pâte en 12 morceaux, aplatissez-les et posez au centre un carré de chocolat. Refermez et formez des boules. \\t\\t\\n\\n\\t\\t\\tDéposez les boules dans le moule à mini cakes muffins Tefal Proflex et placez au congélateur 30 minutes.\\t\\t\\n\\n\\t\\t\\tFaites cuire au four 15 minutes.\\t\\t\"]]]"
      ]
     },
     "execution_count": 92,
     "metadata": {},
     "output_type": "execute_result"
    }
   ],
   "source": [
    "def Collect_data(recipes_of_page):\n",
    "    \n",
    "    \n",
    "    #recipe=dict() #dictionnary , 1 row of the final dataframe (Recipe name: [list of info])  recipe={'':[]}\n",
    "    list_of_recipes=[]\n",
    "    recipe=[]    \n",
    "    for url in recipes_of_page:\n",
    "\n",
    "        soup=BeautifulSoup(r.get(url).content)\n",
    "        # Add Recipe Name\n",
    "        recipe.append([i.text for i in soup.select('h1')])\n",
    "        \n",
    "        # add author name\n",
    "        recipe.append([i.text.strip('\\n ') for i in soup.select('div.recipe-author__author>span')]) \n",
    "        \n",
    "        #add note\n",
    "        recipe.append([i.text for i in soup.select('div.recipe-infos-users__rate__stars>span')]) \n",
    "        \n",
    "        #add tags\n",
    "        recipe.append([i.text for i in soup.select('ul.mrtn-tags-list>li')])\n",
    "        \n",
    "        # nb likes\n",
    "        recipe.append(soup.select('span.recipe-infos-users__value')[1].text)\n",
    "        \n",
    "        #nb portions\n",
    "        recipe.append([i.text.strip('\\n') for i in soup.select('span.title-2.recipe-infos__quantity__value')])\n",
    "        \n",
    "        # difficulty\n",
    "        recipe.append([i.text.strip('\\n') for i in soup.select('div.recipe-infos__level')])\n",
    "        \n",
    "        #add total cooking time\n",
    "        recipe.append([i.text.strip('\\n') for i in soup.select('div.recipe-infos__timmings__total-time ')])\n",
    "        \n",
    "        # preparation time\n",
    "        recipe.append([i.text.strip('\\n') for i in soup.select('div.recipe-infos__timmings__preparation')])\n",
    "            \n",
    "        # cooking only time\n",
    "        recipe.append([i.text.strip('\\n') for i in soup.select('div.recipe-infos__timmings__cooking')])\n",
    "\n",
    "        # average cost\n",
    "        recipe.append([i.text.strip('\\n') for i in soup.select('div.recipe-infos__budget')])\n",
    "        \n",
    "        # add url\n",
    "        recipe.append(url)\n",
    "        \n",
    "        #ingredients\n",
    "        recipe.extend([i.text.strip('\\n') for i in soup.select('li.recipe-ingredients__list__item')])\n",
    "        \n",
    "        #recipe (text)\n",
    "        recipe.append([i.text.strip('\\n') for i in soup.select('ol.recipe-preparation__list')])\n",
    "        #check\n",
    "        print(recipe)\n",
    "        \n",
    "        list_of_recipes.append(recipe)\n",
    "        recipe=[]\n",
    "    return list_of_recipes\n",
    "\n",
    "Collect_data(recipes_of_all_pages)"
   ]
  },
  {
   "cell_type": "code",
   "execution_count": null,
   "metadata": {},
   "outputs": [],
   "source": []
  },
  {
   "cell_type": "code",
   "execution_count": null,
   "metadata": {},
   "outputs": [],
   "source": []
  },
  {
   "cell_type": "code",
   "execution_count": 47,
   "metadata": {},
   "outputs": [],
   "source": [
    "url='https://www.marmiton.org/recettes/recette_original-american-cookies-de-mike_39907.aspx'"
   ]
  },
  {
   "cell_type": "code",
   "execution_count": 48,
   "metadata": {},
   "outputs": [],
   "source": [
    "soup=BeautifulSoup(r.get(url).content) \n"
   ]
  },
  {
   "cell_type": "code",
   "execution_count": 30,
   "metadata": {},
   "outputs": [
    {
     "name": "stdout",
     "output_type": "stream",
     "text": [
      "['nathan_15813882']\n"
     ]
    }
   ],
   "source": [
    "a=soup.select('div.recipe-author__author>span')[0].text.strip('\\n ')\n",
    "a\n",
    "toto=[]\n",
    "toto.append(a)\n",
    "print(toto)"
   ]
  },
  {
   "cell_type": "code",
   "execution_count": 22,
   "metadata": {},
   "outputs": [],
   "source": [
    "#soup.select('h1','div.recipe-author__author>span','div.recipe-infos-users__rate__stars>span','ul.mrtn-tags-list>li','div.recipe-infos,div.recipe-infos__timmings__detail','span.recipe-infos-users__value','div.recipe-infos__timmings__cooking,div.recipe-infos__timmings__preparation','li.recipe-ingredients__list__item','ol.recipe-preparation__list')"
   ]
  },
  {
   "cell_type": "code",
   "execution_count": null,
   "metadata": {},
   "outputs": [],
   "source": [
    "def create_dataFrame(recipe):\n",
    "  pd.DataFrame(recipe)"
   ]
  },
  {
   "cell_type": "code",
   "execution_count": null,
   "metadata": {},
   "outputs": [],
   "source": [
    "#'d4 = {}' 'for d in (d1, d2, d3): d4.update(d)'"
   ]
  },
  {
   "cell_type": "code",
   "execution_count": null,
   "metadata": {},
   "outputs": [],
   "source": [
    "# Error Handling function"
   ]
  },
  {
   "cell_type": "code",
   "execution_count": null,
   "metadata": {},
   "outputs": [],
   "source": [
    "# Launch function terminal"
   ]
  },
  {
   "cell_type": "code",
   "execution_count": null,
   "metadata": {},
   "outputs": [],
   "source": [
    "url_page='https://www.marmiton.org/recettes/recherche.aspx?type=all&aqt=&start=18&page=2'\n",
    "soup=BeautifulSoup(r.get(url_page).content)\n",
    "[f'https://www.marmiton.org'+i['href'] for i in soup.select('a.recipe-card-link')]"
   ]
  },
  {
   "cell_type": "code",
   "execution_count": null,
   "metadata": {},
   "outputs": [],
   "source": [
    "https://www.marmiton.org/recettes/recette_chouquettes_30622.aspx"
   ]
  },
  {
   "cell_type": "code",
   "execution_count": null,
   "metadata": {},
   "outputs": [],
   "source": [
    "#"
   ]
  }
 ],
 "metadata": {
  "kernelspec": {
   "display_name": "Python 3",
   "language": "python",
   "name": "python3"
  },
  "language_info": {
   "codemirror_mode": {
    "name": "ipython",
    "version": 3
   },
   "file_extension": ".py",
   "mimetype": "text/x-python",
   "name": "python",
   "nbconvert_exporter": "python",
   "pygments_lexer": "ipython3",
   "version": "3.7.6"
  }
 },
 "nbformat": 4,
 "nbformat_minor": 4
}
